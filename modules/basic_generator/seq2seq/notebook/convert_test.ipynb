{
 "metadata": {
  "language_info": {
   "codemirror_mode": {
    "name": "ipython",
    "version": 3
   },
   "file_extension": ".py",
   "mimetype": "text/x-python",
   "name": "python",
   "nbconvert_exporter": "python",
   "pygments_lexer": "ipython3",
   "version": "3.6.2"
  },
  "orig_nbformat": 4,
  "kernelspec": {
   "name": "python3",
   "display_name": "Python 3.6.2 64-bit ('env_py36': conda)"
  },
  "interpreter": {
   "hash": "b3b8e6564cd28fa20f38d28a4c13dd93403fe2911dc44dd775e144d02f733d0c"
  }
 },
 "nbformat": 4,
 "nbformat_minor": 2,
 "cells": [
  {
   "cell_type": "code",
   "execution_count": 1,
   "metadata": {},
   "outputs": [],
   "source": [
    "import jieba"
   ]
  },
  {
   "cell_type": "code",
   "execution_count": 2,
   "metadata": {},
   "outputs": [],
   "source": [
    "all_line = ''\n",
    "with open('../../mrc/cmrc2018/cmrc2018_trial.json', mode='r', encoding='utf-8') as f:\n",
    "    lines = f.readlines()\n",
    "    all_line = ''.join(lines)\n",
    "\n",
    "import json \n",
    "test_data = json.loads(all_line)\n"
   ]
  },
  {
   "cell_type": "code",
   "execution_count": 3,
   "metadata": {
    "tags": []
   },
   "outputs": [
    {
     "output_type": "stream",
     "name": "stdout",
     "text": [
      "{'paragraphs': [{'id': 'TRIAL_800', 'context': '基于《跑跑卡丁车》与《泡泡堂》上所开发的游戏，由韩国Nexon开发与发行。中国大陆由盛大游戏运营，这是Nexon时隔6年再次授予盛大网络其游戏运营权。台湾由游戏橘子运营。玩家以水枪、小枪、锤子或是水炸弹泡封敌人(玩家或NPC)，即为一泡封，将水泡击破为一踢爆。若水泡未在时间内踢爆，则会从水泡中释放或被队友救援(即为一救援)。每次泡封会减少生命数，生命数耗完即算为踢爆。重生者在一定时间内为无敌状态，以踢爆数计分较多者获胜，规则因模式而有差异。以2V2、4V4随机配对的方式，玩家可依胜场数爬牌位(依序为原石、铜牌、银牌、金牌、白金、钻石、大师) ，可选择经典、热血、狙击等模式进行游戏。若游戏中离，则4分钟内不得进行配对(每次中离+4分钟)。开放时间为暑假或寒假期间内不定期开放，8人经典模式随机配对，采计分方式，活动时间内分数越多，终了时可依该名次获得奖励。', 'qas': [{'question': '生命数耗完即算为什么？', 'id': 'TRIAL_800_QUERY_0', 'answers': [{'text': '踢爆', 'answer_start': 127}]}, {'question': '若游戏中离，则多少分钟内不得进行配对？', 'id': 'TRIAL_800_QUERY_1', 'answers': [{'text': '4分钟', 'answer_start': 301}]}, {'question': '玩家用什么泡封敌人？', 'id': 'TRIAL_800_QUERY_2', 'answers': [{'text': '玩家以水枪、小枪、锤子或是水炸弹泡封敌人', 'answer_start': 85}]}, {'question': '游戏的模式有哪些？', 'id': 'TRIAL_800_QUERY_3', 'answers': [{'text': '可选择经典、热血、狙击等模式进行游戏。', 'answer_start': 275}]}]}], 'id': 'TRIAL_800', 'title': '泡泡战士'}\n"
     ]
    }
   ],
   "source": [
    "print(test_data['data'][0])\n"
   ]
  },
  {
   "cell_type": "code",
   "execution_count": 4,
   "metadata": {
    "tags": []
   },
   "outputs": [],
   "source": [
    "pa_list = []\n",
    "\n",
    "for idx in range(len(test_data['data'])):\n",
    "    item = test_data['data'][idx]\n",
    "    # print(item['title'])\n",
    "    # print(item['id'])\n",
    "    # print(item['paragraphs'])\n",
    "    paragraphs = item['paragraphs']\n",
    "    for para in paragraphs:\n",
    "        # print(para['id'])\n",
    "        # print(para['context'])\n",
    "        qas_list = para['qas']\n",
    "        for qas in qas_list:\n",
    "            # print(qas['question'])\n",
    "            # print(qas['id'])\n",
    "            # print(qas['answers'][0]['text'])\n",
    "            pa_list.append(\" \".join(list(para['context'])) + ' ' + '[SEP]' + ' ' + \" \".join(list(qas['question'])))\n",
    "    # print(item['paragraphs'])\n",
    "    # print(item[])"
   ]
  },
  {
   "cell_type": "code",
   "execution_count": 5,
   "metadata": {},
   "outputs": [
    {
     "output_type": "stream",
     "name": "stdout",
     "text": [
      "1002\n"
     ]
    }
   ],
   "source": [
    "print(len(pa_list))"
   ]
  },
  {
   "cell_type": "code",
   "execution_count": 6,
   "metadata": {},
   "outputs": [],
   "source": [
    "q_list = []\n",
    "\n",
    "for idx in range(len(test_data['data'])):\n",
    "    item = test_data['data'][idx]\n",
    "    # print(item['title'])\n",
    "    # print(item['id'])\n",
    "    # print(item['paragraphs'])\n",
    "    paragraphs = item['paragraphs']\n",
    "    for para in paragraphs:\n",
    "        # print(para['id'])\n",
    "        # print(para['context'])\n",
    "        qas_list = para['qas']\n",
    "        for qas in qas_list:\n",
    "            # print(qas['question'])\n",
    "            # print(qas['id'])\n",
    "            # print(qas['answers'][0]['text'])\n",
    "            # pa_list.append(para['context'] + ' ' + '[SEP]' + ' ' + qas['question'])\n",
    "            q_list.append(\" \".join(list(qas['question'])))\n",
    "    # print(item['paragraphs'])\n",
    "    # print(item[])"
   ]
  },
  {
   "cell_type": "code",
   "execution_count": 7,
   "metadata": {},
   "outputs": [
    {
     "output_type": "stream",
     "name": "stdout",
     "text": [
      "1002\n"
     ]
    }
   ],
   "source": [
    "print(len(q_list))"
   ]
  },
  {
   "cell_type": "code",
   "execution_count": 8,
   "metadata": {},
   "outputs": [],
   "source": [
    "with open('test_q_list.txt', mode='w', encoding='utf-8') as f:\n",
    "    for line in q_list:\n",
    "        f.write(line.strip() + '\\n')"
   ]
  },
  {
   "cell_type": "code",
   "execution_count": 9,
   "metadata": {},
   "outputs": [],
   "source": [
    "with open('test_pa_list.txt', mode='w', encoding='utf-8') as f:\n",
    "    for line in pa_list:\n",
    "        f.write(line.strip() + '\\n')"
   ]
  },
  {
   "cell_type": "code",
   "execution_count": null,
   "metadata": {},
   "outputs": [],
   "source": []
  }
 ]
}