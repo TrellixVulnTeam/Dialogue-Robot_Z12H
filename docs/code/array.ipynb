{
 "cells": [
  {
   "cell_type": "code",
   "execution_count": 38,
   "source": [
    "import numpy as np\n",
    "array = np.random.randint(-20, 20, [5])\n",
    "array = array.tolist()\n",
    "print(array)"
   ],
   "outputs": [
    {
     "output_type": "stream",
     "name": "stdout",
     "text": [
      "[18, -4, -12, 17, -16]\n"
     ]
    }
   ],
   "metadata": {}
  },
  {
   "cell_type": "code",
   "execution_count": 39,
   "source": [
    "# 找到最大和最小数\n",
    "# A : 取单元素：分别找最大和最小 2N\n",
    "# B : 取双元素(0.5N),双元素区别大小(1)，大与Max比(1)，小与min比(1) （0.5N * (1 + 1 + 1)）\n",
    "# C : 分治 数组分成两半,分别取两半的最小值和最大值（最终结果在左半最小值，右半最小值，左半最大值，右半最大值 间 产生）\n",
    "\n",
    "def find_max_min(array):\n",
    "    min_all, max_all = 0, 0\n",
    "    for idx in range(len(array)//2): # TODO 奇数的处理不了\n",
    "        print(idx)\n",
    "        max_all = max(array[2*idx], array[2*idx + 1], max_all)\n",
    "        min_all = min(array[2*idx], array[2*idx + 1], min_all)\n",
    "    return min_all, max_all\n",
    "\n",
    "print(find_max_min(array=array))\n",
    "    "
   ],
   "outputs": [
    {
     "output_type": "stream",
     "name": "stdout",
     "text": [
      "0\n",
      "1\n",
      "(-12, 18)\n"
     ]
    }
   ],
   "metadata": {}
  },
  {
   "cell_type": "code",
   "execution_count": 40,
   "source": [
    "# 找到数组中第二大的值\n",
    "# A : 快速排序 O(nlogn) + 找第二个 O(n)\n",
    "# B : 双变量 分别存储最大数和次大数\n",
    "\n",
    "sort_array = sorted(array, reverse=False) # sorted 是函数，默认升序\n",
    "print(sort_array[-2])"
   ],
   "outputs": [
    {
     "output_type": "stream",
     "name": "stdout",
     "text": [
      "17\n"
     ]
    }
   ],
   "metadata": {}
  },
  {
   "cell_type": "code",
   "execution_count": 41,
   "source": [
    "# 最大子数组之和\n",
    "# Leetcode 53 最大子数组\n",
    "\n",
    "# 暴力\n",
    "# 重复利用已经计算的子数组和\n",
    "# 动态规划\n",
    "# 优化的动态规划\n",
    "\n",
    "# if not array:\n",
    "#    print('not array')\n",
    "# cur 之前的结果\n",
    "# res 总结果\n",
    "res = cur = array[0]  # 初始化\n",
    "for idx in range(1, len(array)):\n",
    "    if cur > 0 :\n",
    "        cur =  array[idx] + cur\n",
    "    else:\n",
    "        cur = array[idx]\n",
    "    res = max(cur, res)\n",
    "print(res)"
   ],
   "outputs": [
    {
     "output_type": "stream",
     "name": "stdout",
     "text": [
      "19\n"
     ]
    }
   ],
   "metadata": {}
  },
  {
   "cell_type": "code",
   "execution_count": 42,
   "source": [
    "# Leetcode 907 最小子数组\n",
    "# pass\n",
    "# def sumSubarrayMins(array):\n",
    "#     MOD = 1e9 + 7\n",
    "#     A = array\n",
    "#     n = len(array)\n",
    "#     pre = [0] * n\n",
    "#     nxt = [0] * n\n",
    "#     sp = []\n",
    "#     sn = []\n",
    "#     for i in range(n):\n",
    "#         while len(sp) != 0 and A[sp[-1]] >= A[i]:\n",
    "#             sp.pop()\n",
    "#         pre[i] = i + 1 if len(sp) == 0 else i - sp[-1]\n",
    "#         sp.append(i)\n",
    "    \n",
    "#     for i in range(n-1, -1, -1):\n",
    "#         while len(sn) != 0 and A[sn[-1]] > A[i]:\n",
    "#             sn.pop()\n",
    "#         nxt[i] = n - i if len(sn) == 0 else sn[-1] - i\n",
    "#         sn.append(i)\n",
    "    \n",
    "#     res = sum([pre[i] * nxt[i] * A[i] for i in range(n)]) % MOD\n",
    "#     return int(res)\n",
    "# sumSubarrayMins(array)"
   ],
   "outputs": [],
   "metadata": {}
  },
  {
   "cell_type": "code",
   "execution_count": 43,
   "source": [
    "# Leetcode 152 乘积最大的子数组\n",
    "def maxProduct(nums):\n",
    "    max_ = p_min = p_max = nums[0]\n",
    "    for i in range(1,len(nums)):\n",
    "        if nums[i]<0: # 当前数小于零\n",
    "            p_max,p_min = p_min,p_max\n",
    "        p_max = max(p_max*nums[i],nums[i])\n",
    "        p_min = min(p_min*nums[i],nums[i])\n",
    "        max_ = max(max_,p_max)\n",
    "    return max_\n",
    "print(maxProduct(array))"
   ],
   "outputs": [
    {
     "output_type": "stream",
     "name": "stdout",
     "text": [
      "14688\n"
     ]
    }
   ],
   "metadata": {}
  },
  {
   "cell_type": "code",
   "execution_count": 44,
   "source": [
    "# Leetcode2 两数相加等于20\n",
    "# + 排序法\n",
    "#  + 快速排序 O(nlogn)\n",
    "#  + 双下标\n",
    "#    + arr[end] + arr[begin] < 20\n",
    "#      + begin ++\n",
    "#  + arr[end] + arr[begin] > 20\n",
    "#    + end --"
   ],
   "outputs": [],
   "metadata": {}
  },
  {
   "cell_type": "code",
   "execution_count": 45,
   "source": [
    "# Leetcode 189 数组向右移动K位\n",
    "# + 12345 右移 2 位\n",
    "# + 123 和 45 的顺序不变\n",
    "# + 每个部分反转 ： 321 54\n",
    "# + 整体反转 ： 45 123\n",
    "\n",
    "def rotate(nums, k: int) -> None:\n",
    "    \"\"\"\n",
    "    Do not return anything, modify nums in-place instead.\n",
    "    \"\"\"\n",
    "    n = len(nums)\n",
    "    k = k % n\n",
    "    nums[:] = nums[n - k:] + nums[:n - k]\n",
    "print(array)\n",
    "rotate(array, 200)"
   ],
   "outputs": [
    {
     "output_type": "stream",
     "name": "stdout",
     "text": [
      "[18, -4, -12, 17, -16]\n"
     ]
    }
   ],
   "metadata": {}
  },
  {
   "cell_type": "code",
   "execution_count": null,
   "source": [
    "# 第K个最小的数\n",
    "# + 排序法\n",
    "#  + 快排 + 查找\n",
    "#   + 时间复杂度 O(nlogn) 空间复杂度 O(logn)\n",
    "#  + 快速选择 TODO 平均时间复杂度 O(n)\n",
    "#   + 选一个数tmp做参考值，比它小的放左边，比它大的放右边\n",
    "#    + 检查 tmp 的 位置 是否是 k-1\n",
    "#   + 如果是 返回 tmp\n",
    "#   + 如果tmp小于 k-1, 则检索tmp 的右半部分\n",
    "#   + 如果tmp大于 k-1, 则检索左半部分\n",
    "# + 堆\n",
    "#    + 时间复杂度 O(nlogk)\n",
    "\n",
    "def quick_search(array, k):\n",
    "    \n"
   ],
   "outputs": [],
   "metadata": {}
  },
  {
   "cell_type": "code",
   "execution_count": 48,
   "source": [
    "# Leetcode 136 数组中只出现一次的数\n",
    "# 相同的数，用异或或变成0\n",
    "# 然后这个数和另一个数做异或，就还是这个数\n",
    "# 根据结合律，a^(a^c) = (a^a)^c，所以不断地做异或，最后的一定是只出现过一次的那个数字\n",
    "\n",
    "# 作者：bluegreenred\n",
    "# 链接：https://leetcode-cn.com/problems/single-number/solution/136-zhi-chu-xian-yi-ci-de-shu-zi-python-2va90/\n",
    "# 来源：力扣（LeetCode）\n",
    "# 著作权归作者所有。商业转载请联系作者获得授权，非商业转载请注明出处。\n",
    "\n",
    "array = [0,1,1,2,2,3,0]\n",
    "def singleNumber(nums):\n",
    "    ans = nums[0]\n",
    "    for i in range(1, len(nums)):\n",
    "        ans = ans ^ nums[i] # 异或 TODO pyton 异或的原理是什么\n",
    "    return ans\n",
    "print(singleNumber(array))"
   ],
   "outputs": [
    {
     "output_type": "stream",
     "name": "stdout",
     "text": [
      "3\n"
     ]
    }
   ],
   "metadata": {}
  },
  {
   "cell_type": "code",
   "execution_count": null,
   "source": [
    "# 绝对值 最小的数\n",
    "# 排序 后 二分查找 找到符号变化点，之后比较符号变化点附近的数"
   ],
   "outputs": [],
   "metadata": {}
  }
 ],
 "metadata": {
  "orig_nbformat": 4,
  "language_info": {
   "name": "python",
   "version": "3.6.13",
   "mimetype": "text/x-python",
   "codemirror_mode": {
    "name": "ipython",
    "version": 3
   },
   "pygments_lexer": "ipython3",
   "nbconvert_exporter": "python",
   "file_extension": ".py"
  },
  "kernelspec": {
   "name": "python3",
   "display_name": "Python 3.6.13 64-bit ('env_bot': conda)"
  },
  "interpreter": {
   "hash": "d157ae46664ef61827425b1700af4733ccc165bd48e667b428e957754f1cdd7e"
  }
 },
 "nbformat": 4,
 "nbformat_minor": 2
}