{
 "cells": [
  {
   "cell_type": "markdown",
   "metadata": {},
   "source": [
    "# DP\n",
    "\n",
    "### 序列、字符串\n",
    "+ 53 最大子序列和\n",
    "+ 64 最小路径和\n",
    "+ 152 乘积最大连续子数组\n",
    "+ 300 最长递增子序列\n",
    "+ \n"
   ]
  },
  {
   "cell_type": "markdown",
   "metadata": {},
   "source": [
    "### Leetcode 53 最大子数组和\n",
    "+ 给你一个整数数组 nums ，请你找出一个具有最大和的连续子数组（子数组最少包含一个元素），返回其最大和\n",
    "+ 子数组 是数组中的一个连续部分\n",
    "+ 输入：nums = [-2,1,-3,4,-1,2,1,-5,4]\n",
    "+ 输出：6\n",
    "+ 解释：连续子数组 [4,-1,2,1] 的和最大，为 6 "
   ]
  },
  {
   "cell_type": "code",
   "execution_count": 8,
   "metadata": {},
   "outputs": [
    {
     "name": "stdout",
     "output_type": "stream",
     "text": [
      "6\n"
     ]
    }
   ],
   "source": [
    "def maxSubArray(nums):\n",
    "    if max(nums) < 0:\n",
    "        return max(nums)\n",
    "    local_max, global_max = 0, 0\n",
    "    for item in nums:\n",
    "        local_max = max(0, local_max + item) # 小于0 不要了，大于0 保存\n",
    "        global_max = max(global_max, local_max)\n",
    "    return global_max\n",
    "nums = [-2,1,-3,4,-1,2,1,-5,4]\n",
    "print(maxSubArray(nums))"
   ]
  },
  {
   "cell_type": "markdown",
   "metadata": {},
   "source": [
    "### Leetcode 64 最小路径和\n",
    "+ 给定一个包含非负整数的 m x n 网格 grid ，请找出一条从左上角到右下角的路径，使得路径上的数字总和为最小。\n",
    "+ 说明：每次只能向下或者向右移动一步。"
   ]
  },
  {
   "cell_type": "code",
   "execution_count": 9,
   "metadata": {},
   "outputs": [],
   "source": [
    "class Solution:\n",
    "    def minPathSum(self, grid) -> int:\n",
    "        if not grid or not grid[0]:\n",
    "            return 0\n",
    "        rows, columns = len(grid), len(grid[0])\n",
    "        dp = [[0] * columns for _ in range(rows)]\n",
    "        dp[0][0] = grid[0][0]\n",
    "        for i in range(1, rows):\n",
    "            dp[i][0] = dp[i - 1][0] + grid[i][0]\n",
    "        for j in range(1, columns):\n",
    "            dp[0][j] = dp[0][j - 1] + grid[0][j]\n",
    "        for i in range(1, rows):\n",
    "            for j in range(1, columns):\n",
    "                dp[i][j] = min(dp[i - 1][j], dp[i][j - 1]) + grid[i][j]\n",
    "        return dp[rows - 1][columns - 1]"
   ]
  },
  {
   "cell_type": "markdown",
   "metadata": {},
   "source": [
    "### Leetcode 300 最长递增子序列\n",
    "+ 输入：nums = [10,9,2,5,3,7,101,18]\n",
    "+ 输出：4\n",
    "+ 解释：最长递增子序列是 [2,3,7,101]，因此长度为 4 。"
   ]
  },
  {
   "cell_type": "code",
   "execution_count": 10,
   "metadata": {},
   "outputs": [
    {
     "name": "stdout",
     "output_type": "stream",
     "text": [
      "4\n"
     ]
    }
   ],
   "source": [
    "def lengthOfLIS(nums) :\n",
    "    if not nums: return 0\n",
    "    dp = [1] * len(nums)\n",
    "    for i in range(len(nums)):\n",
    "        for j in range(i):\n",
    "            if nums[j] < nums[i]: # 如果要求非严格递增，将此行 '<' 改为 '<=' 即可。\n",
    "                dp[i] = max(dp[i], dp[j] + 1)\n",
    "    return max(dp)\n",
    "nums = [10,9,2,5,3,7,101,18]\n",
    "print(lengthOfLIS(nums))\n"
   ]
  },
  {
   "cell_type": "markdown",
   "metadata": {},
   "source": [
    "### Leetcode 152\n",
    "+ 给你一个整数数组 nums ，请你找出数组中乘积最大的连续子数组（该子数组中至少包含一个数字），并返回该子数组所对应的乘积。\n",
    "+ 输入: [2,3,-2,4]\n",
    "+ 输出: 6\n",
    "+ 解释: 子数组 [2,3] 有最大乘积 6。"
   ]
  },
  {
   "cell_type": "code",
   "execution_count": 11,
   "metadata": {},
   "outputs": [
    {
     "data": {
      "text/plain": [
       "6"
      ]
     },
     "execution_count": 11,
     "metadata": {},
     "output_type": "execute_result"
    }
   ],
   "source": [
    "def check(nums):\n",
    "    last_min = nums[0]\n",
    "    last_max = nums[0]\n",
    "    all_max = -1e9\n",
    "    for idx, num in enumerate(nums):\n",
    "        if idx == 0:\n",
    "            continue\n",
    "        if num > 0:\n",
    "            if num * last_max > all_max:\n",
    "                all_max = num * last_max\n",
    "            last_max = max(num, num * last_max, num * last_min)\n",
    "            last_min = min(num , num * last_max, num * last_min)\n",
    "        if num < 0:\n",
    "            if num * last_min > all_max:\n",
    "                all_max = num * last_min\n",
    "            last_max = max(num, num * last_max, num * last_min)\n",
    "            last_min = min(num , num * last_max, num * last_min)\n",
    "        if num == 0:\n",
    "            last_min = -1\n",
    "            last_max = 1\n",
    "    return all_max\n",
    "\n",
    "nums = [2,3,-2,4]\n",
    "check(nums)"
   ]
  },
  {
   "cell_type": "markdown",
   "metadata": {},
   "source": [
    "# Leetcode 5 回文子串"
   ]
  },
  {
   "cell_type": "code",
   "execution_count": 9,
   "metadata": {},
   "outputs": [
    {
     "name": "stdout",
     "output_type": "stream",
     "text": [
      "bab\n"
     ]
    }
   ],
   "source": [
    "def longestPalindrome(s):\n",
    "    results = ''\n",
    "    def check(i, j):\n",
    "        while i > -1 and j < len(s) and s[i] == s[j]:\n",
    "            i -= 1\n",
    "            j += 1\n",
    "        i += 1\n",
    "        j -= 1\n",
    "        # print(i)\n",
    "        # print(j)\n",
    "        # print(s[i:j+1])\n",
    "        return s[i:j+1]\n",
    "    \n",
    "    for idx in range(0, len(s)-1):\n",
    "        tmp = check(idx, idx+1)\n",
    "        # print(tmp)\n",
    "        if len(tmp) > len(results):\n",
    "            results = tmp\n",
    "        tmp_1 = check(idx, idx)\n",
    "        # print(tmp_1)\n",
    "        if len(tmp_1) > len(results):\n",
    "            results = tmp_1\n",
    "    return results\n",
    "\n",
    "print(longestPalindrome('babad'))"
   ]
  }
 ],
 "metadata": {
  "interpreter": {
   "hash": "8d61a6616252b3c7e06d3a89d41737d9aaf0386b42a7dc0df77fb5487c3d5e32"
  },
  "kernelspec": {
   "display_name": "Python 3.8.5 ('base')",
   "language": "python",
   "name": "python3"
  },
  "language_info": {
   "codemirror_mode": {
    "name": "ipython",
    "version": 3
   },
   "file_extension": ".py",
   "mimetype": "text/x-python",
   "name": "python",
   "nbconvert_exporter": "python",
   "pygments_lexer": "ipython3",
   "version": "3.8.5"
  },
  "orig_nbformat": 4
 },
 "nbformat": 4,
 "nbformat_minor": 2
}
