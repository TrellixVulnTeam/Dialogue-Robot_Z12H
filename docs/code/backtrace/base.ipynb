{
 "cells": [
  {
   "cell_type": "code",
   "execution_count": null,
   "source": [
    "# 子集 Leetcode 77\n",
    "def func(nums, i, path, res):\n",
    "    # if not nums:\n",
    "        # return\n",
    "    res.append(path[:])\n",
    "    for idx in range(i, len(nums)):\n",
    "        path.append(nums[idx])\n",
    "        # 子集\n",
    "        func(nums, idx + 1, path, res)\n",
    "        path.pop()\n",
    "res = []\n",
    "nums = [1,2,3]\n",
    "func(nums, 0, [], res)\n",
    "print(res)"
   ],
   "outputs": [],
   "metadata": {}
  },
  {
   "cell_type": "code",
   "execution_count": null,
   "source": [
    "# 子集 包含重复元素 Leetcode 90"
   ],
   "outputs": [],
   "metadata": {}
  },
  {
   "cell_type": "code",
   "execution_count": null,
   "source": [
    "# 组合 无重复元素 Leetcode 39\n",
    "def combine(n: int, k: int):\n",
    "    def dfs(nums, idx,  target, path, res):\n",
    "        if target == 0:\n",
    "            res.append(path[:])\n",
    "            return\n",
    "        if target < 0:\n",
    "            return \n",
    "        for _idx in range(idx, len(nums)):\n",
    "            # path.append(nums[_idx])\n",
    "            # 组合\n",
    "            dfs(nums, idx+1, target - nums[_idx], path + [nums[_idx]], res)\n",
    "            # path.pop()\n",
    "    res = []\n",
    "    nums = list(range(n))\n",
    "    target = k\n",
    "    dfs(nums, 0, target, [], res)\n",
    "    return res\n",
    "combine(4, 9)"
   ],
   "outputs": [],
   "metadata": {}
  },
  {
   "cell_type": "code",
   "execution_count": null,
   "source": [
    "# 组合 有重复元素 Leetcode 40 \n",
    "def combinationSum2(self, candidates, target: int):\n",
    "    def dfs(begin, path, residue):\n",
    "\n",
    "        if residue == 0:\n",
    "            res.append(path[:])\n",
    "            return\n",
    "        for index in range(begin, size):\n",
    "            if candidates[index] > residue:\n",
    "                break\n",
    "            if index > begin and candidates[index - 1] == candidates[index]:\n",
    "                continue\n",
    "            path.append(candidates[index]) # 加一个元素\n",
    "            dfs(index + 1, path, residue - candidates[index]) # 找结果\n",
    "            path.pop() # 出一个元素\n",
    "\n",
    "    size = len(candidates)\n",
    "    if size == 0:\n",
    "        return []\n",
    "\n",
    "    candidates.sort() # 排序\n",
    "    res = []\n",
    "    dfs(0, [], target)\n",
    "    return res"
   ],
   "outputs": [],
   "metadata": {}
  },
  {
   "cell_type": "code",
   "execution_count": null,
   "source": [
    "# 排列 k 个长度的\n",
    "\n"
   ],
   "outputs": [],
   "metadata": {}
  },
  {
   "cell_type": "code",
   "execution_count": null,
   "source": [
    "def permuteUnique(nums):\n",
    "\n",
    "\tif not nums:\n",
    "\t\treturn []\n",
    "\tnums.sort()\n",
    "\tn = len(nums)\n",
    "\tvisited = [0] * n\n",
    "\tres = []\n",
    "\n",
    "\t# def helper1(temp_list, length):\n",
    "\t# \t# if length == n and temp_list not in res:\n",
    "\t# \t# \tres.append(temp_list)\n",
    "\t# \tif length == n:\n",
    "\t# \t\tres.append(temp_list)\n",
    "\t# \tfor i in range(n):\n",
    "\t# \t\tif visited[i] or (i > 0 and nums[i] == nums[i - 1] and not visited[i - 1]):\n",
    "\t# \t\t\tcontinue\n",
    "\t# \t\tvisited[i] = 1\n",
    "\t# \t\thelper1(temp_list + [nums[i]], length + 1)\n",
    "\t# \t\tvisited[i] = 0\n",
    "\n",
    "\tdef helper2(nums, temp_list, length):\n",
    "\t\tif length == n and temp_list not in res:\n",
    "\t\t\tres.append(temp_list)\n",
    "\t\tfor i in range(len(nums)):\n",
    "\t\t\thelper2(nums[:i] + nums[i + 1:], temp_list + [nums[i]], length + 1)\n",
    "\n",
    "\t# helper1([],0)\n",
    "\thelper2(nums, [], 0)\n",
    "\treturn res"
   ],
   "outputs": [],
   "metadata": {}
  },
  {
   "cell_type": "code",
   "execution_count": 6,
   "source": [
    "# 排列 nums 中 无重复元素 Leetcode 46\n",
    "def permute(nums):\n",
    "    if not nums:\n",
    "        return\n",
    "    res = []\n",
    "    n = len(nums)\n",
    "    # visited = [0] * n\n",
    "    # def helper1(temp_list,length):\n",
    "    #     if length == n:\n",
    "    #         res.append(temp_list)\n",
    "    #     for i in range(n):\n",
    "    #         if visited[i] :\n",
    "    #             continue\n",
    "    #         visited[i] = 1\n",
    "    #         helper1(temp_list+[nums[i]],length+1)\n",
    "    #         visited[i] = 0\n",
    "    def helper2(nums,temp_list,length):\n",
    "        if length == n:\n",
    "            res.append(temp_list)\n",
    "        for i in range(len(nums)):\n",
    "            helper2(nums[:i]+nums[i+1:],temp_list+[nums[i]],length+1)\n",
    "    helper2(nums, [],0)\n",
    "    return res\n",
    "print(permute([1,1,3]))"
   ],
   "outputs": [
    {
     "output_type": "stream",
     "name": "stdout",
     "text": [
      "[[1, 1, 3], [1, 3, 1], [1, 1, 3], [1, 3, 1], [3, 1, 1], [3, 1, 1]]\n"
     ]
    }
   ],
   "metadata": {}
  }
 ],
 "metadata": {
  "orig_nbformat": 4,
  "language_info": {
   "name": "python",
   "version": "3.6.13",
   "mimetype": "text/x-python",
   "codemirror_mode": {
    "name": "ipython",
    "version": 3
   },
   "pygments_lexer": "ipython3",
   "nbconvert_exporter": "python",
   "file_extension": ".py"
  },
  "kernelspec": {
   "name": "python3",
   "display_name": "Python 3.6.13 64-bit ('env_bot': conda)"
  },
  "interpreter": {
   "hash": "d157ae46664ef61827425b1700af4733ccc165bd48e667b428e957754f1cdd7e"
  }
 },
 "nbformat": 4,
 "nbformat_minor": 2
}