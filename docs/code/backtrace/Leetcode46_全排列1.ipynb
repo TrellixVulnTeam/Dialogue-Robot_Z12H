{
 "cells": [
  {
   "cell_type": "code",
   "execution_count": null,
   "metadata": {},
   "outputs": [],
   "source": [
    "# 方式1 递归的方式\n",
    "class Solution(object):\n",
    "    def permute(self, nums):\n",
    "        \"\"\"\n",
    "        :type nums: List[int]\n",
    "        :rtype: List[List[int]]\n",
    "        \"\"\"\n",
    "        if not nums:\n",
    "            return\n",
    "        res = []\n",
    "        n = len(nums)\n",
    "        def helper2(nums,temp_list,length):\n",
    "            if length == n:\n",
    "                res.append(temp_list)\n",
    "            for i in range(len(nums)):\n",
    "                helper2(nums[:i]+nums[i+1:],temp_list+[nums[i]],length+1)\n",
    "        helper2([],0)\n",
    "        return res\n",
    "\n",
    "# 作者：powcai\n",
    "# 链接：https://leetcode-cn.com/problems/subsets/solution/hui-su-suan-fa-by-powcai-5/\n",
    "# 来源：力扣（LeetCode）\n",
    "# 著作权归作者所有。商业转载请联系作者获得授权，非商业转载请注明出处。"
   ]
  },
  {
   "cell_type": "code",
   "execution_count": 3,
   "metadata": {},
   "outputs": [
    {
     "name": "stdout",
     "output_type": "stream",
     "text": [
      "[[1, 2, 3], [1, 3, 2], [2, 1, 3], [2, 3, 1], [3, 2, 1], [3, 1, 2]]\n"
     ]
    }
   ],
   "source": [
    "# 方式2 交换的方式\n",
    "\n",
    "res = []\n",
    "\n",
    "def func(nums, idx, path, res):\n",
    "    if idx == len(nums):\n",
    "        res.append(path)\n",
    "    \n",
    "    for idx_tmp in range(idx, len(nums)):\n",
    "        nums[idx_tmp], nums[idx] = nums[idx], nums[idx_tmp]\n",
    "        func(nums, idx+1, path + [nums[idx]] , res)\n",
    "        nums[idx], nums[idx_tmp] = nums[idx_tmp], nums[idx]\n",
    "\n",
    "nums = [1,2,3]\n",
    "func(nums, 0, [], res)\n",
    "print(res)\n"
   ]
  }
 ],
 "metadata": {
  "interpreter": {
   "hash": "8d61a6616252b3c7e06d3a89d41737d9aaf0386b42a7dc0df77fb5487c3d5e32"
  },
  "kernelspec": {
   "display_name": "Python 3.8.5 ('base')",
   "language": "python",
   "name": "python3"
  },
  "language_info": {
   "codemirror_mode": {
    "name": "ipython",
    "version": 3
   },
   "file_extension": ".py",
   "mimetype": "text/x-python",
   "name": "python",
   "nbconvert_exporter": "python",
   "pygments_lexer": "ipython3",
   "version": "3.8.5"
  },
  "orig_nbformat": 4
 },
 "nbformat": 4,
 "nbformat_minor": 2
}
