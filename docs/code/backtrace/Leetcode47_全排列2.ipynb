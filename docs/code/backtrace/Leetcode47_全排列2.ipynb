{
 "cells": [
  {
   "cell_type": "code",
   "execution_count": null,
   "metadata": {},
   "outputs": [],
   "source": [
    "class Solution(object):\n",
    "    def permuteUnique(self, nums):\n",
    "        \"\"\"\n",
    "        :type nums: List[int]\n",
    "        :rtype: List[List[int]]\n",
    "        \"\"\"\n",
    "        if not nums:\n",
    "\t\t\treturn []\n",
    "\t\tnums.sort()\n",
    "\t\tn = len(nums)\n",
    "\t\tvisited = [0] * n\n",
    "\t\tres = []\n",
    "\n",
    "\t\t# def helper1(temp_list, length):\n",
    "\t\t# \t# if length == n and temp_list not in res:\n",
    "\t\t# \t# \tres.append(temp_list)\n",
    "\t\t# \tif length == n:\n",
    "\t\t# \t\tres.append(temp_list)\n",
    "\t\t# \tfor i in range(n):\n",
    "\t\t# \t\tif visited[i] or (i > 0 and nums[i] == nums[i - 1] and not visited[i - 1]):\n",
    "\t\t# \t\t\tcontinue\n",
    "\t\t# \t\tvisited[i] = 1\n",
    "\t\t# \t\thelper1(temp_list + [nums[i]], length + 1)\n",
    "\t\t# \t\tvisited[i] = 0\n",
    "\n",
    "\t\tdef helper2(nums, temp_list, length):\n",
    "\t\t\tif length == n and temp_list not in res:\n",
    "\t\t\t\tres.append(temp_list)\n",
    "\t\t\tfor i in range(len(nums)):\n",
    "\t\t\t\thelper2(nums[:i] + nums[i + 1:], temp_list + [nums[i]], length + 1)\n",
    "\n",
    "\t\thelper2([],0)\n",
    "\t\t# helper2(nums, [], 0)\n",
    "\t\treturn res\n",
    "\n",
    "# 作者：powcai\n",
    "# 链接：https://leetcode-cn.com/problems/subsets/solution/hui-su-suan-fa-by-powcai-5/\n",
    "# 来源：力扣（LeetCode）\n",
    "# 著作权归作者所有。商业转载请联系作者获得授权，非商业转载请注明出处。"
   ]
  }
 ],
 "metadata": {
  "language_info": {
   "name": "python"
  },
  "orig_nbformat": 4
 },
 "nbformat": 4,
 "nbformat_minor": 2
}
