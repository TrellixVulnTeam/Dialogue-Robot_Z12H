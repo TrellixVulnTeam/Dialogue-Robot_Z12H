{
 "cells": [
  {
   "cell_type": "code",
   "execution_count": 7,
   "metadata": {},
   "outputs": [
    {
     "name": "stdout",
     "output_type": "stream",
     "text": [
      "[[1, 2, 3], [1, 3, 2], [2, 1, 3], [2, 3, 1], [3, 1, 2], [3, 2, 1]]\n"
     ]
    }
   ],
   "source": [
    "# Permutations\n",
    "# Solution 1 : Recursive, take any number as first\n",
    "# Take any number as the first number and append any permutation of the other numbers.\n",
    "def permute(nums):\n",
    "    return [[n] + p for i, n in enumerate(nums) for p in permute(nums[:i] + nums[i+1:])] or [[]]\n",
    "\n",
    "l = [1, 2, 3]\n",
    "print(permute(l))"
   ]
  },
  {
   "cell_type": "code",
   "execution_count": 1,
   "metadata": {},
   "outputs": [
    {
     "name": "stdout",
     "output_type": "stream",
     "text": [
      "[]\n"
     ]
    }
   ],
   "source": [
    "def permute(nums):\n",
    "    return [[n] + p for i, n in enumerate(nums) for p in permute(nums[:i] + nums[i+1:])]\n",
    "\n",
    "l = [1,2,3]\n",
    "print(permute(l))"
   ]
  },
  {
   "cell_type": "code",
   "execution_count": 2,
   "metadata": {},
   "outputs": [
    {
     "name": "stdout",
     "output_type": "stream",
     "text": [
      "[[1, 2, 3], [2, 1, 3], [2, 3, 1], [1, 3, 2], [3, 1, 2], [3, 2, 1]]\n"
     ]
    }
   ],
   "source": [
    "# Solution 2: Recursive, insert first number anywhere\n",
    "# Insert the first number anywhere in any permutation of the remaining numbers.\n",
    "def permute(nums):\n",
    "    return nums and [p[:i] + [nums[0]] + p[i:]\n",
    "                     for p in permute(nums[1:])\n",
    "                     for i in range(len(nums))] or [[]]\n",
    "l = [1, 2, 3]\n",
    "print(permute(l))"
   ]
  },
  {
   "cell_type": "code",
   "execution_count": 6,
   "metadata": {},
   "outputs": [
    {
     "name": "stdout",
     "output_type": "stream",
     "text": [
      "[[3, 2, 1], [2, 3, 1], [2, 1, 3], [3, 1, 2], [1, 3, 2], [1, 2, 3]]\n"
     ]
    }
   ],
   "source": [
    "# Solution 3: Reduce, insert next number anywhere\n",
    "# Use reduce to insert the next number anywhere in the already built permutations.\n",
    "import functools \n",
    "\n",
    "def permute(nums):\n",
    "    return functools.reduce(lambda P, n: [p[:i] + [n] + p[i:]\n",
    "                                for p in P for i in range(len(p)+1)],\n",
    "                  nums, [[]])\n",
    "l = [1, 2, 3]\n",
    "print(permute(l))"
   ]
  }
 ],
 "metadata": {
  "kernelspec": {
   "display_name": "Python 3",
   "language": "python",
   "name": "python3"
  },
  "language_info": {
   "codemirror_mode": {
    "name": "ipython",
    "version": 3
   },
   "file_extension": ".py",
   "mimetype": "text/x-python",
   "name": "python",
   "nbconvert_exporter": "python",
   "pygments_lexer": "ipython3",
   "version": "3.8.5"
  }
 },
 "nbformat": 4,
 "nbformat_minor": 2
}
