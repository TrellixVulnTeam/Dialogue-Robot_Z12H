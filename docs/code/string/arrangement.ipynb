{
 "cells": [
  {
   "cell_type": "code",
   "execution_count": null,
   "source": [
    "tmp = 'abc'\n",
    "\n",
    "# 无重复元素\n",
    "def arrangement(text, results, path):\n",
    "    for idx, cha in enumerate(text)：\n",
    "        if idx == len(text) -1:\n",
    "            return cha\n",
    "        arrangement(cha + text[idx+1:])\n"
   ],
   "outputs": [],
   "metadata": {}
  }
 ],
 "metadata": {
  "orig_nbformat": 4,
  "language_info": {
   "name": "python"
  }
 },
 "nbformat": 4,
 "nbformat_minor": 2
}