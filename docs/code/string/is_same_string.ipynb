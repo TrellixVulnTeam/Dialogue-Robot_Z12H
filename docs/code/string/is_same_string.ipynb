{
 "cells": [
  {
   "cell_type": "code",
   "execution_count": 3,
   "source": [
    "tmp_1 = 'abc'\n",
    "tmp_2 = 'cba5'\n",
    "\n",
    "def check(_a, _b):\n",
    "    count_list_a = [0]*256\n",
    "    count_list_b = [0]*256\n",
    "    for item in _a:\n",
    "        count_list_a[ord(item)] = 1\n",
    "    for item in _b:\n",
    "        count_list_b[ord(item)] = 1\n",
    "    \n",
    "    return count_list_a == count_list_b\n",
    "check(tmp_1, tmp_2)"
   ],
   "outputs": [
    {
     "output_type": "execute_result",
     "data": {
      "text/plain": [
       "False"
      ]
     },
     "metadata": {},
     "execution_count": 3
    }
   ],
   "metadata": {}
  }
 ],
 "metadata": {
  "orig_nbformat": 4,
  "language_info": {
   "name": "python",
   "version": "3.6.13",
   "mimetype": "text/x-python",
   "codemirror_mode": {
    "name": "ipython",
    "version": 3
   },
   "pygments_lexer": "ipython3",
   "nbconvert_exporter": "python",
   "file_extension": ".py"
  },
  "kernelspec": {
   "name": "python3",
   "display_name": "Python 3.6.13 64-bit ('env_bot': conda)"
  },
  "interpreter": {
   "hash": "d157ae46664ef61827425b1700af4733ccc165bd48e667b428e957754f1cdd7e"
  }
 },
 "nbformat": 4,
 "nbformat_minor": 2
}