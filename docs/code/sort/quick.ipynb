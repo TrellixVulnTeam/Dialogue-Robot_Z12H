{
 "cells": [
  {
   "cell_type": "code",
   "execution_count": null,
   "source": [
    "# 方法1 迭代\n",
    "\n",
    "def partition(arr,low,high): \n",
    "    i = ( low-1 )         # 最小元素索引\n",
    "    pivot = arr[high]   # 使用最大元素分割 \n",
    "    for j in range(low , high): \n",
    "        # 当前元素小于或等于 pivot \n",
    "        if   arr[j] <= pivot: \n",
    "            i = i+1 \n",
    "            arr[i],arr[j] = arr[j],arr[i] \n",
    "    arr[i+1],arr[high] = arr[high],arr[i+1] \n",
    "    return ( i+1 ) \n",
    "# arr[] --> 排序数组\n",
    "# low  --> 起始索引\n",
    "# high  --> 结束索引\n",
    "# 快速排序函数\n",
    "def quickSort(arr,low,high): \n",
    "    if low < high: \n",
    "        pi = partition(arr,low,high) \n",
    "        quickSort(arr, low, pi-1) \n",
    "        quickSort(arr, pi+1, high) \n",
    "  \n",
    "arr = [10, 7, 8, 9, 1, 5] \n",
    "n = len(arr) \n",
    "quickSort(arr,0,n-1) \n",
    "print (\"排序后的数组:\") \n",
    "for i in range(n): \n",
    "    print (\"%d\" %arr[i])"
   ],
   "outputs": [],
   "metadata": {}
  },
  {
   "cell_type": "code",
   "execution_count": null,
   "source": [
    "# 方式二 递归\n",
    "def partition(arr, low, high):\n",
    "    i = low\n",
    "    j = high\n",
    "\n",
    "    tmp = arr[low]\n",
    "\n",
    "    # 由小到大排序\n",
    "    while i < j: # 不是 low < high\n",
    "        while i < j and arr[j] > tmp:\n",
    "            j -= 1\n",
    "        if i < j:\n",
    "            arr[i], arr[j] = arr[j], arr[i]\n",
    "            i += 1\n",
    "        while i < j and arr[i] < tmp:\n",
    "            i += 1\n",
    "        if i < j:\n",
    "            arr[i], arr[j] = arr[j], arr[i]\n",
    "            j -= 1\n",
    "    return i \n",
    "    # i 或者 j 都可以， 对最终结果没有影响\n",
    "\n",
    "def quicksort(arr, low, high):\n",
    "    if low < high: # 很重要\n",
    "        mid_index = partition(arr, low, high)\n",
    "        quicksort(arr, low, mid_index-1)\n",
    "        quicksort(arr, mid_index+1, high)\n",
    "\n",
    "arr = [11, 12, 13, 12, 13, 12, 12, 12, 14, 7, 8, 9, 100, -3, -7]\n",
    "n = len(arr)\n",
    "quicksort(arr, 0, n-1)\n",
    "print(arr)"
   ],
   "outputs": [],
   "metadata": {}
  }
 ],
 "metadata": {
  "orig_nbformat": 4,
  "language_info": {
   "name": "python",
   "version": "3.6.13",
   "mimetype": "text/x-python",
   "codemirror_mode": {
    "name": "ipython",
    "version": 3
   },
   "pygments_lexer": "ipython3",
   "nbconvert_exporter": "python",
   "file_extension": ".py"
  },
  "kernelspec": {
   "name": "python3",
   "display_name": "Python 3.6.13 64-bit ('env_bot': conda)"
  },
  "interpreter": {
   "hash": "d157ae46664ef61827425b1700af4733ccc165bd48e667b428e957754f1cdd7e"
  }
 },
 "nbformat": 4,
 "nbformat_minor": 2
}