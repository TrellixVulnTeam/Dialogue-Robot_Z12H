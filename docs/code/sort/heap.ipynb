{
 "cells": [
  {
   "cell_type": "markdown",
   "source": [
    "+ 堆排序\n",
    "\t+ http://www.cnblogs.com/CherishFX/p/4643940.html\n",
    "\t+ 堆排序是一种树形选择排序方法，它的特点是：在排序的过程中，将array[0，...，n-1]看成是一颗完全二叉树的顺序存储结构，利用完全二叉树中双亲节点和孩子结点之间的内在关系，在当前无序区中选择关键字最大（最小）的元素。"
   ],
   "metadata": {}
  },
  {
   "cell_type": "code",
   "execution_count": 1,
   "source": [
    "# 堆排序原始代码 : 递归\n",
    "def heapify(arr, n, i): \n",
    "    \"\"\" \n",
    "    当前堆调整\n",
    "    \"\"\"\n",
    "    largest = i  \n",
    "    l = 2 * i + 1     # left = 2*i + 1 \n",
    "    r = 2 * i + 2     # right = 2*i + 2 \n",
    "    if l < n and arr[i] < arr[l]: \n",
    "        largest = l \n",
    "    if r < n and arr[largest] < arr[r]: \n",
    "        largest = r \n",
    "    if largest != i: \n",
    "        arr[i],arr[largest] = arr[largest],arr[i]  # 交换\n",
    "        heapify(arr, n, largest) \n",
    "  \n",
    "def heapSort(arr): \n",
    "    n = len(arr) \n",
    "    # Build a maxheap. \n",
    "    for i in range(n, -1, -1): \n",
    "        heapify(arr, n, i) \n",
    "\n",
    "k = 2\n",
    "arr = [ 12, 11, 13, 5, 6, 7] \n",
    "heapSort(arr) \n",
    "n = len(arr) \n",
    "print (\"排序后\") \n",
    "for i in range(n): \n",
    "    print (\"%d\" %arr[i])"
   ],
   "outputs": [
    {
     "output_type": "stream",
     "name": "stdout",
     "text": [
      "排序后\n",
      "13\n",
      "11\n",
      "12\n",
      "5\n",
      "6\n",
      "7\n"
     ]
    }
   ],
   "metadata": {}
  },
  {
   "cell_type": "code",
   "execution_count": null,
   "source": [
    "# 自己开发\n",
    "\n",
    "def heap_func(arr, n, i): # 参数很重要\n",
    "    \"\"\"\n",
    "    arr 数组\n",
    "    n 长度\n",
    "    i 堆的第几个元素\n",
    "    \"\"\"\n",
    "\n",
    "    left = 2*i\n",
    "    right = 2*i + 1\n",
    "\n",
    "    largest = i\n",
    "    if left < n :\n",
    "        if arr[left] > arr[i]:\n",
    "            largest = left\n",
    "    \n",
    "    if right < n:\n",
    "        if arr[right] < arr[right]:\n",
    "            largest = right\n",
    "    \n",
    "    while largest != i:\n",
    "        arr[largest], arr[i] = arr[i], arr[largest]\n",
    "        heap_func(arr, n, largest)\n",
    "\n",
    "\n",
    "def heap_sort(arr):\n",
    "    n = len(arr)\n",
    "\n",
    "    for i in range(n, -1, -1): # 由后向前\n",
    "        heap_func(arr, n, i)\n",
    "\n",
    "\n",
    "arr = [ 12, 11, 13, 5, 6, 7] \n",
    "heapSort(arr) \n",
    "n = len(arr) \n",
    "print (\"排序后\") \n",
    "for i in range(n): \n",
    "    print (\"%d\" %arr[i])"
   ],
   "outputs": [],
   "metadata": {}
  },
  {
   "cell_type": "code",
   "execution_count": 2,
   "source": [
    "# topk 代码\n",
    "def heapify(arr, n, i): \n",
    "    \"\"\" \n",
    "    当前堆调整\n",
    "    \"\"\"\n",
    "    largest = i  \n",
    "    l = 2 * i + 1     # left = 2*i + 1 \n",
    "    r = 2 * i + 2     # right = 2*i + 2 \n",
    "    if l < n and arr[i] < arr[l]: \n",
    "        largest = l \n",
    "    if r < n and arr[largest] < arr[r]: \n",
    "        largest = r \n",
    "    if largest != i: \n",
    "        arr[i],arr[largest] = arr[largest],arr[i]  # 交换\n",
    "        heapify(arr, n, largest) \n",
    "  \n",
    "def heapSort(arr, k): \n",
    "    n = len(arr) \n",
    "    # Build a maxheap. \n",
    "    for i in range(n, -1, -1): \n",
    "        heapify(arr, n, i) \n",
    "    # 一个个交换元素\n",
    "    for i in range(n-1, n-1-k, -1): \n",
    "        arr[i], arr[0] = arr[0], arr[i]   # 交换\n",
    "        heapify(arr, i, 0) \n",
    "\n",
    "k = 2\n",
    "arr = [ 12, 11, 13, 5, 6, 7] \n",
    "heapSort(arr, k) \n",
    "n = len(arr) \n",
    "print (\"排序后\") \n",
    "for i in range(n): \n",
    "    print (\"%d\" %arr[i]),\n",
    "print(\"*\"*100)\n",
    "print(arr[-k])"
   ],
   "outputs": [
    {
     "output_type": "stream",
     "name": "stdout",
     "text": [
      "排序后\n",
      "11\n",
      "6\n",
      "7\n",
      "5\n",
      "12\n",
      "13\n",
      "****************************************************************************************************\n",
      "12\n"
     ]
    }
   ],
   "metadata": {}
  },
  {
   "cell_type": "code",
   "execution_count": null,
   "source": [
    "# k 个有序链表合并\n"
   ],
   "outputs": [],
   "metadata": {}
  }
 ],
 "metadata": {
  "orig_nbformat": 4,
  "language_info": {
   "name": "python",
   "version": "3.6.13",
   "mimetype": "text/x-python",
   "codemirror_mode": {
    "name": "ipython",
    "version": 3
   },
   "pygments_lexer": "ipython3",
   "nbconvert_exporter": "python",
   "file_extension": ".py"
  },
  "kernelspec": {
   "name": "python3",
   "display_name": "Python 3.6.13 64-bit ('env_bot': conda)"
  },
  "interpreter": {
   "hash": "d157ae46664ef61827425b1700af4733ccc165bd48e667b428e957754f1cdd7e"
  }
 },
 "nbformat": 4,
 "nbformat_minor": 2
}