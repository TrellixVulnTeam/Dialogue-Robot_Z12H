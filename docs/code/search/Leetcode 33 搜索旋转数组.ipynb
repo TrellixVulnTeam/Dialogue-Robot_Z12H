{
 "cells": [
  {
   "cell_type": "code",
   "execution_count": null,
   "source": [
    "class Solution:\n",
    "    def search(self, nums: List[int], target: int) -> int:\n",
    "        l,r = 0,len(nums)-1 # 二分初始边界\n",
    "        while l<=r: # 循环开始\n",
    "            m = (l+r)//2 \n",
    "            x = nums[m] # 计算中值\n",
    "            if x == target:return m # 返回结果\n",
    "            if nums[l] <= x: # 判断左半数组是否有序\n",
    "                if nums[l] <= target <= x: # 目标是否在左半有序数组\n",
    "                    r = m -1 # 缩小右边界\n",
    "                else:\n",
    "                    l = m + 1 # 扩大左边界，目标在右半数组\n",
    "            else: # 右半数组有序\n",
    "                if x <= target <=nums[r]: # 目标是否在右半有序数组\n",
    "                    l = m + 1 # 扩大左边界\n",
    "                else:\n",
    "                    r = m - 1 # 减小右边界，目标值在左半数组\n",
    "        return -1 # 不存在\n"
   ],
   "outputs": [],
   "metadata": {}
  }
 ],
 "metadata": {
  "orig_nbformat": 4,
  "language_info": {
   "name": "python"
  }
 },
 "nbformat": 4,
 "nbformat_minor": 2
}