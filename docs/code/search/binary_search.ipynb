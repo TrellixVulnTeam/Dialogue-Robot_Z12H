{
 "cells": [
  {
   "cell_type": "code",
   "execution_count": 1,
   "source": [
    "def search(nums,target):\n",
    "    low = 0\n",
    "    high = len(nums) -1\n",
    "\n",
    "    while low <= high:\n",
    "        mid = (high + low)//2\n",
    "        print(mid)\n",
    "        if nums[mid] == target:\n",
    "            return mid\n",
    "        elif nums[mid] < target:\n",
    "            low = mid + 1\n",
    "        else:\n",
    "            high = mid - 1\n",
    "    return None\n",
    "\n",
    "tmp = [1,2,3,4, 11, 12,14, 22, 23,25]\n",
    "print(search(tmp,12))"
   ],
   "outputs": [
    {
     "output_type": "stream",
     "name": "stdout",
     "text": [
      "4\n",
      "7\n",
      "5\n",
      "5\n"
     ]
    }
   ],
   "metadata": {}
  }
 ],
 "metadata": {
  "orig_nbformat": 4,
  "language_info": {
   "name": "python",
   "version": "3.6.13",
   "mimetype": "text/x-python",
   "codemirror_mode": {
    "name": "ipython",
    "version": 3
   },
   "pygments_lexer": "ipython3",
   "nbconvert_exporter": "python",
   "file_extension": ".py"
  },
  "kernelspec": {
   "name": "python3",
   "display_name": "Python 3.6.13 64-bit ('env_bot': conda)"
  },
  "interpreter": {
   "hash": "d157ae46664ef61827425b1700af4733ccc165bd48e667b428e957754f1cdd7e"
  }
 },
 "nbformat": 4,
 "nbformat_minor": 2
}