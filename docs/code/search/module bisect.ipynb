{
 "cells": [
  {
   "cell_type": "code",
   "execution_count": null,
   "metadata": {
    "collapsed": true
   },
   "outputs": [],
   "source": [
    "# bisect \n",
    "# http://python.jobbole.com/86609/"
   ]
  },
  {
   "cell_type": "markdown",
   "metadata": {},
   "source": [
    "Python 著名的数据处理库 numpy 也有一个用于二分查找的函数 numpy.searchsorted\n",
    "用法与 bisect 基本相同，只不过如果要右边插入时，需要设置参数 side='right'"
   ]
  },
  {
   "cell_type": "code",
   "execution_count": 9,
   "metadata": {},
   "outputs": [
    {
     "name": "stdout",
     "output_type": "stream",
     "text": [
      "0\n",
      "1\n",
      "2\n",
      "2\n",
      "1\n",
      "1\n",
      "2\n",
      "1\n",
      "6\n",
      "0\n",
      "0\n",
      "0\n",
      "2\n",
      "2\n"
     ]
    }
   ],
   "source": [
    "import numpy as np\n",
    "from bisect import bisect_left, bisect_right\n",
    "data = [2, 4, 7, 9,11,111,111]\n",
    "print(bisect_left([], 2)) # 待检索列表为空的时候, 返回值是 0\n",
    "print(np.searchsorted(data, 4))\n",
    "print(bisect_right(data, 4))\n",
    "print(np.searchsorted(data, 4, side='right'))\n",
    "\n",
    "\n",
    "###\n",
    "print(bisect_right(data, 3))\n",
    "print(bisect_left(data, 3))\n",
    "print(bisect_right(data, 4))\n",
    "print(bisect_left(data, 4))\n",
    "\n",
    "\n",
    "data = [9,7,5,4,3,1]\n",
    "print(bisect_right(data, 4))\n",
    "print(bisect_left(data, 4))\n",
    "data = [9,7,5,3,1]\n",
    "print(bisect_right(data, 4))\n",
    "print(bisect_left(data, 4))\n",
    "data = [1,3,5,7,9]\n",
    "print(bisect_right(data, 4))\n",
    "print(bisect_left(data, 4))"
   ]
  },
  {
   "cell_type": "code",
   "execution_count": null,
   "metadata": {
    "collapsed": true
   },
   "outputs": [],
   "source": []
  }
 ],
 "metadata": {
  "kernelspec": {
   "display_name": "Python 3",
   "language": "python",
   "name": "python3"
  },
  "language_info": {
   "codemirror_mode": {
    "name": "ipython",
    "version": 3
   },
   "file_extension": ".py",
   "mimetype": "text/x-python",
   "name": "python",
   "nbconvert_exporter": "python",
   "pygments_lexer": "ipython3",
   "version": "3.6.3"
  }
 },
 "nbformat": 4,
 "nbformat_minor": 2
}
