{
 "cells": [
  {
   "cell_type": "code",
   "execution_count": null,
   "source": [
    "class Solution:\n",
    "    def searchRange(self, nums, target):\n",
    "        # 找 target=12\n",
    "        # 10, 11, 12, 12, 12, 13, 14, 15, 16, 17\n",
    "        # 0,  1,   2,  3,  4,  5,  6,  7,  8,  9\n",
    "        # 0                          9\n",
    "        # mid = (0 + 9)//2 = 4\n",
    "        # nums[4] = 12 >= target right = mid - 1\n",
    "        # 0        3\n",
    "        # mid = (0 + 3)//2 = 1\n",
    "        # nums[1] = 11 < target left = mid + 1\n",
    "        #     1    3\n",
    "        # mid = (1 + 3)//2 = 2\n",
    "        # nums[2] = 12 >= target right = mid -1 = 1\n",
    "        #     1/1\n",
    "        # mid = 1\n",
    "        # nums[1] = 11 < target\n",
    "        # left = mid + 1 = 2 # 很关键 相等之后left 还会加1 即找到第一小于target 的index，返回 index + 1\n",
    "        def bisect_left(num):\n",
    "            left, right = 0, len(nums) - 1\n",
    "            while left <= right:\n",
    "                mid = (left + right) // 2\n",
    "                if num <= nums[mid]:\n",
    "                    right = mid - 1\n",
    "                else:\n",
    "                    left = mid + 1\n",
    "            return left\n",
    "\n",
    "        begin = bisect_left(target)\n",
    "        if begin == len(nums) or nums[begin] != target:\n",
    "            return [-1, -1]\n",
    "        return [begin, bisect_left(target + 1) - 1]"
   ],
   "outputs": [],
   "metadata": {}
  }
 ],
 "metadata": {
  "orig_nbformat": 4,
  "language_info": {
   "name": "python"
  }
 },
 "nbformat": 4,
 "nbformat_minor": 2
}