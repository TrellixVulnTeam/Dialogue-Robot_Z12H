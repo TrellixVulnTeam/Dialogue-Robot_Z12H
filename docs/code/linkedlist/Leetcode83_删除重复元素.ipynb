{
 "cells": [
  {
   "cell_type": "code",
   "execution_count": null,
   "source": [
    "from base import Node, ListNode\n",
    "\n",
    "a = Node(1)\n",
    "b = Node(1)\n",
    "c = Node(3)\n",
    "d = Node(4)\n",
    "e = Node(5)\n",
    "s = ListNode()\n",
    "s.append(a)\n",
    "s.append(b)\n",
    "s.append(c)\n",
    "s.PrintList()"
   ],
   "outputs": [],
   "metadata": {}
  },
  {
   "cell_type": "markdown",
   "source": [
    "给定一个已排序的链表的头 head ， 删除所有重复的元素，使每个元素只出现一次 。返回 已排序的链表 。"
   ],
   "metadata": {}
  },
  {
   "cell_type": "code",
   "execution_count": null,
   "source": [
    "# 单指针\n",
    "# https://leetcode-cn.com/problems/remove-duplicates-from-sorted-list/solution/83-shan-chu-pai-xu-lian-biao-zhong-de-zhong-fu-21/\n",
    "class Solution:\n",
    "    def deleteDuplicates(self, head: ListNode) -> ListNode:\n",
    "        if not head or not head.next: return head\n",
    "        cur = head\n",
    "        while cur.next:\n",
    "            if cur.val == cur.next.val:\n",
    "                cur.next = cur.next.next\n",
    "            else: cur = cur.next\n",
    "\n",
    "        return head\n",
    "            "
   ],
   "outputs": [],
   "metadata": {}
  },
  {
   "cell_type": "code",
   "execution_count": null,
   "source": [
    "# 递归\n",
    "class Solution:\n",
    "    def deleteDuplicates(self, head: ListNode) -> ListNode:\n",
    "        if not head or not head.next: return head\n",
    "        head.next = self.deleteDuplicates(head.next)\n",
    "        return head.next if head.val == head.next.val else head"
   ],
   "outputs": [],
   "metadata": {}
  },
  {
   "cell_type": "code",
   "execution_count": null,
   "source": [
    "# 双指针\n",
    "class Solution:\n",
    "    def deleteDuplicates(self, head: ListNode) -> ListNode:\n",
    "        if not head or not head.next: return head\n",
    "        cur = head\n",
    "        while cur:\n",
    "            next = cur.next\n",
    "            while next:\n",
    "                if cur.val == next.val: cur.next = next.next\n",
    "                next = next.next\n",
    "            cur = cur.next\n",
    "\n",
    "        return head"
   ],
   "outputs": [],
   "metadata": {}
  },
  {
   "cell_type": "code",
   "execution_count": null,
   "source": [
    "# Definition for singly-linked list.\n",
    "# class ListNode:\n",
    "#     def __init__(self, val=0, next=None):\n",
    "#         self.val = val\n",
    "#         self.next = next\n",
    "class Solution:\n",
    "    def deleteDuplicates(self, head: ListNode) -> ListNode:\n",
    "        tmp = head \n",
    "        while tmp and tmp.next:\n",
    "            if tmp.val == tmp.next.val:\n",
    "                tmp.next = tmp.next.next\n",
    "            else:\n",
    "                tmp = tmp.next\n",
    "        \n",
    "        return head "
   ],
   "outputs": [],
   "metadata": {}
  }
 ],
 "metadata": {
  "orig_nbformat": 4,
  "language_info": {
   "name": "python"
  }
 },
 "nbformat": 4,
 "nbformat_minor": 2
}