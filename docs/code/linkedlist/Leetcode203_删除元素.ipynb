{
 "cells": [
  {
   "cell_type": "code",
   "execution_count": null,
   "source": [
    "https://leetcode-cn.com/problems/remove-linked-list-elements/solution/si-lu-jian-dan-xing-neng-gao-xiao-yi-kan-vy4d/"
   ],
   "outputs": [],
   "metadata": {}
  },
  {
   "cell_type": "code",
   "execution_count": null,
   "source": [
    "class Solution:\n",
    "    def removeElements(self, head: ListNode, val: int) -> ListNode:\n",
    "        dummy = ListNode(0,head)\n",
    "        node, last = head, dummy\n",
    "\n",
    "        while node:\n",
    "            if node.val == val:\n",
    "                last.next = node.next\n",
    "            else:\n",
    "                last = last.next\n",
    "            node = node.next\n",
    "\n",
    "        return dummy.next\n",
    "\n",
    "# 作者：JamLeon\n",
    "# 链接：https://leetcode-cn.com/problems/remove-linked-list-elements/solution/si-lu-jian-dan-xing-neng-gao-xiao-yi-kan-vy4d/\n",
    "# 来源：力扣（LeetCode）\n",
    "# 著作权归作者所有。商业转载请联系作者获得授权，非商业转载请注明出处。"
   ],
   "outputs": [],
   "metadata": {}
  },
  {
   "cell_type": "code",
   "execution_count": null,
   "source": [
    "# 自写\n",
    "\n",
    "dummy = ListNode(0, head)\n",
    "\n",
    "cur, last = head, dummy\n",
    "while cur:\n",
    "    if cur.val = val:\n",
    "        last.next = cur.next\n",
    "    else:\n",
    "        last = last.next\n",
    "\n",
    "    cur = cur.next\n",
    "\n",
    "return dummy.next"
   ],
   "outputs": [],
   "metadata": {}
  }
 ],
 "metadata": {
  "orig_nbformat": 4,
  "language_info": {
   "name": "python"
  }
 },
 "nbformat": 4,
 "nbformat_minor": 2
}