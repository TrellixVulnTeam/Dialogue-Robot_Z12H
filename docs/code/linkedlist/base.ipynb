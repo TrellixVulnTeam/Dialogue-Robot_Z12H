{
 "cells": [
  {
   "cell_type": "code",
   "execution_count": 18,
   "source": [
    "from base import Node, ListNode"
   ],
   "outputs": [],
   "metadata": {}
  },
  {
   "cell_type": "code",
   "execution_count": 19,
   "source": [
    "a = Node(1)\n",
    "b = Node(2)\n",
    "c = Node(3)\n",
    "d = Node(4)\n",
    "e = Node(5)\n",
    "s = ListNode()\n",
    "s.append(a)\n",
    "s.append(b)\n",
    "s.append(c)\n",
    "s.PrintList()\n"
   ],
   "outputs": [
    {
     "output_type": "stream",
     "name": "stdout",
     "text": [
      "1 -->2 -->3\n"
     ]
    }
   ],
   "metadata": {}
  },
  {
   "cell_type": "code",
   "execution_count": 20,
   "source": [
    "s.index_insert(e, 2)\n",
    "s.PrintList()"
   ],
   "outputs": [
    {
     "output_type": "stream",
     "name": "stdout",
     "text": [
      "1 -->2 -->5 -->3\n"
     ]
    }
   ],
   "metadata": {}
  },
  {
   "cell_type": "code",
   "execution_count": 21,
   "source": [
    "s.index_delete(2)\n",
    "s.PrintList()"
   ],
   "outputs": [
    {
     "output_type": "stream",
     "name": "stdout",
     "text": [
      "1 -->2 -->3\n"
     ]
    }
   ],
   "metadata": {}
  },
  {
   "cell_type": "code",
   "execution_count": 22,
   "source": [
    "# s.delete(0)\n",
    "# print(s.head.data)\n",
    "# print(s.head.next.data)\n",
    "# print(s.head.next.next.data)\n",
    "# s.delete(2)\n",
    "# print(s.head.data)\n",
    "# print(s.head.next.data)\n",
    "# print(s.head.next.next.data)\n",
    "# s.update(0,1)\n",
    "# print(s.head.data)\n",
    "# print(s.head.next.data)\n",
    "# print(s.get_data(0))\n",
    "# print(s.get_data(1))\n",
    "# print(s.get_length())\n",
    "# s.PrintList()"
   ],
   "outputs": [],
   "metadata": {}
  }
 ],
 "metadata": {
  "orig_nbformat": 4,
  "language_info": {
   "name": "python",
   "version": "3.6.13",
   "mimetype": "text/x-python",
   "codemirror_mode": {
    "name": "ipython",
    "version": 3
   },
   "pygments_lexer": "ipython3",
   "nbconvert_exporter": "python",
   "file_extension": ".py"
  },
  "kernelspec": {
   "name": "python3",
   "display_name": "Python 3.6.13 64-bit ('env_bot': conda)"
  },
  "interpreter": {
   "hash": "d157ae46664ef61827425b1700af4733ccc165bd48e667b428e957754f1cdd7e"
  }
 },
 "nbformat": 4,
 "nbformat_minor": 2
}