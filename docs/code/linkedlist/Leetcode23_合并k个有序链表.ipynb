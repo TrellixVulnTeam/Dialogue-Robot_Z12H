{
 "cells": [
  {
   "cell_type": "code",
   "execution_count": null,
   "source": [
    "# 题解中普通的python小根堆做法中，一般是将全部节点都放入堆中。这样时间复杂度较高，如果节点总数很多，效率较低。\n",
    "# 我们可以将ListNode的比较函数自定义，使得我们能够将指针放入堆中。这样，每一个链表同时只要有一个节点在堆中即可，减小了插入堆的时间复杂度。\n",
    "\n",
    "# 作者：accsrd\n",
    "# 链接：https://leetcode-cn.com/problems/merge-k-sorted-lists/solution/python3-da-xiao-wei-kde-xiao-gen-dui-by-pd7t3/\n",
    "# 来源：力扣（LeetCode）\n",
    "# 著作权归作者所有。商业转载请联系作者获得授权，非商业转载请注明出处。\n",
    "class Solution:\n",
    "    def mergeKLists(self, lists: List[ListNode]) -> ListNode:\n",
    "        ListNode.__lt__ = lambda a, b: 0 # 只需要定义即可，返回值我们用不到\n",
    "        if not lists: \n",
    "            return None\n",
    "        nodeheap = []\n",
    "        for node in lists: # 将每个链表的第一个node全部丢入heap\n",
    "            if node:\n",
    "                heapq.heappush(nodeheap, (node.val, node))\n",
    "        HEAD = ListNode()\n",
    "        p = HEAD\n",
    "        while nodeheap: # 每pop一个node，push它的下一个node\n",
    "            val, node = heapq.heappop(nodeheap)\n",
    "            p.next = ListNode(val, None)\n",
    "            p = p.next\n",
    "            if node.next:\n",
    "                heapq.heappush(nodeheap, (node.next.val, node.next))\n",
    "        return HEAD.next\n",
    "# 链接：https://leetcode-cn.com/problems/merge-k-sorted-lists/solution/python3-da-xiao-wei-kde-xiao-gen-dui-by-pd7t3/"
   ],
   "outputs": [],
   "metadata": {}
  },
  {
   "cell_type": "code",
   "execution_count": null,
   "source": [
    "# 一般解法，所有节点放入堆中\n",
    "# 再依此输出\n",
    "# O n * log k\n",
    "\n",
    "class Solution:\n",
    "    def mergeKLists(self, lists: List[ListNode]) -> ListNode:\n",
    "        import heapq #调用堆\n",
    "        minHeap = []\n",
    "        for listi in lists: \n",
    "            while listi:\n",
    "                heapq.heappush(minHeap, listi.val) #把listi中的数据逐个加到堆中\n",
    "                listi = listi.next\n",
    "        dummy = ListNode(0) #构造虚节点\n",
    "        p = dummy\n",
    "        while minHeap:\n",
    "            p.next = ListNode(heapq.heappop(minHeap)) #依次弹出最小堆的数据\n",
    "            p = p.next\n",
    "        return dummy.next \n",
    "# 链接：https://leetcode-cn.com/problems/merge-k-sorted-lists/solution/python-23he-bing-kge-sheng-xu-lian-biao-ep54a/"
   ],
   "outputs": [],
   "metadata": {}
  }
 ],
 "metadata": {
  "orig_nbformat": 4,
  "language_info": {
   "name": "python"
  }
 },
 "nbformat": 4,
 "nbformat_minor": 2
}