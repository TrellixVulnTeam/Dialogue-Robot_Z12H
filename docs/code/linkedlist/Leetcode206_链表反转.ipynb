{
 "cells": [
  {
   "cell_type": "code",
   "execution_count": null,
   "source": [
    "def reverseList(self, head: ListNode) -> ListNode:\n",
    "    prev, curr = None, head\n",
    "    while curr is not None:\n",
    "        next = curr.next\n",
    "        curr.next = prev\n",
    "        prev = curr\n",
    "        curr = next\n",
    "    return prev\n",
    "\n",
    "# 作者：tangweiqun\n",
    "# 链接：https://leetcode-cn.com/problems/reverse-linked-list/solution/shi-pin-jiang-jie-die-dai-he-di-gui-hen-hswxy/\n",
    "# 来源：力扣（LeetCode）\n",
    "# 著作权归作者所有。商业转载请联系作者获得授权，非商业转载请注明出处。"
   ],
   "outputs": [],
   "metadata": {}
  },
  {
   "cell_type": "code",
   "execution_count": null,
   "source": [
    "from base import Node, ListNode\n",
    "\n",
    "a = Node(1)\n",
    "b = Node(1)\n",
    "c = Node(3)\n",
    "d = Node(4)\n",
    "e = Node(5)\n",
    "s = ListNode()\n",
    "s.append(a)\n",
    "s.append(b)\n",
    "s.append(c)\n",
    "s.PrintList()"
   ],
   "outputs": [],
   "metadata": {}
  },
  {
   "cell_type": "code",
   "execution_count": null,
   "source": [
    "# 迭代\n",
    "def reverseList(head: Node) -> Node:\n",
    "    prev, curr = None, head\n",
    "    while curr is not None:\n",
    "        next = curr.next\n",
    "        curr.next = prev\n",
    "        prev = curr\n",
    "        curr = next\n",
    "    return prev\n",
    "\n",
    "# 作者：tangweiqun\n",
    "# 链接：https://leetcode-cn.com/problems/reverse-linked-list/solution/shi-pin-jiang-jie-die-dai-he-di-gui-hen-hswxy/\n",
    "# 来源：力扣（LeetCode）\n",
    "# 著作权归作者所有。商业转载请联系作者获得授权，非商业转载请注明出处。"
   ],
   "outputs": [],
   "metadata": {}
  },
  {
   "cell_type": "code",
   "execution_count": null,
   "source": [
    "p = reverseList(s.head)\n",
    "while p.next:\n",
    "    print(p.val, end='')"
   ],
   "outputs": [],
   "metadata": {}
  },
  {
   "cell_type": "code",
   "execution_count": null,
   "source": [
    "# 递归\n",
    "def reverseList(head: ListNode) -> ListNode:\n",
    "    if head is None or head.next is None: # 终止条件\n",
    "        return head\n",
    "    \n",
    "    p = self.reverseList(head.next)\n",
    "    head.next.next = head\n",
    "    head.next = None\n",
    "\n",
    "    return p\n",
    "\n",
    "# 作者：tangweiqun\n",
    "# 链接：https://leetcode-cn.com/problems/reverse-linked-list/solution/shi-pin-jiang-jie-die-dai-he-di-gui-hen-hswxy/\n",
    "# 来源：力扣（LeetCode）\n",
    "# 著作权归作者所有。商业转载请联系作者获得授权，非商业转载请注明出处。"
   ],
   "outputs": [],
   "metadata": {}
  }
 ],
 "metadata": {
  "orig_nbformat": 4,
  "language_info": {
   "name": "python"
  }
 },
 "nbformat": 4,
 "nbformat_minor": 2
}