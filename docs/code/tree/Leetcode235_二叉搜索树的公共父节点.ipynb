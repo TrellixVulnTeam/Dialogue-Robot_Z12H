{
 "cells": [
  {
   "cell_type": "code",
   "execution_count": null,
   "source": [
    "# 二叉树+递归\n",
    "# Definition for a binary tree node.\n",
    "# class TreeNode:\n",
    "#     def __init__(self, x):\n",
    "#         self.val = x\n",
    "#         self.left = None\n",
    "#         self.right = None\n",
    "\n",
    "class Solution:\n",
    "    def lowestCommonAncestor(self, root: 'TreeNode', p: 'TreeNode', q: 'TreeNode') -> 'TreeNode':\n",
    "        if root.val > max(p.val, q.val):\n",
    "            return self.lowestCommonAncestor(root.left, p, q)\n",
    "        elif root.val < min(p.val, q.val):\n",
    "            return self.lowestCommonAncestor(root.right, p, q)\n",
    "        else:\n",
    "            return root\n",
    "\n",
    "# 作者：lllyyy-n\n",
    "# 链接：https://leetcode-cn.com/problems/lowest-common-ancestor-of-a-binary-search-tree/solution/235-er-cha-sou-suo-shu-de-zui-jin-gong-g-1mi6/\n",
    "# 来源：力扣（LeetCode）\n",
    "# 著作权归作者所有。商业转载请联系作者获得授权，非商业转载请注明出处。"
   ],
   "outputs": [],
   "metadata": {}
  }
 ],
 "metadata": {
  "orig_nbformat": 4,
  "language_info": {
   "name": "python"
  }
 },
 "nbformat": 4,
 "nbformat_minor": 2
}