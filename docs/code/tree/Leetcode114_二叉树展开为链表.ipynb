{
 "cells": [
  {
   "cell_type": "code",
   "execution_count": null,
   "source": [
    "class Solution:\n",
    "    def flatten(self, root: TreeNode) -> None:\n",
    "        \"\"\"\n",
    "        Do not return anything, modify root in-place instead.\n",
    "        \"\"\"\n",
    "        stack = [root]\n",
    "        tem = None\n",
    "        while stack:\n",
    "            i = stack.pop()\n",
    "            if i != None:\n",
    "                stack.append(i.right)\n",
    "                stack.append(i.left)                        \n",
    "                if tem:\n",
    "                    tem.right = i\n",
    "                i.left = None\n",
    "                tem = i\n",
    "\n",
    "# 作者：I_do_it_for_you\n",
    "# 链接：https://leetcode-cn.com/problems/flatten-binary-tree-to-linked-list/solution/114python3-die-dai-xian-xu-bian-li-9720-76wev/\n",
    "# 来源：力扣（LeetCode）\n",
    "# 著作权归作者所有。商业转载请联系作者获得授权，非商业转载请注明出处。"
   ],
   "outputs": [],
   "metadata": {}
  }
 ],
 "metadata": {
  "orig_nbformat": 4,
  "language_info": {
   "name": "python"
  }
 },
 "nbformat": 4,
 "nbformat_minor": 2
}