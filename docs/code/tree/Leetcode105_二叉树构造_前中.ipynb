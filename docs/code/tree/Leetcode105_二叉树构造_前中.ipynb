{
 "cells": [
  {
   "cell_type": "code",
   "execution_count": null,
   "source": [
    "# Definition for a binary tree node.\n",
    "# class TreeNode:\n",
    "#     def __init__(self, x):\n",
    "#         self.val = x\n",
    "#         self.left = None\n",
    "#         self.right = None\n",
    "\n",
    "class Solution:\n",
    "    def buildTree(self, preorder: List[int], inorder: List[int]) -> TreeNode:\n",
    "        if not preorder or not inorder:  # 递归终止条件\n",
    "            return\n",
    "        root = TreeNode(preorder[0])  # 先序为“根左右”，所以根据preorder可以确定root\n",
    "        idx = inorder.index(preorder[0])  # 中序为“左根右”，根据root可以划分出左右子树\n",
    "        # 下面递归对root的左右子树求解即可\n",
    "        root.left = self.buildTree(preorder[1:1 + idx], inorder[:idx])\n",
    "        root.right = self.buildTree(preorder[1 + idx:], inorder[idx + 1:])\n",
    "        return root\n",
    "\n",
    "# 作者：LotusPanda\n",
    "# 链接：https://leetcode-cn.com/problems/construct-binary-tree-from-preorder-and-inorder-traversal/solution/xiong-mao-shua-ti-python3-xian-xu-zhao-gen-hua-fen/\n",
    "# 来源：力扣（LeetCode）\n",
    "# 著作权归作者所有。商业转载请联系作者获得授权，非商业转载请注明出处。"
   ],
   "outputs": [],
   "metadata": {}
  }
 ],
 "metadata": {
  "orig_nbformat": 4,
  "language_info": {
   "name": "python"
  }
 },
 "nbformat": 4,
 "nbformat_minor": 2
}