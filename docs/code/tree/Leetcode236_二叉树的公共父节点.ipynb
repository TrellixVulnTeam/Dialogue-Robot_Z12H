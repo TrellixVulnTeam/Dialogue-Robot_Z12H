{
 "cells": [
  {
   "cell_type": "code",
   "execution_count": null,
   "source": [
    "class Solution:\n",
    "    def lowestCommonAncestor(self, root: TreeNode, p: TreeNode, q: TreeNode) -> TreeNode:\n",
    "        if not root or root == p or root == q: return root\n",
    "        left = self.lowestCommonAncestor(root.left, p, q)\n",
    "        right = self.lowestCommonAncestor(root.right, p, q)\n",
    "        if not left and not right: return # 1.\n",
    "        if not left: return right # 3.\n",
    "        if not right: return left # 4.\n",
    "        return root # 2. if left and right:\n",
    "\n",
    "# 作者：jyd\n",
    "# 链接：https://leetcode-cn.com/problems/lowest-common-ancestor-of-a-binary-tree/solution/236-er-cha-shu-de-zui-jin-gong-gong-zu-xian-hou-xu/\n",
    "# 来源：力扣（LeetCode）\n",
    "# 著作权归作者所有。商业转载请联系作者获得授权，非商业转载请注明出处。"
   ],
   "outputs": [],
   "metadata": {}
  },
  {
   "cell_type": "code",
   "execution_count": null,
   "source": [
    "# /**\n",
    "#  * Definition for a binary tree node.\n",
    "#  * public class TreeNode {\n",
    "#  *     int val;\n",
    "#  *     TreeNode left;\n",
    "#  *     TreeNode right;\n",
    "#  *     TreeNode(int x) { val = x; }\n",
    "#  * }\n",
    "#  */\n",
    "# class Solution {\n",
    "#     public TreeNode lowestCommonAncestor(TreeNode root, TreeNode p, TreeNode q) {\n",
    "#         if (root == null) return null;\n",
    "#         // 如果p,q为根节点，则公共祖先为根节点\n",
    "#         if (root.val == p.val || root.val == q.val) return root;\n",
    "#         // 如果p,q在左子树，则公共祖先在左子树查找\n",
    "#         if (find(root.left, p) && find(root.left, q)) {\n",
    "#             return lowestCommonAncestor(root.left, p, q);\n",
    "#         }\n",
    "#         // 如果p,q在右子树，则公共祖先在右子树查找\n",
    "#         if (find(root.right, p) && find(root.right, q)) {\n",
    "#             return lowestCommonAncestor(root.right, p, q);\n",
    "#         }\n",
    "#         // 如果p,q分属两侧，则公共祖先为根节点\n",
    "#         return root;\n",
    "#     }\n",
    "    \n",
    "#     private boolean find(TreeNode root, TreeNode c) {\n",
    "#         if (root == null) return false;\n",
    "#         if (root.val == c.val) {\n",
    "#             return true;\n",
    "#         }\n",
    "        \n",
    "#         return find(root.left, c) || find(root.right, c);\n",
    "#     }\n",
    "# }"
   ],
   "outputs": [],
   "metadata": {}
  }
 ],
 "metadata": {
  "orig_nbformat": 4,
  "language_info": {
   "name": "python"
  }
 },
 "nbformat": 4,
 "nbformat_minor": 2
}