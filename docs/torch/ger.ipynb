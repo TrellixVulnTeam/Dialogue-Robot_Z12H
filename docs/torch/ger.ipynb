{
 "cells": [
  {
   "cell_type": "markdown",
   "source": [
    "https://blog.csdn.net/qq_36516958/article/details/114703215\n",
    "torch.ger这个函数是对tensor进行扩维，torch.ger(a,b)实际意思是b中的每一个元素乘以a中的元素，进行扩维"
   ],
   "metadata": {}
  },
  {
   "cell_type": "code",
   "execution_count": 1,
   "source": [
    "import torch\n",
    "v1 = torch.arange(1., 5.)\n",
    "v2 = torch.arange(1., 4.)\n",
    "print(torch.outer(v1, v2))"
   ],
   "outputs": [
    {
     "output_type": "stream",
     "name": "stdout",
     "text": [
      "tensor([[ 1.,  2.,  3.],\n",
      "        [ 2.,  4.,  6.],\n",
      "        [ 3.,  6.,  9.],\n",
      "        [ 4.,  8., 12.]])\n"
     ]
    }
   ],
   "metadata": {}
  }
 ],
 "metadata": {
  "orig_nbformat": 4,
  "language_info": {
   "name": "python",
   "version": "3.6.13",
   "mimetype": "text/x-python",
   "codemirror_mode": {
    "name": "ipython",
    "version": 3
   },
   "pygments_lexer": "ipython3",
   "nbconvert_exporter": "python",
   "file_extension": ".py"
  },
  "kernelspec": {
   "name": "python3",
   "display_name": "Python 3.6.13 64-bit ('env_bot': conda)"
  },
  "interpreter": {
   "hash": "d157ae46664ef61827425b1700af4733ccc165bd48e667b428e957754f1cdd7e"
  }
 },
 "nbformat": 4,
 "nbformat_minor": 2
}