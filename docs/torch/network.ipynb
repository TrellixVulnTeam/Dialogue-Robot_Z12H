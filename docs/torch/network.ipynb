{
 "cells": [
  {
   "cell_type": "code",
   "execution_count": 1,
   "metadata": {},
   "outputs": [
    {
     "name": "stdout",
     "output_type": "stream",
     "text": [
      "tensor([[[-0.9839, -1.3749,  1.2481,  1.0212,  0.2069],\n",
      "         [ 0.8966,  0.2409,  1.7262, -1.7211, -1.1383],\n",
      "         [ 1.4679, -0.1428, -1.0595, -2.0932,  0.4289],\n",
      "         [ 0.1641,  0.4292,  1.7381,  1.3307,  1.2202]],\n",
      "\n",
      "        [[-1.4463, -1.8254,  0.2498, -0.6242, -2.1017],\n",
      "         [-0.2180, -0.0607,  1.5192,  1.4394,  0.6773],\n",
      "         [ 0.6934, -0.3100,  0.0358,  0.4066,  1.7269],\n",
      "         [-0.5885, -0.8324, -1.9515,  0.8376, -0.5035]]])\n",
      "tensor([[[1.2481],\n",
      "         [1.7262],\n",
      "         [1.4679],\n",
      "         [1.7381]],\n",
      "\n",
      "        [[0.2498],\n",
      "         [1.5192],\n",
      "         [1.7269],\n",
      "         [0.8376]]])\n"
     ]
    }
   ],
   "source": [
    "import torch\n",
    "import torch.nn as nn\n",
    "\n",
    "m = nn.MaxPool1d(5)\n",
    "input = torch.randn(2, 4, 5)\n",
    "output = m(input)\n",
    "\n",
    "print(input)\n",
    "print(output)"
   ]
  },
  {
   "cell_type": "code",
   "execution_count": 2,
   "metadata": {},
   "outputs": [
    {
     "name": "stdout",
     "output_type": "stream",
     "text": [
      "torch.Size([1, 3])\n",
      "torch.Size([1, 3, 50])\n",
      "torch.Size([1, 3, 50])\n",
      "torch.Size([1, 1, 50])\n"
     ]
    }
   ],
   "source": [
    "import torch.nn as nn\n",
    "import torch\n",
    "gru = nn.GRU(input_size=50, hidden_size=50, batch_first=True)\n",
    "embed = nn.Embedding(3, 50)\n",
    "x = torch.LongTensor([[0, 1, 2]])\n",
    "x_embed = embed(x)\n",
    "out, hidden = gru(x_embed)\n",
    "\n",
    "print(x.size())\n",
    "print(x_embed.size())\n",
    "print(out.size())\n",
    "print(hidden.size())"
   ]
  },
  {
   "cell_type": "code",
   "execution_count": 3,
   "metadata": {},
   "outputs": [
    {
     "name": "stdout",
     "output_type": "stream",
     "text": [
      "torch.Size([32, 100, 97])\n"
     ]
    }
   ],
   "source": [
    "# https://www.jianshu.com/p/45a26d278473\n",
    "\n",
    "import torch\n",
    "import torch.nn as nn\n",
    "\n",
    "conv1 = nn.Conv1d(in_channels=256, out_channels=100, kernel_size=4, stride=1, dilation=1, padding_mode='replicate')\n",
    "input = torch.randn(32,100,256)\n",
    "# batch_size x text_len x embedding_size -> batch_size x embedding_size x text_len\n",
    "input = input.permute(0,2,1)\n",
    "out = conv1(input)\n",
    "print(out.size())"
   ]
  }
 ],
 "metadata": {
  "kernelspec": {
   "display_name": "Python 3.9.7 ('base')",
   "language": "python",
   "name": "python3"
  },
  "language_info": {
   "codemirror_mode": {
    "name": "ipython",
    "version": 3
   },
   "file_extension": ".py",
   "mimetype": "text/x-python",
   "name": "python",
   "nbconvert_exporter": "python",
   "pygments_lexer": "ipython3",
   "version": "3.9.7"
  },
  "orig_nbformat": 4,
  "vscode": {
   "interpreter": {
    "hash": "d20345af9713ebff8c68be7a4bc786792663d50f698c1c39eb248438a08adbaa"
   }
  }
 },
 "nbformat": 4,
 "nbformat_minor": 2
}
