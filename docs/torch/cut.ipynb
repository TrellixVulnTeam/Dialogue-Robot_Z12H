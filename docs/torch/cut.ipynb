{
 "cells": [
  {
   "cell_type": "code",
   "execution_count": 1,
   "metadata": {},
   "outputs": [
    {
     "name": "stdout",
     "output_type": "stream",
     "text": [
      "[[0.58144152 0.69010082 0.4717838  0.97794241 0.78600021]\n",
      " [0.34288593 0.04409318 0.62605288 0.01194963 0.1523563 ]\n",
      " [0.79780378 0.45437129 0.45398974 0.67341753 0.1237942 ]]\n",
      "tensor([[0.5814, 0.6901, 0.4718, 0.9779, 0.7860],\n",
      "        [0.3429, 0.0441, 0.6261, 0.0119, 0.1524],\n",
      "        [0.7978, 0.4544, 0.4540, 0.6734, 0.1238]], dtype=torch.float64)\n"
     ]
    }
   ],
   "source": [
    "import torch\n",
    "import numpy as np\n",
    "\n",
    "tmp = np.random.uniform(0,1, (3,5))\n",
    "print(tmp)\n",
    "\n",
    "a = torch.from_numpy(tmp)\n",
    "print(a)"
   ]
  },
  {
   "cell_type": "code",
   "execution_count": 5,
   "metadata": {},
   "outputs": [
    {
     "name": "stdout",
     "output_type": "stream",
     "text": [
      "tensor([0.7860, 0.1524, 0.1238], dtype=torch.float64)\n",
      "tensor([[0.7860, 0.1524, 0.1238]], dtype=torch.float64)\n"
     ]
    }
   ],
   "source": [
    "print(a[:,-1])\n",
    "print(a[:,-1].view(1,-1))"
   ]
  },
  {
   "cell_type": "code",
   "execution_count": 7,
   "metadata": {},
   "outputs": [
    {
     "name": "stdout",
     "output_type": "stream",
     "text": [
      "tensor([[0.5814, 0.3429, 0.7978],\n",
      "        [0.6901, 0.0441, 0.4544],\n",
      "        [0.4718, 0.6261, 0.4540],\n",
      "        [0.9779, 0.0119, 0.6734],\n",
      "        [0.7860, 0.1524, 0.1238]], dtype=torch.float64)\n"
     ]
    }
   ],
   "source": [
    "# c = a[:, -1]\n",
    "d = a.transpose(0, 1)\n",
    "print(d)"
   ]
  },
  {
   "cell_type": "code",
   "execution_count": 9,
   "metadata": {},
   "outputs": [
    {
     "name": "stdout",
     "output_type": "stream",
     "text": [
      "tensor([[0.5814, 0.3429, 0.7978],\n",
      "        [0.6901, 0.0441, 0.4544],\n",
      "        [0.4718, 0.6261, 0.4540],\n",
      "        [0.9779, 0.0119, 0.6734],\n",
      "        [0.7860, 0.1524, 0.1238]], dtype=torch.float64)\n"
     ]
    }
   ],
   "source": [
    "print(d.squeeze(1))"
   ]
  },
  {
   "cell_type": "code",
   "execution_count": 11,
   "metadata": {},
   "outputs": [
    {
     "ename": "RuntimeError",
     "evalue": "view size is not compatible with input tensor's size and stride (at least one dimension spans across two contiguous subspaces). Use .reshape(...) instead.",
     "output_type": "error",
     "traceback": [
      "\u001b[0;31m---------------------------------------------------------------------------\u001b[0m",
      "\u001b[0;31mRuntimeError\u001b[0m                              Traceback (most recent call last)",
      "\u001b[1;32m/Users/sunhongchao/Documents/Bot/docs/torch/cut.ipynb Cell 5'\u001b[0m in \u001b[0;36m<cell line: 1>\u001b[0;34m()\u001b[0m\n\u001b[0;32m----> <a href='vscode-notebook-cell:/Users/sunhongchao/Documents/Bot/docs/torch/cut.ipynb#ch0000004?line=0'>1</a>\u001b[0m \u001b[39mprint\u001b[39m(d\u001b[39m.\u001b[39;49mview(\u001b[39m1\u001b[39;49m, \u001b[39m-\u001b[39;49m\u001b[39m1\u001b[39;49m)\u001b[39m.\u001b[39munsqueeze(\u001b[39m1\u001b[39m))\n",
      "\u001b[0;31mRuntimeError\u001b[0m: view size is not compatible with input tensor's size and stride (at least one dimension spans across two contiguous subspaces). Use .reshape(...) instead."
     ]
    }
   ],
   "source": [
    "print(d.view(-1).unsqueeze(1))"
   ]
  }
 ],
 "metadata": {
<<<<<<< HEAD
  "interpreter": {
   "hash": "d20345af9713ebff8c68be7a4bc786792663d50f698c1c39eb248438a08adbaa"
  },
  "kernelspec": {
   "display_name": "Python 3.9.7 ('base')",
=======
  "kernelspec": {
   "display_name": "Python 3.9.12 ('base')",
>>>>>>> 859c862007a049616e2a4dfb26155759c773e451
   "language": "python",
   "name": "python3"
  },
  "language_info": {
   "codemirror_mode": {
    "name": "ipython",
    "version": 3
   },
   "file_extension": ".py",
   "mimetype": "text/x-python",
   "name": "python",
   "nbconvert_exporter": "python",
   "pygments_lexer": "ipython3",
<<<<<<< HEAD
   "version": "3.9.7"
  },
  "orig_nbformat": 4
=======
   "version": "3.9.12"
  },
  "orig_nbformat": 4,
  "vscode": {
   "interpreter": {
    "hash": "ad2bdc8ecc057115af97d19610ffacc2b4e99fae6737bb82f5d7fb13d2f2c186"
   }
  }
>>>>>>> 859c862007a049616e2a4dfb26155759c773e451
 },
 "nbformat": 4,
 "nbformat_minor": 2
}
