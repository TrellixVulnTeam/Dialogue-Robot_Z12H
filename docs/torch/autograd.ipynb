{
 "cells": [
  {
   "cell_type": "code",
   "execution_count": 1,
   "metadata": {},
   "outputs": [
    {
     "name": "stdout",
     "output_type": "stream",
     "text": [
      "y= tensor(0.) ; x= tensor(1.0000)\n"
     ]
    }
   ],
   "source": [
    "# 利用自动微分和优化器来求最小数值\n",
    "import numpy as np\n",
    "import torch\n",
    "# f(x) = a*x**2 + b*x + c的最小值\n",
    "x = torch.tensor(0.0,requires_grad = True) # x需要被求导\n",
    "a = torch.tensor(1.0) \n",
    "b = torch.tensor(-2.0) \n",
    "c = torch.tensor(1.0)\n",
    "optimizer = torch.optim.SGD(params=[x],lr = 0.01)\n",
    "def f(x):\n",
    "    result = a*torch.pow(x,2) + b*x + c\n",
    "    return(result)\n",
    "for i in range(500):\n",
    "    optimizer.zero_grad()\n",
    "    y = f(x)\n",
    "    y.backward()\n",
    "    optimizer.step()\n",
    "print(\"y=\",f(x).data,\";\",\"x=\",x.data)"
   ]
  }
 ],
 "metadata": {
  "kernelspec": {
   "display_name": "Python 3.9.7 ('base')",
   "language": "python",
   "name": "python3"
  },
  "language_info": {
   "codemirror_mode": {
    "name": "ipython",
    "version": 3
   },
   "file_extension": ".py",
   "mimetype": "text/x-python",
   "name": "python",
   "nbconvert_exporter": "python",
   "pygments_lexer": "ipython3",
   "version": "3.9.7"
  },
  "orig_nbformat": 4,
  "vscode": {
   "interpreter": {
    "hash": "d20345af9713ebff8c68be7a4bc786792663d50f698c1c39eb248438a08adbaa"
   }
  }
 },
 "nbformat": 4,
 "nbformat_minor": 2
}
