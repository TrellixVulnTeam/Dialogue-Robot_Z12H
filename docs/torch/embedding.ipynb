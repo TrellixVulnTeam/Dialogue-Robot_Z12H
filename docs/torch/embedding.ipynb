{
 "cells": [
  {
   "cell_type": "code",
   "execution_count": 1,
   "metadata": {},
   "outputs": [
    {
     "name": "stdout",
     "output_type": "stream",
     "text": [
      "Embedding(3, 5, padding_idx=0)\n"
     ]
    }
   ],
   "source": [
    "import torch.nn as nn\n",
    "\n",
    "print(nn.Embedding(3,5,padding_idx=0))"
   ]
  },
  {
   "cell_type": "code",
   "execution_count": 45,
   "metadata": {},
   "outputs": [
    {
     "name": "stdout",
     "output_type": "stream",
     "text": [
      "tensor([[[ 0.0597, -1.9969, -0.5009, -0.0685],\n",
      "         [ 0.1216, -0.7036, -0.6782, -0.9640],\n",
      "         [ 0.7633, -0.7238, -1.1869,  0.1303]],\n",
      "\n",
      "        [[ 0.1216, -0.7036, -0.6782, -0.9640],\n",
      "         [ 0.7633, -0.7238, -1.1869,  0.1303],\n",
      "         [-0.5105,  0.3272, -0.5080,  0.6598]]], grad_fn=<EmbeddingBackward>)\n",
      "torch.Size([2, 3, 4])\n"
     ]
    }
   ],
   "source": [
    "import torch\n",
    "from torch import nn\n",
    "\n",
    "embedding = nn.Embedding(5, 4) # 假定字典中只有5个词，词向量维度为4\n",
    "word = [[1, 2, 3],\n",
    "        [2, 3, 4]] # 每个数字代表一个词，例如 {'!':0,'how':1, 'are':2, 'you':3,  'ok':4}\n",
    "         \t\t   #而且这些数字的范围只能在0～4之间，因为上面定义了只有5个词\n",
    "embed = embedding(torch.LongTensor(word))\n",
    "print(embed) \n",
    "print(embed.size())"
   ]
  }
 ],
 "metadata": {
  "interpreter": {
   "hash": "d157ae46664ef61827425b1700af4733ccc165bd48e667b428e957754f1cdd7e"
  },
  "kernelspec": {
   "display_name": "Python 3.6.13 64-bit ('env_bot': conda)",
   "name": "python3"
  },
  "language_info": {
   "codemirror_mode": {
    "name": "ipython",
    "version": 3
   },
   "file_extension": ".py",
   "mimetype": "text/x-python",
   "name": "python",
   "nbconvert_exporter": "python",
   "pygments_lexer": "ipython3",
   "version": "3.6.13"
  },
  "orig_nbformat": 4
 },
 "nbformat": 4,
 "nbformat_minor": 2
}
