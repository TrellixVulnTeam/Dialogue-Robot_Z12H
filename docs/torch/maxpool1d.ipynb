{
 "cells": [
  {
   "cell_type": "code",
   "execution_count": 5,
   "metadata": {},
   "outputs": [
    {
     "name": "stdout",
     "output_type": "stream",
     "text": [
      "tensor([[[-0.2426, -0.8568,  1.9945,  0.2303, -1.3377],\n",
      "         [ 0.2448,  0.4573, -0.0723,  0.5609, -1.4470],\n",
      "         [-2.1910, -0.7754,  0.6462,  0.3051,  1.9610],\n",
      "         [-0.4577, -0.8503, -3.1918,  0.9591,  0.7097]],\n",
      "\n",
      "        [[ 0.4293, -0.3714,  1.7359,  0.5577,  0.3763],\n",
      "         [ 0.7489, -0.0374,  2.3907, -0.3850,  1.4245],\n",
      "         [-2.1397, -0.6504,  0.3998, -0.0728,  0.1144],\n",
      "         [ 0.1024,  0.4819,  1.5168, -0.1654,  0.8556]]])\n",
      "tensor([[[1.9945],\n",
      "         [0.5609],\n",
      "         [1.9610],\n",
      "         [0.9591]],\n",
      "\n",
      "        [[1.7359],\n",
      "         [2.3907],\n",
      "         [0.3998],\n",
      "         [1.5168]]])\n"
     ]
    }
   ],
   "source": [
    "import torch\n",
    "import torch.nn as nn\n",
    "\n",
    "m = nn.MaxPool1d(5)\n",
    "input = torch.randn(2, 4, 5)\n",
    "output = m(input)\n",
    "\n",
    "print(input)\n",
    "print(output)"
   ]
  }
 ],
 "metadata": {
  "kernelspec": {
   "display_name": "Python 3.9.7 ('base')",
   "language": "python",
   "name": "python3"
  },
  "language_info": {
   "codemirror_mode": {
    "name": "ipython",
    "version": 3
   },
   "file_extension": ".py",
   "mimetype": "text/x-python",
   "name": "python",
   "nbconvert_exporter": "python",
   "pygments_lexer": "ipython3",
   "version": "3.9.7"
  },
  "orig_nbformat": 4,
  "vscode": {
   "interpreter": {
    "hash": "d20345af9713ebff8c68be7a4bc786792663d50f698c1c39eb248438a08adbaa"
   }
  }
 },
 "nbformat": 4,
 "nbformat_minor": 2
}
