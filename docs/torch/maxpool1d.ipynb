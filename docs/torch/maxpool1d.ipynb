{
 "cells": [
  {
   "cell_type": "code",
   "execution_count": 5,
   "source": [
    "import torch\n",
    "import torch.nn as nn\n",
    "\n",
    "m = nn.MaxPool1d(5)\n",
    "input = torch.randn(2, 4, 5)\n",
    "output = m(input)\n",
    "\n",
    "print(input)\n",
    "print(output)"
   ],
   "outputs": [
    {
     "output_type": "stream",
     "name": "stdout",
     "text": [
      "tensor([[[-0.2426, -0.8568,  1.9945,  0.2303, -1.3377],\n",
      "         [ 0.2448,  0.4573, -0.0723,  0.5609, -1.4470],\n",
      "         [-2.1910, -0.7754,  0.6462,  0.3051,  1.9610],\n",
      "         [-0.4577, -0.8503, -3.1918,  0.9591,  0.7097]],\n",
      "\n",
      "        [[ 0.4293, -0.3714,  1.7359,  0.5577,  0.3763],\n",
      "         [ 0.7489, -0.0374,  2.3907, -0.3850,  1.4245],\n",
      "         [-2.1397, -0.6504,  0.3998, -0.0728,  0.1144],\n",
      "         [ 0.1024,  0.4819,  1.5168, -0.1654,  0.8556]]])\n",
      "tensor([[[1.9945],\n",
      "         [0.5609],\n",
      "         [1.9610],\n",
      "         [0.9591]],\n",
      "\n",
      "        [[1.7359],\n",
      "         [2.3907],\n",
      "         [0.3998],\n",
      "         [1.5168]]])\n"
     ]
    }
   ],
   "metadata": {}
  }
 ],
 "metadata": {
  "orig_nbformat": 4,
  "language_info": {
   "name": "python",
   "version": "3.6.13",
   "mimetype": "text/x-python",
   "codemirror_mode": {
    "name": "ipython",
    "version": 3
   },
   "pygments_lexer": "ipython3",
   "nbconvert_exporter": "python",
   "file_extension": ".py"
  },
  "kernelspec": {
   "name": "python3",
   "display_name": "Python 3.6.13 64-bit ('env_bot': conda)"
  },
  "interpreter": {
   "hash": "d157ae46664ef61827425b1700af4733ccc165bd48e667b428e957754f1cdd7e"
  }
 },
 "nbformat": 4,
 "nbformat_minor": 2
}