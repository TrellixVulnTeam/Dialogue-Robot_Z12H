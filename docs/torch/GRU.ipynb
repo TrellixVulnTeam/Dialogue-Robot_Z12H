{
 "cells": [
  {
   "cell_type": "code",
   "execution_count": 1,
   "source": [
    "import torch.nn as nn\n",
    "import torch\n",
    "gru = nn.GRU(input_size=50, hidden_size=50, batch_first=True)\n",
    "embed = nn.Embedding(3, 50)\n",
    "x = torch.LongTensor([[0, 1, 2]])\n",
    "x_embed = embed(x)\n",
    "out, hidden = gru(x_embed)\n",
    "\n",
    "print(x.size())\n",
    "print(x_embed.size())\n",
    "print(out.size())\n",
    "print(hidden.size())\n"
   ],
   "outputs": [
    {
     "output_type": "stream",
     "name": "stdout",
     "text": [
      "torch.Size([1, 3])\n",
      "torch.Size([1, 3, 50])\n",
      "torch.Size([1, 3, 50])\n",
      "torch.Size([1, 1, 50])\n"
     ]
    }
   ],
   "metadata": {}
  },
  {
   "cell_type": "markdown",
   "source": [
    "输出的out包括了每一个输入位所对应的输出。因而输入输出的格式相同。\n",
    "输出的隐含层向量只返回最后一层所对应的隐含层输出。这是设计的原因是很多时候只需要使用最后一层的隐含层输出。比如Sequence to Sequence模型中的encoder一般就只传递最后一层的隐层输出给decoder。"
   ],
   "metadata": {}
  }
 ],
 "metadata": {
  "orig_nbformat": 4,
  "language_info": {
   "name": "python",
   "version": "3.6.13",
   "mimetype": "text/x-python",
   "codemirror_mode": {
    "name": "ipython",
    "version": 3
   },
   "pygments_lexer": "ipython3",
   "nbconvert_exporter": "python",
   "file_extension": ".py"
  },
  "kernelspec": {
   "name": "python3",
   "display_name": "Python 3.6.13 64-bit ('env_bot': conda)"
  },
  "interpreter": {
   "hash": "d157ae46664ef61827425b1700af4733ccc165bd48e667b428e957754f1cdd7e"
  }
 },
 "nbformat": 4,
 "nbformat_minor": 2
}