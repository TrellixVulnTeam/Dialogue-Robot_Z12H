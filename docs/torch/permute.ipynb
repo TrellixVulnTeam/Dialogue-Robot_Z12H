{
 "cells": [
  {
   "cell_type": "code",
   "execution_count": null,
   "source": [
    "x.permute"
   ],
   "outputs": [],
   "metadata": {}
  },
  {
   "cell_type": "code",
   "execution_count": 1,
   "source": [
    "import torch\n",
    "x = torch.randn(2, 3, 5)\n",
    "print(x)\n",
    "print(x.size())"
   ],
   "outputs": [
    {
     "output_type": "stream",
     "name": "stdout",
     "text": [
      "tensor([[[ 0.0638,  0.1394,  0.2456, -0.3144, -0.7761],\n",
      "         [-1.0216, -0.5031,  0.5405,  0.4092,  1.0587],\n",
      "         [ 1.2100, -1.7273, -0.7490, -1.1646,  0.0833]],\n",
      "\n",
      "        [[-0.3131,  1.4476,  1.5212, -0.1068,  2.4531],\n",
      "         [ 1.3893,  0.9250,  1.4608, -0.2901, -0.4895],\n",
      "         [-0.2701,  1.5667, -0.6595, -0.3899,  0.5124]]])\n",
      "torch.Size([2, 3, 5])\n"
     ]
    }
   ],
   "metadata": {}
  },
  {
   "cell_type": "code",
   "execution_count": 3,
   "source": [
    "y = x.permute(2, 0, 1)\n",
    "print(y)\n",
    "print(y.size())"
   ],
   "outputs": [
    {
     "output_type": "stream",
     "name": "stdout",
     "text": [
      "tensor([[[ 0.0638, -1.0216,  1.2100],\n",
      "         [-0.3131,  1.3893, -0.2701]],\n",
      "\n",
      "        [[ 0.1394, -0.5031, -1.7273],\n",
      "         [ 1.4476,  0.9250,  1.5667]],\n",
      "\n",
      "        [[ 0.2456,  0.5405, -0.7490],\n",
      "         [ 1.5212,  1.4608, -0.6595]],\n",
      "\n",
      "        [[-0.3144,  0.4092, -1.1646],\n",
      "         [-0.1068, -0.2901, -0.3899]],\n",
      "\n",
      "        [[-0.7761,  1.0587,  0.0833],\n",
      "         [ 2.4531, -0.4895,  0.5124]]])\n",
      "torch.Size([5, 2, 3])\n"
     ]
    }
   ],
   "metadata": {}
  }
 ],
 "metadata": {
  "orig_nbformat": 4,
  "language_info": {
   "name": "python",
   "version": "3.6.13",
   "mimetype": "text/x-python",
   "codemirror_mode": {
    "name": "ipython",
    "version": 3
   },
   "pygments_lexer": "ipython3",
   "nbconvert_exporter": "python",
   "file_extension": ".py"
  },
  "kernelspec": {
   "name": "python3",
   "display_name": "Python 3.6.13 64-bit ('env_bot': conda)"
  },
  "interpreter": {
   "hash": "d157ae46664ef61827425b1700af4733ccc165bd48e667b428e957754f1cdd7e"
  }
 },
 "nbformat": 4,
 "nbformat_minor": 2
}