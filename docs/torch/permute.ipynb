{
 "cells": [
  {
   "cell_type": "code",
   "execution_count": null,
   "metadata": {},
   "outputs": [],
   "source": [
    "x.permute"
   ]
  },
  {
   "cell_type": "code",
   "execution_count": 1,
   "metadata": {},
   "outputs": [
    {
     "name": "stdout",
     "output_type": "stream",
     "text": [
      "tensor([[[ 0.0638,  0.1394,  0.2456, -0.3144, -0.7761],\n",
      "         [-1.0216, -0.5031,  0.5405,  0.4092,  1.0587],\n",
      "         [ 1.2100, -1.7273, -0.7490, -1.1646,  0.0833]],\n",
      "\n",
      "        [[-0.3131,  1.4476,  1.5212, -0.1068,  2.4531],\n",
      "         [ 1.3893,  0.9250,  1.4608, -0.2901, -0.4895],\n",
      "         [-0.2701,  1.5667, -0.6595, -0.3899,  0.5124]]])\n",
      "torch.Size([2, 3, 5])\n"
     ]
    }
   ],
   "source": [
    "import torch\n",
    "x = torch.randn(2, 3, 5)\n",
    "print(x)\n",
    "print(x.size())"
   ]
  },
  {
   "cell_type": "code",
   "execution_count": 3,
   "metadata": {},
   "outputs": [
    {
     "name": "stdout",
     "output_type": "stream",
     "text": [
      "tensor([[[ 0.0638, -1.0216,  1.2100],\n",
      "         [-0.3131,  1.3893, -0.2701]],\n",
      "\n",
      "        [[ 0.1394, -0.5031, -1.7273],\n",
      "         [ 1.4476,  0.9250,  1.5667]],\n",
      "\n",
      "        [[ 0.2456,  0.5405, -0.7490],\n",
      "         [ 1.5212,  1.4608, -0.6595]],\n",
      "\n",
      "        [[-0.3144,  0.4092, -1.1646],\n",
      "         [-0.1068, -0.2901, -0.3899]],\n",
      "\n",
      "        [[-0.7761,  1.0587,  0.0833],\n",
      "         [ 2.4531, -0.4895,  0.5124]]])\n",
      "torch.Size([5, 2, 3])\n"
     ]
    }
   ],
   "source": [
    "y = x.permute(2, 0, 1)\n",
    "print(y)\n",
    "print(y.size())"
   ]
  }
 ],
 "metadata": {
  "kernelspec": {
   "display_name": "Python 3.9.7 ('base')",
   "language": "python",
   "name": "python3"
  },
  "language_info": {
   "codemirror_mode": {
    "name": "ipython",
    "version": 3
   },
   "file_extension": ".py",
   "mimetype": "text/x-python",
   "name": "python",
   "nbconvert_exporter": "python",
   "pygments_lexer": "ipython3",
   "version": "3.9.7"
  },
  "orig_nbformat": 4,
  "vscode": {
   "interpreter": {
    "hash": "d20345af9713ebff8c68be7a4bc786792663d50f698c1c39eb248438a08adbaa"
   }
  }
 },
 "nbformat": 4,
 "nbformat_minor": 2
}
