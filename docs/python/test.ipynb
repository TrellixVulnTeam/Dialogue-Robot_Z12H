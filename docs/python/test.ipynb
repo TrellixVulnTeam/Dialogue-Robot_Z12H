{
 "cells": [
  {
   "cell_type": "code",
   "execution_count": 5,
   "metadata": {},
   "outputs": [
    {
     "name": "stdout",
     "output_type": "stream",
     "text": [
      "single thread\n",
      "0正在写代码\n",
      "1正在写代码\n",
      "2正在写代码\n",
      "0正在画图\n",
      "1正在画图\n",
      "2正在画图\n",
      "[<_MainThread(MainThread, started 8608513536)>, <Thread(Thread-2, started daemon 12951285760)>, <Heartbeat(Thread-3, started daemon 12968075264)>, <HistorySavingThread(IPythonHistorySavingThread, started 12985937920)>, <ParentPollerUnix(Thread-1, started daemon 13003288576)>]\n",
      "<_MainThread(MainThread, started 8608513536)>\n",
      "multi thread\n",
      "0正在写代码\n",
      "0正在画图\n",
      "1正在写代码\n",
      "1正在画图\n",
      "2正在写代码\n",
      "2正在画图\n"
     ]
    }
   ],
   "source": [
    "import threading\n",
    "import time\n",
    "\n",
    "def coding():\n",
    "    for x in range(3):\n",
    "        print('%s正在写代码' % x)\n",
    "        time.sleep(1)\n",
    "\n",
    "def drawing():\n",
    "    for x in range(3):\n",
    "        print('%s正在画图' % x)\n",
    "        time.sleep(1)\n",
    "\n",
    "\n",
    "def single_thread():\n",
    "    coding()\n",
    "    drawing()\n",
    "\n",
    "def multi_thread():\n",
    "    t1 = threading.Thread(target=coding)\n",
    "    t2 = threading.Thread(target=drawing)\n",
    "\n",
    "    t1.start()\n",
    "    t2.start()\n",
    "\n",
    "if __name__ == '__main__':\n",
    "\n",
    "    print(\"single thread\")\n",
    "    single_thread()\n",
    "\n",
    "    print(threading.enumerate())\n",
    "    print(threading.current_thread())\n",
    "\n",
    "    print('multi thread')\n",
    "    multi_thread()"
   ]
  },
  {
   "cell_type": "code",
   "execution_count": 6,
   "metadata": {},
   "outputs": [
    {
     "name": "stdout",
     "output_type": "stream",
     "text": [
      "<CodingThread(Thread-12, started 13020078080)>正在写代码\n",
      "<DrawingThread(Thread-13, started 13036867584)>正在画图\n",
      "<CodingThread(Thread-12, started 13020078080)>正在写代码<DrawingThread(Thread-13, started 13036867584)>正在画图\n",
      "\n",
      "<CodingThread(Thread-12, started 13020078080)>正在写代码<DrawingThread(Thread-13, started 13036867584)>正在画图\n",
      "\n"
     ]
    }
   ],
   "source": [
    "import threading\n",
    "import time\n",
    "\n",
    "class CodingThread(threading.Thread):\n",
    "    def run(self):\n",
    "        for x in range(3):\n",
    "            print('%s正在写代码' % threading.current_thread())\n",
    "            time.sleep(1)\n",
    "\n",
    "class DrawingThread(threading.Thread):\n",
    "    def run(self):\n",
    "        for x in range(3):\n",
    "            print('%s正在画图' % threading.current_thread())\n",
    "            time.sleep(1)\n",
    "\n",
    "def multi_thread():\n",
    "    t1 = CodingThread()\n",
    "    t2 = DrawingThread()\n",
    "\n",
    "    t1.start()\n",
    "    t2.start()\n",
    "\n",
    "if __name__ == '__main__':\n",
    "    multi_thread()"
   ]
  },
  {
   "cell_type": "code",
   "execution_count": 12,
   "metadata": {},
   "outputs": [
    {
     "name": "stdout",
     "output_type": "stream",
     "text": [
      "tickets:193812tickets:193387\n",
      "\n"
     ]
    }
   ],
   "source": [
    "import threading\n",
    "\n",
    "tickets = 0\n",
    "\n",
    "def get_ticket():\n",
    "    global tickets\n",
    "    for x in range(100000):\n",
    "        tickets += 1\n",
    "    print('tickets:%d'%tickets)\n",
    "\n",
    "def main():\n",
    "    for x in range(2):\n",
    "        t = threading.Thread(target=get_ticket)\n",
    "        t.start()\n",
    "\n",
    "if __name__ == '__main__':\n",
    "    main()\n"
   ]
  },
  {
   "cell_type": "code",
   "execution_count": 13,
   "metadata": {},
   "outputs": [
    {
     "name": "stdout",
     "output_type": "stream",
     "text": [
      "value：100000value：200000\n",
      "\n"
     ]
    }
   ],
   "source": [
    "import threading\n",
    "\n",
    "VALUE = 0\n",
    "\n",
    "gLock = threading.Lock()\n",
    "\n",
    "def add_value():\n",
    "    global VALUE\n",
    "    gLock.acquire()\n",
    "    for x in range(100000):\n",
    "        VALUE += 1\n",
    "    gLock.release()\n",
    "    print('value：%d'%VALUE)\n",
    "\n",
    "def main():\n",
    "    for x in range(2):\n",
    "        t = threading.Thread(target=add_value)\n",
    "        t.start()\n",
    "\n",
    "if __name__ == '__main__':\n",
    "    main()"
   ]
  }
 ],
 "metadata": {
  "interpreter": {
   "hash": "d20345af9713ebff8c68be7a4bc786792663d50f698c1c39eb248438a08adbaa"
  },
  "kernelspec": {
   "display_name": "Python 3.9.7 ('base')",
   "language": "python",
   "name": "python3"
  },
  "language_info": {
   "codemirror_mode": {
    "name": "ipython",
    "version": 3
   },
   "file_extension": ".py",
   "mimetype": "text/x-python",
   "name": "python",
   "nbconvert_exporter": "python",
   "pygments_lexer": "ipython3",
   "version": "3.9.7"
  },
  "orig_nbformat": 4
 },
 "nbformat": 4,
 "nbformat_minor": 2
}
