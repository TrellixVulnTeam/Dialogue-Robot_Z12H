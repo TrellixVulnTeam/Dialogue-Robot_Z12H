{
 "metadata": {
  "language_info": {
   "codemirror_mode": {
    "name": "ipython",
    "version": 3
   },
   "file_extension": ".py",
   "mimetype": "text/x-python",
   "name": "python",
   "nbconvert_exporter": "python",
   "pygments_lexer": "ipython3",
   "version": "3.6.13"
  },
  "orig_nbformat": 4,
  "kernelspec": {
   "name": "python3",
   "display_name": "Python 3.6.13 64-bit ('env_bot': conda)"
  },
  "interpreter": {
   "hash": "c0f41de057f043fc866ea0ad4090fbe4aac9a392ebb413144948c7f46444fb5c"
  }
 },
 "nbformat": 4,
 "nbformat_minor": 2,
 "cells": [
  {
   "source": [
    "Python中通过Key访问字典，当Key不存在时，会引发‘KeyError’异常。为了避免这种情况的发生，可以使用collections类中的defaultdict()方法来为字典提供默认值。"
   ],
   "cell_type": "markdown",
   "metadata": {}
  },
  {
   "source": [
    "1、使用list作第一个参数，可以很容易将键-值对序列转换为列表字典。"
   ],
   "cell_type": "markdown",
   "metadata": {}
  },
  {
   "cell_type": "code",
   "execution_count": 1,
   "metadata": {},
   "outputs": [
    {
     "output_type": "stream",
     "name": "stdout",
     "text": [
      "[('blue', [2, 4]), ('red', [1]), ('yellow', [1, 3])]\n"
     ]
    }
   ],
   "source": [
    "from collections import defaultdict\n",
    "s=[('yellow',1),('blue', 2), ('yellow', 3), ('blue', 4), ('red', 1)]\n",
    "d=defaultdict(list)\n",
    "for k, v in s:\n",
    "    d[k].append(v)\n",
    "a=sorted(d.items())\n",
    "print(a)"
   ]
  },
  {
   "source": [
    "当字典中没有的键第一次出现时，default_factory自动为其返回一个空列表，list.append()会将值添加进新列表；再次遇到相同的键时，list.append()将其它值再添加进该列表。\n",
    "\n",
    "这种方法比使用dict.setdefault()更为便捷，dict.setdefault()也可以实现相同的功能。\n",
    "代码如下："
   ],
   "cell_type": "markdown",
   "metadata": {}
  },
  {
   "cell_type": "code",
   "execution_count": 3,
   "metadata": {},
   "outputs": [
    {
     "output_type": "stream",
     "name": "stdout",
     "text": [
      "\n {'yellow': [1, 3], 'blue': [2, 4], 'red': [1]}\n\n [('blue', [2, 4]), ('red', [1]), ('yellow', [1, 3])]\n"
     ]
    }
   ],
   "source": [
    "s = [('yellow', 1), ('blue', 2), ('yellow', 3), ('blue', 4), ('red', 1)]\n",
    "d={}\n",
    "for k, v in s:\n",
    "    d.setdefault(k,[]).append(v)\n",
    "print('\\n',d)\n",
    "a=sorted(d.items())\n",
    "print('\\n',a)"
   ]
  },
  {
   "cell_type": "code",
   "execution_count": null,
   "metadata": {},
   "outputs": [],
   "source": [
    "2. defaultdict还可以被用来计数，将default_factory设为int即可。"
   ]
  },
  {
   "cell_type": "code",
   "execution_count": 4,
   "metadata": {},
   "outputs": [
    {
     "output_type": "stream",
     "name": "stdout",
     "text": [
      "\n defaultdict(<class 'int'>, {'m': 1, 'i': 4, 's': 4, 'p': 2})\n\n [('i', 4), ('m', 1), ('p', 2), ('s', 4)]\n"
     ]
    }
   ],
   "source": [
    "from collections import defaultdict\n",
    "s = 'mississippi'\n",
    "d = defaultdict(int)\n",
    "for k in s:\n",
    "    d[k] += 1\n",
    "print('\\n',d)\n",
    "a=sorted(d.items())\n",
    "print('\\n',a)"
   ]
  },
  {
   "cell_type": "code",
   "execution_count": null,
   "metadata": {},
   "outputs": [],
   "source": [
    "3、default_factory设为set时，可以用defaultdict建立集合字典（a dictionary of sets）"
   ]
  },
  {
   "cell_type": "code",
   "execution_count": 5,
   "metadata": {},
   "outputs": [
    {
     "output_type": "stream",
     "name": "stdout",
     "text": [
      "\n defaultdict(<class 'set'>, {'red': {1, 3}, 'blue': {2, 4}})\n\n [('blue', {2, 4}), ('red', {1, 3})]\n"
     ]
    }
   ],
   "source": [
    "from collections import defaultdict\n",
    "s = [('red', 1), ('blue', 2), ('red', 3), ('blue', 4), ('red', 1), ('blue', 4)]\n",
    "d = defaultdict(set)\n",
    "for k, v in s:\n",
    "    d[k].add(v)\n",
    "print('\\n',d)\n",
    "a=sorted(d.items())\n",
    "print('\\n',a)"
   ]
  },
  {
   "cell_type": "code",
   "execution_count": null,
   "metadata": {},
   "outputs": [],
   "source": []
  }
 ]
}