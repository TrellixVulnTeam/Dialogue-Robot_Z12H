{
  "cells": [
    {
      "cell_type": "markdown",
      "metadata": {
        "id": "AXHLDxJdRzBi"
      },
      "source": [
        "# **Tutorial** - Topic Modeling with BERTopic\n",
        "(last updated 08-06-2021)\n",
        "\n",
        "In this tutorial we will be exploring how to use BERTopic to create topics from the well-known 20Newsgroups dataset. The most frequent use-cases and methods are discussed together with important parameters to keep a look out for. \n",
        "\n",
        "\n",
        "## BERTopic\n",
        "BERTopic is a topic modeling technique that leverages 🤗 transformers and a custom class-based TF-IDF to create dense clusters allowing for easily interpretable topics whilst keeping important words in the topic descriptions. \n",
        "\n",
        "<br>\n",
        "\n",
        "<img src=\"https://raw.githubusercontent.com/MaartenGr/BERTopic/master/images/logo.png\" width=\"40%\">"
      ]
    },
    {
      "cell_type": "markdown",
      "metadata": {
        "id": "130PIKarkY1_"
      },
      "source": [
        "# Enabling the GPU\n",
        "\n",
        "First, you'll need to enable GPUs for the notebook:\n",
        "\n",
        "- Navigate to Edit→Notebook Settings\n",
        "- select GPU from the Hardware Accelerator drop-down\n",
        "\n",
        "[Reference](https://colab.research.google.com/notebooks/gpu.ipynb)"
      ]
    },
    {
      "cell_type": "markdown",
      "metadata": {
        "id": "lj2MUI9Mkdxu"
      },
      "source": [
        "# **Installing BERTopic**\n",
        "\n",
        "We start by installing BERTopic from PyPi:"
      ]
    },
    {
      "cell_type": "code",
      "execution_count": 1,
      "metadata": {
        "id": "SNa-KtKDRnus"
      },
      "outputs": [],
      "source": [
        "%%capture\n",
        "!pip install bertopic"
      ]
    },
    {
      "cell_type": "markdown",
      "metadata": {
        "id": "0ehO3emgk96g"
      },
      "source": [
        "## Restart the Notebook\n",
        "After installing BERTopic, some packages that were already loaded were updated and in order to correctly use them, we should now restart the notebook.\n",
        "\n",
        "From the Menu:\n",
        "\n",
        "Runtime → Restart Runtime"
      ]
    },
    {
      "cell_type": "markdown",
      "metadata": {
        "id": "Y3VGFZ1USMTu"
      },
      "source": [
        "# Data\n",
        "For this example, we use the popular 20 Newsgroups dataset which contains roughly 18000 newsgroups posts"
      ]
    },
    {
      "cell_type": "code",
      "execution_count": 2,
      "metadata": {
        "id": "JJij3WP6SEQD"
      },
      "outputs": [],
      "source": [
        "# from sklearn.datasets import fetch_20newsgroups\n",
        "# docs = fetch_20newsgroups(subset='all',  remove=('headers', 'footers', 'quotes'))['data']\n",
        "\n",
        "docs = []\n",
        "with open('../resources/corpus/inuse/cluster/tmp6', mode='r', encoding='utf-8') as f:\n",
        "    lines = f.readlines()\n",
        "    for item in lines:\n",
        "        item = item.strip()\n",
        "        # print(item)\n",
        "        # if len(item.split(' ')) != 2:\n",
        "        #     continue\n",
        "        docs.append(item)"
      ]
    },
    {
      "cell_type": "code",
      "execution_count": 3,
      "metadata": {},
      "outputs": [
        {
          "name": "stdout",
          "output_type": "stream",
          "text": [
            "自然吸气发动机和涡轮增压发动机的区别是什么?\n"
          ]
        }
      ],
      "source": [
        "print(docs[1])"
      ]
    },
    {
      "cell_type": "markdown",
      "metadata": {
        "id": "SBcNmZJzSTY8"
      },
      "source": [
        "# **Topic Modeling**\n",
        "\n",
        "In this example, we will go through the main components of BERTopic and the steps necessary to create a strong topic model. \n",
        "\n",
        "\n"
      ]
    },
    {
      "cell_type": "markdown",
      "metadata": {
        "id": "QI6vwelqnTL-"
      },
      "source": [
        "## Training\n",
        "\n",
        "We start by instantiating BERTopic. We set language to `english` since our documents are in the English language. If you would like to use a multi-lingual model, please use `language=\"multilingual\"` instead. \n",
        "\n",
        "We will also calculate the topic probabilities. However, this can slow down BERTopic significantly at large amounts of data (>100_000 documents). It is advised to turn this off if you want to speed up the model. \n"
      ]
    },
    {
      "cell_type": "code",
      "execution_count": 4,
      "metadata": {
        "id": "TfhfzqkoSJ1I"
      },
      "outputs": [
        {
          "name": "stderr",
          "output_type": "stream",
          "text": [
            "Batches: 100%|██████████| 19/19 [00:12<00:00,  1.54it/s]\n",
            "2022-07-14 16:35:46,558 - BERTopic - Transformed documents to Embeddings\n",
            "2022-07-14 16:35:51,011 - BERTopic - Reduced dimensionality with UMAP\n",
            "2022-07-14 16:35:51,097 - BERTopic - Clustered UMAP embeddings with HDBSCAN\n"
          ]
        }
      ],
      "source": [
        "from bertopic import BERTopic\n",
        "\n",
        "topic_model = BERTopic(language=\"chinese (simplified)\", calculate_probabilities=True, verbose=True, top_n_words=10, min_topic_size=3)\n",
        "topics, probs = topic_model.fit_transform(docs)"
      ]
    },
    {
      "cell_type": "markdown",
      "metadata": {
        "id": "tJs94tXDo4f6"
      },
      "source": [
        "**NOTE**: Use `language=\"multilingual\"` to select a model that support 50+ languages."
      ]
    },
    {
      "cell_type": "markdown",
      "metadata": {
        "id": "A5O3KpHTnVpz"
      },
      "source": [
        "## Extracting Topics\n",
        "After fitting our model, we can start by looking at the results. Typically, we look at the most frequent topics first as they best represent the collection of documents. "
      ]
    },
    {
      "cell_type": "code",
      "execution_count": 5,
      "metadata": {
        "colab": {
          "base_uri": "https://localhost:8080/",
          "height": 195
        },
        "id": "ScBUgXn06IK6",
        "outputId": "ee49a346-8d12-41c4-c7e9-8c1b6782c636"
      },
      "outputs": [
        {
          "data": {
            "text/html": [
              "<div>\n",
              "<style scoped>\n",
              "    .dataframe tbody tr th:only-of-type {\n",
              "        vertical-align: middle;\n",
              "    }\n",
              "\n",
              "    .dataframe tbody tr th {\n",
              "        vertical-align: top;\n",
              "    }\n",
              "\n",
              "    .dataframe thead th {\n",
              "        text-align: right;\n",
              "    }\n",
              "</style>\n",
              "<table border=\"1\" class=\"dataframe\">\n",
              "  <thead>\n",
              "    <tr style=\"text-align: right;\">\n",
              "      <th></th>\n",
              "      <th>Topic</th>\n",
              "      <th>Count</th>\n",
              "      <th>Name</th>\n",
              "    </tr>\n",
              "  </thead>\n",
              "  <tbody>\n",
              "    <tr>\n",
              "      <th>0</th>\n",
              "      <td>-1</td>\n",
              "      <td>112</td>\n",
              "      <td>-1_0导航你们要哪个_汽车因为发动机坏了_摩托车发动机声音大的原因是什么_我想买个电动车</td>\n",
              "    </tr>\n",
              "    <tr>\n",
              "      <th>1</th>\n",
              "      <td>0</td>\n",
              "      <td>26</td>\n",
              "      <td>0_0最低价多少哦_需要多少钱_二手车过户要多少钱啊请问_哈佛h6分期付款需要多少现金</td>\n",
              "    </tr>\n",
              "    <tr>\n",
              "      <th>2</th>\n",
              "      <td>1</td>\n",
              "      <td>24</td>\n",
              "      <td>1_11款北京现代瑞纳正时皮带多久更换一次_都在哪_上海有哪些灯光高尔夫球场_上海大众</td>\n",
              "    </tr>\n",
              "    <tr>\n",
              "      <th>3</th>\n",
              "      <td>2</td>\n",
              "      <td>24</td>\n",
              "      <td>2_大众汽车车上rear什么意思_挡位m加和m减是什么意思_逆变器是什么_车里的eco是什么意思</td>\n",
              "    </tr>\n",
              "    <tr>\n",
              "      <th>4</th>\n",
              "      <td>3</td>\n",
              "      <td>23</td>\n",
              "      <td>3_18款速腾1_4t熠动版隐藏功能有哪些_车内灯在行驶过程中无法正常关闭_请问这是什么原因</td>\n",
              "    </tr>\n",
              "  </tbody>\n",
              "</table>\n",
              "</div>"
            ],
            "text/plain": [
              "   Topic  Count                                              Name\n",
              "0     -1    112     -1_0导航你们要哪个_汽车因为发动机坏了_摩托车发动机声音大的原因是什么_我想买个电动车\n",
              "1      0     26       0_0最低价多少哦_需要多少钱_二手车过户要多少钱啊请问_哈佛h6分期付款需要多少现金\n",
              "2      1     24       1_11款北京现代瑞纳正时皮带多久更换一次_都在哪_上海有哪些灯光高尔夫球场_上海大众\n",
              "3      2     24  2_大众汽车车上rear什么意思_挡位m加和m减是什么意思_逆变器是什么_车里的eco是什么意思\n",
              "4      3     23    3_18款速腾1_4t熠动版隐藏功能有哪些_车内灯在行驶过程中无法正常关闭_请问这是什么原因"
            ]
          },
          "execution_count": 5,
          "metadata": {},
          "output_type": "execute_result"
        }
      ],
      "source": [
        "freq = topic_model.get_topic_info(); freq.head(5)"
      ]
    },
    {
      "cell_type": "code",
      "execution_count": 6,
      "metadata": {},
      "outputs": [
        {
          "data": {
            "text/plain": [
              "50"
            ]
          },
          "execution_count": 6,
          "metadata": {},
          "output_type": "execute_result"
        }
      ],
      "source": [
        "len(freq)"
      ]
    },
    {
      "cell_type": "code",
      "execution_count": 8,
      "metadata": {},
      "outputs": [
        {
          "data": {
            "text/html": [
              "<div>\n",
              "<style scoped>\n",
              "    .dataframe tbody tr th:only-of-type {\n",
              "        vertical-align: middle;\n",
              "    }\n",
              "\n",
              "    .dataframe tbody tr th {\n",
              "        vertical-align: top;\n",
              "    }\n",
              "\n",
              "    .dataframe thead th {\n",
              "        text-align: right;\n",
              "    }\n",
              "</style>\n",
              "<table border=\"1\" class=\"dataframe\">\n",
              "  <thead>\n",
              "    <tr style=\"text-align: right;\">\n",
              "      <th></th>\n",
              "      <th>Topic</th>\n",
              "      <th>Count</th>\n",
              "      <th>Name</th>\n",
              "    </tr>\n",
              "  </thead>\n",
              "  <tbody>\n",
              "    <tr>\n",
              "      <th>0</th>\n",
              "      <td>-1</td>\n",
              "      <td>112</td>\n",
              "      <td>-1_0导航你们要哪个_汽车因为发动机坏了_摩托车发动机声音大的原因是什么_我想买个电动车</td>\n",
              "    </tr>\n",
              "    <tr>\n",
              "      <th>1</th>\n",
              "      <td>0</td>\n",
              "      <td>26</td>\n",
              "      <td>0_0最低价多少哦_需要多少钱_二手车过户要多少钱啊请问_哈佛h6分期付款需要多少现金</td>\n",
              "    </tr>\n",
              "    <tr>\n",
              "      <th>2</th>\n",
              "      <td>1</td>\n",
              "      <td>24</td>\n",
              "      <td>1_11款北京现代瑞纳正时皮带多久更换一次_都在哪_上海有哪些灯光高尔夫球场_上海大众</td>\n",
              "    </tr>\n",
              "    <tr>\n",
              "      <th>3</th>\n",
              "      <td>2</td>\n",
              "      <td>24</td>\n",
              "      <td>2_大众汽车车上rear什么意思_挡位m加和m减是什么意思_逆变器是什么_车里的eco是什么意思</td>\n",
              "    </tr>\n",
              "    <tr>\n",
              "      <th>4</th>\n",
              "      <td>3</td>\n",
              "      <td>23</td>\n",
              "      <td>3_18款速腾1_4t熠动版隐藏功能有哪些_车内灯在行驶过程中无法正常关闭_请问这是什么原因</td>\n",
              "    </tr>\n",
              "    <tr>\n",
              "      <th>5</th>\n",
              "      <td>4</td>\n",
              "      <td>21</td>\n",
              "      <td>4_什么是交通标志智能识别系统_双r是什么汽车_跑车有哪些牌子_羊头标志的皮卡是什么车</td>\n",
              "    </tr>\n",
              "    <tr>\n",
              "      <th>6</th>\n",
              "      <td>5</td>\n",
              "      <td>19</td>\n",
              "      <td>5_10万以内的suv车排行榜前十名_10万左右口碑最好的车是什么_还多少期最划算_运输</td>\n",
              "    </tr>\n",
              "    <tr>\n",
              "      <th>7</th>\n",
              "      <td>6</td>\n",
              "      <td>19</td>\n",
              "      <td>6_手机电池在没电的时候重量会不会比较轻_手机电池如何放电_那如果是锂电池的笔记本好吗_车辆...</td>\n",
              "    </tr>\n",
              "    <tr>\n",
              "      <th>8</th>\n",
              "      <td>7</td>\n",
              "      <td>18</td>\n",
              "      <td>7_如何查召回汽车_驾驶证到期在哪里换证_行驶证被扣_自己原车牌可以挂二手车上吗</td>\n",
              "    </tr>\n",
              "    <tr>\n",
              "      <th>9</th>\n",
              "      <td>8</td>\n",
              "      <td>18</td>\n",
              "      <td>8_车辆的后门从内部打不开_怎样清除汽车座套的异味_汽车漆面裂纹怎么修复_汽车前风挡贴膜的问题</td>\n",
              "    </tr>\n",
              "    <tr>\n",
              "      <th>10</th>\n",
              "      <td>9</td>\n",
              "      <td>18</td>\n",
              "      <td>9_发动机机油用什么牌子的好_宝马mini用什么机油_能加95号汽油吗_用92号汽油的车</td>\n",
              "    </tr>\n",
              "    <tr>\n",
              "      <th>11</th>\n",
              "      <td>10</td>\n",
              "      <td>15</td>\n",
              "      <td>10_我想做个轮胎代理商_我想知道车的轮胎多少公里保养一次_轮胎三包规定内容有哪些_轮毂用久...</td>\n",
              "    </tr>\n",
              "    <tr>\n",
              "      <th>12</th>\n",
              "      <td>11</td>\n",
              "      <td>12</td>\n",
              "      <td>11_一个汽车电瓶使用寿命为多少年_一般来说_马自达6_马自达</td>\n",
              "    </tr>\n",
              "    <tr>\n",
              "      <th>14</th>\n",
              "      <td>12</td>\n",
              "      <td>11</td>\n",
              "      <td>12_q7低配和途锐柴油顶配哪个好_tida_预定了2012手舒_雅迪电动车有哪些型号</td>\n",
              "    </tr>\n",
              "    <tr>\n",
              "      <th>13</th>\n",
              "      <td>13</td>\n",
              "      <td>11</td>\n",
              "      <td>13_违章多久会收到通知_福克斯的刹车片多久更换_瑞虎多久更换一次火花塞_瑞虎3离合器多久更换一次</td>\n",
              "    </tr>\n",
              "    <tr>\n",
              "      <th>15</th>\n",
              "      <td>14</td>\n",
              "      <td>10</td>\n",
              "      <td>14_车身斜怎么修正方向_该挂哪个档位_规格表_汽车牌照螺丝怎么拆</td>\n",
              "    </tr>\n",
              "    <tr>\n",
              "      <th>16</th>\n",
              "      <td>15</td>\n",
              "      <td>10</td>\n",
              "      <td>15_雪铁龙车子怎么样_那个好_请问吉利的美日之星这款车怎么样_福特翼博如何</td>\n",
              "    </tr>\n",
              "    <tr>\n",
              "      <th>17</th>\n",
              "      <td>16</td>\n",
              "      <td>10</td>\n",
              "      <td>16_长安汽车多久换变速箱油_车辆磨合期一般是多少公里_测速拍照多远开始测速_汽车怠速时</td>\n",
              "    </tr>\n",
              "    <tr>\n",
              "      <th>18</th>\n",
              "      <td>17</td>\n",
              "      <td>10</td>\n",
              "      <td>17_工厂网电停电后和来电后_怎么接电路图_起动开关_电瓶车有电加油门不走是什么故障</td>\n",
              "    </tr>\n",
              "    <tr>\n",
              "      <th>19</th>\n",
              "      <td>18</td>\n",
              "      <td>9</td>\n",
              "      <td>18_空压机的维护与保养问题_玉柴发动机yc4f115_怎样保养轻型汽车发动机的润滑系_如何...</td>\n",
              "    </tr>\n",
              "    <tr>\n",
              "      <th>20</th>\n",
              "      <td>19</td>\n",
              "      <td>9</td>\n",
              "      <td>19_crv2_大约得多少钱_跪求_如何解决</td>\n",
              "    </tr>\n",
              "    <tr>\n",
              "      <th>21</th>\n",
              "      <td>20</td>\n",
              "      <td>9</td>\n",
              "      <td>20_黑a是哪的车牌号_长安福特是哪儿产的_车牌辽r是哪个城市的_车牌浙c是什么地方</td>\n",
              "    </tr>\n",
              "    <tr>\n",
              "      <th>22</th>\n",
              "      <td>21</td>\n",
              "      <td>9</td>\n",
              "      <td>21_谁知道水泵的原理及制作_请问水位控制器的工作原理_生产汽车玻璃洗涤剂玻璃水要用什么设备...</td>\n",
              "    </tr>\n",
              "    <tr>\n",
              "      <th>23</th>\n",
              "      <td>22</td>\n",
              "      <td>8</td>\n",
              "      <td>22_骑电动车技巧_怎么把尼桑天籁原车导航换成凯立德_开滴滴需要什么条件_吉利帝豪远程控制教...</td>\n",
              "    </tr>\n",
              "    <tr>\n",
              "      <th>26</th>\n",
              "      <td>24</td>\n",
              "      <td>7</td>\n",
              "      <td>24_高分请教关于长安汽车s460_请教专家商用小型mpv给做个详细解释我暂定_悦达起亚k5...</td>\n",
              "    </tr>\n",
              "    <tr>\n",
              "      <th>27</th>\n",
              "      <td>23</td>\n",
              "      <td>7</td>\n",
              "      <td>23_这是怎么回事啊_车子停下来发动机抖动是什么原因_科鲁兹告诉刹车方向盘抖动时什么原因_汽...</td>\n",
              "    </tr>\n",
              "    <tr>\n",
              "      <th>25</th>\n",
              "      <td>26</td>\n",
              "      <td>7</td>\n",
              "      <td>26_烟台哪里有二手车评估师的培训点_汽车点烟器怎么用图示_汽车点烟器保险丝烧了怎么取下来_...</td>\n",
              "    </tr>\n",
              "    <tr>\n",
              "      <th>24</th>\n",
              "      <td>25</td>\n",
              "      <td>7</td>\n",
              "      <td>25_需要换吗_轮胎多长时间需要换位_瑞纳原车轮胎多久换一次_玛吉斯轮胎质量过关吗</td>\n",
              "    </tr>\n",
              "    <tr>\n",
              "      <th>29</th>\n",
              "      <td>29</td>\n",
              "      <td>6</td>\n",
              "      <td>29_高速开运动模式还是经济模式_自动挡各自的优缺点_无级变速好还是双离合好_手动挡</td>\n",
              "    </tr>\n",
              "    <tr>\n",
              "      <th>30</th>\n",
              "      <td>30</td>\n",
              "      <td>6</td>\n",
              "      <td>30_辣眼睛_转向系液压油如何更换_然后加了油后又打不着火是怎么回事_油门一股一股的</td>\n",
              "    </tr>\n",
              "    <tr>\n",
              "      <th>31</th>\n",
              "      <td>31</td>\n",
              "      <td>6</td>\n",
              "      <td>31_路虎揽胜发动机号在哪_起亚智跑怎样_朗逸怎么样_新赛欧这种异响是怎么回事</td>\n",
              "    </tr>\n",
              "    <tr>\n",
              "      <th>32</th>\n",
              "      <td>27</td>\n",
              "      <td>6</td>\n",
              "      <td>27_汽车多久保养一次最合适_小车年检6年后是每两年年检一次吗_小型轿车多少年以后每年需要审...</td>\n",
              "    </tr>\n",
              "    <tr>\n",
              "      <th>28</th>\n",
              "      <td>28</td>\n",
              "      <td>6</td>\n",
              "      <td>28_长安面包车的水温探头在哪个位置_空压机高温有哪些原因_汽车水箱温度忽高忽低是怎么回事_...</td>\n",
              "    </tr>\n",
              "    <tr>\n",
              "      <th>37</th>\n",
              "      <td>35</td>\n",
              "      <td>5</td>\n",
              "      <td>35_超威电动车的电量满电是4格_请问电瓶车的充电器_电动车充电桩怎么设置时间_电动车充电器...</td>\n",
              "    </tr>\n",
              "    <tr>\n",
              "      <th>40</th>\n",
              "      <td>32</td>\n",
              "      <td>5</td>\n",
              "      <td>32_潍柴290马力高气门室的发动机多少公里需要大修_每个汽车汽缸有多少个气门_建一个高尔夫...</td>\n",
              "    </tr>\n",
              "    <tr>\n",
              "      <th>39</th>\n",
              "      <td>33</td>\n",
              "      <td>5</td>\n",
              "      <td>33_电动车和摩托车相比各有和优缺点_无证驾驶一个没有牌照的摩托车_撞到电动车_摩托车高挡低...</td>\n",
              "    </tr>\n",
              "    <tr>\n",
              "      <th>38</th>\n",
              "      <td>34</td>\n",
              "      <td>5</td>\n",
              "      <td>34_家庭太阳能发电需要多少光伏板和蓄电池及用多大的逆变器_太阳能电池板怎么用_太阳能发电板...</td>\n",
              "    </tr>\n",
              "    <tr>\n",
              "      <th>36</th>\n",
              "      <td>37</td>\n",
              "      <td>5</td>\n",
              "      <td>37_车门电动窗按钮漏风该怎么办_车钥匙有电但感应不到怎么回事_汽车遥控钥匙失灵什么原因_无...</td>\n",
              "    </tr>\n",
              "    <tr>\n",
              "      <th>35</th>\n",
              "      <td>38</td>\n",
              "      <td>5</td>\n",
              "      <td>38_火花塞间隙大会引起点火线圈击穿漏电吗_本田飞度_如何关闭汽车自动启停系统_奥迪自动启停...</td>\n",
              "    </tr>\n",
              "    <tr>\n",
              "      <th>34</th>\n",
              "      <td>39</td>\n",
              "      <td>5</td>\n",
              "      <td>39_小帅哥燃油助力车刹车问题_哈飞民意如何调节刹车_刹车盘什么时候换_刹车是哪个位置</td>\n",
              "    </tr>\n",
              "    <tr>\n",
              "      <th>33</th>\n",
              "      <td>36</td>\n",
              "      <td>5</td>\n",
              "      <td>36_新大州本田和五羊本田哪个好_凯越和福克斯选哪个好啊_什么牌子的皮卡车比较好_丰田致享和...</td>\n",
              "    </tr>\n",
              "    <tr>\n",
              "      <th>41</th>\n",
              "      <td>40</td>\n",
              "      <td>4</td>\n",
              "      <td>40_车子反光镜调到什么位置最佳_江铃福特全顺有没有碰撞传感器_新桑塔纳怎么使用外后视镜加热...</td>\n",
              "    </tr>\n",
              "    <tr>\n",
              "      <th>42</th>\n",
              "      <td>41</td>\n",
              "      <td>4</td>\n",
              "      <td>41_高速柴油机与低速柴油机用途上有何区别_自然吸气发动机和涡轮增压发动机的区别是什么_汽车...</td>\n",
              "    </tr>\n",
              "    <tr>\n",
              "      <th>43</th>\n",
              "      <td>42</td>\n",
              "      <td>4</td>\n",
              "      <td>42_汽车防盗器的问题_教你电动车如何防盗_怎样加装汽车防盗器_小汽车年检新规定需要哪些材料</td>\n",
              "    </tr>\n",
              "    <tr>\n",
              "      <th>44</th>\n",
              "      <td>43</td>\n",
              "      <td>4</td>\n",
              "      <td>43_轿车各有什么优缺点_年轻人适合开什么车_东风雪铁龙的车质量怎么样_suv的优点有哪些</td>\n",
              "    </tr>\n",
              "    <tr>\n",
              "      <th>45</th>\n",
              "      <td>44</td>\n",
              "      <td>4</td>\n",
              "      <td>44_镀膜有用吗_给汽车贴膜好贴吗_汽车贴改色膜的好处与坏处各是什么_汽车标准漆与金属漆的区别</td>\n",
              "    </tr>\n",
              "    <tr>\n",
              "      <th>46</th>\n",
              "      <td>45</td>\n",
              "      <td>4</td>\n",
              "      <td>45_雅阁和凯美瑞到底哪个好_请问广本和东风本田有什么区别_日产轩逸怎么连接蓝牙_别克的君越...</td>\n",
              "    </tr>\n",
              "    <tr>\n",
              "      <th>47</th>\n",
              "      <td>46</td>\n",
              "      <td>4</td>\n",
              "      <td>46_违章人工查询电话是多少_怎么用手机和汽车收音机连接_如何用iphone_奔驰c级轿车上...</td>\n",
              "    </tr>\n",
              "    <tr>\n",
              "      <th>48</th>\n",
              "      <td>47</td>\n",
              "      <td>4</td>\n",
              "      <td>47_瑞虎09款1_明锐起步发动机有异响怎么办_奥迪a8l的脚垫急急急_奥迪a6发动机抖是怎么回事</td>\n",
              "    </tr>\n",
              "    <tr>\n",
              "      <th>49</th>\n",
              "      <td>48</td>\n",
              "      <td>3</td>\n",
              "      <td>48_车子十一万公里_谁知道什么原因吗_汽车发动机声音大是什么原因_大众</td>\n",
              "    </tr>\n",
              "  </tbody>\n",
              "</table>\n",
              "</div>"
            ],
            "text/plain": [
              "    Topic  Count                                               Name\n",
              "0      -1    112      -1_0导航你们要哪个_汽车因为发动机坏了_摩托车发动机声音大的原因是什么_我想买个电动车\n",
              "1       0     26        0_0最低价多少哦_需要多少钱_二手车过户要多少钱啊请问_哈佛h6分期付款需要多少现金\n",
              "2       1     24        1_11款北京现代瑞纳正时皮带多久更换一次_都在哪_上海有哪些灯光高尔夫球场_上海大众\n",
              "3       2     24   2_大众汽车车上rear什么意思_挡位m加和m减是什么意思_逆变器是什么_车里的eco是什么意思\n",
              "4       3     23     3_18款速腾1_4t熠动版隐藏功能有哪些_车内灯在行驶过程中无法正常关闭_请问这是什么原因\n",
              "5       4     21        4_什么是交通标志智能识别系统_双r是什么汽车_跑车有哪些牌子_羊头标志的皮卡是什么车\n",
              "6       5     19       5_10万以内的suv车排行榜前十名_10万左右口碑最好的车是什么_还多少期最划算_运输\n",
              "7       6     19  6_手机电池在没电的时候重量会不会比较轻_手机电池如何放电_那如果是锂电池的笔记本好吗_车辆...\n",
              "8       7     18           7_如何查召回汽车_驾驶证到期在哪里换证_行驶证被扣_自己原车牌可以挂二手车上吗\n",
              "9       8     18    8_车辆的后门从内部打不开_怎样清除汽车座套的异味_汽车漆面裂纹怎么修复_汽车前风挡贴膜的问题\n",
              "10      9     18       9_发动机机油用什么牌子的好_宝马mini用什么机油_能加95号汽油吗_用92号汽油的车\n",
              "11     10     15  10_我想做个轮胎代理商_我想知道车的轮胎多少公里保养一次_轮胎三包规定内容有哪些_轮毂用久...\n",
              "12     11     12                    11_一个汽车电瓶使用寿命为多少年_一般来说_马自达6_马自达\n",
              "14     12     11        12_q7低配和途锐柴油顶配哪个好_tida_预定了2012手舒_雅迪电动车有哪些型号\n",
              "13     13     11  13_违章多久会收到通知_福克斯的刹车片多久更换_瑞虎多久更换一次火花塞_瑞虎3离合器多久更换一次\n",
              "15     14     10                  14_车身斜怎么修正方向_该挂哪个档位_规格表_汽车牌照螺丝怎么拆\n",
              "16     15     10             15_雪铁龙车子怎么样_那个好_请问吉利的美日之星这款车怎么样_福特翼博如何\n",
              "17     16     10       16_长安汽车多久换变速箱油_车辆磨合期一般是多少公里_测速拍照多远开始测速_汽车怠速时\n",
              "18     17     10         17_工厂网电停电后和来电后_怎么接电路图_起动开关_电瓶车有电加油门不走是什么故障\n",
              "19     18      9  18_空压机的维护与保养问题_玉柴发动机yc4f115_怎样保养轻型汽车发动机的润滑系_如何...\n",
              "20     19      9                             19_crv2_大约得多少钱_跪求_如何解决\n",
              "21     20      9         20_黑a是哪的车牌号_长安福特是哪儿产的_车牌辽r是哪个城市的_车牌浙c是什么地方\n",
              "22     21      9  21_谁知道水泵的原理及制作_请问水位控制器的工作原理_生产汽车玻璃洗涤剂玻璃水要用什么设备...\n",
              "23     22      8  22_骑电动车技巧_怎么把尼桑天籁原车导航换成凯立德_开滴滴需要什么条件_吉利帝豪远程控制教...\n",
              "26     24      7  24_高分请教关于长安汽车s460_请教专家商用小型mpv给做个详细解释我暂定_悦达起亚k5...\n",
              "27     23      7  23_这是怎么回事啊_车子停下来发动机抖动是什么原因_科鲁兹告诉刹车方向盘抖动时什么原因_汽...\n",
              "25     26      7  26_烟台哪里有二手车评估师的培训点_汽车点烟器怎么用图示_汽车点烟器保险丝烧了怎么取下来_...\n",
              "24     25      7          25_需要换吗_轮胎多长时间需要换位_瑞纳原车轮胎多久换一次_玛吉斯轮胎质量过关吗\n",
              "29     29      6         29_高速开运动模式还是经济模式_自动挡各自的优缺点_无级变速好还是双离合好_手动挡\n",
              "30     30      6         30_辣眼睛_转向系液压油如何更换_然后加了油后又打不着火是怎么回事_油门一股一股的\n",
              "31     31      6            31_路虎揽胜发动机号在哪_起亚智跑怎样_朗逸怎么样_新赛欧这种异响是怎么回事\n",
              "32     27      6  27_汽车多久保养一次最合适_小车年检6年后是每两年年检一次吗_小型轿车多少年以后每年需要审...\n",
              "28     28      6  28_长安面包车的水温探头在哪个位置_空压机高温有哪些原因_汽车水箱温度忽高忽低是怎么回事_...\n",
              "37     35      5  35_超威电动车的电量满电是4格_请问电瓶车的充电器_电动车充电桩怎么设置时间_电动车充电器...\n",
              "40     32      5  32_潍柴290马力高气门室的发动机多少公里需要大修_每个汽车汽缸有多少个气门_建一个高尔夫...\n",
              "39     33      5  33_电动车和摩托车相比各有和优缺点_无证驾驶一个没有牌照的摩托车_撞到电动车_摩托车高挡低...\n",
              "38     34      5  34_家庭太阳能发电需要多少光伏板和蓄电池及用多大的逆变器_太阳能电池板怎么用_太阳能发电板...\n",
              "36     37      5  37_车门电动窗按钮漏风该怎么办_车钥匙有电但感应不到怎么回事_汽车遥控钥匙失灵什么原因_无...\n",
              "35     38      5  38_火花塞间隙大会引起点火线圈击穿漏电吗_本田飞度_如何关闭汽车自动启停系统_奥迪自动启停...\n",
              "34     39      5        39_小帅哥燃油助力车刹车问题_哈飞民意如何调节刹车_刹车盘什么时候换_刹车是哪个位置\n",
              "33     36      5  36_新大州本田和五羊本田哪个好_凯越和福克斯选哪个好啊_什么牌子的皮卡车比较好_丰田致享和...\n",
              "41     40      4  40_车子反光镜调到什么位置最佳_江铃福特全顺有没有碰撞传感器_新桑塔纳怎么使用外后视镜加热...\n",
              "42     41      4  41_高速柴油机与低速柴油机用途上有何区别_自然吸气发动机和涡轮增压发动机的区别是什么_汽车...\n",
              "43     42      4     42_汽车防盗器的问题_教你电动车如何防盗_怎样加装汽车防盗器_小汽车年检新规定需要哪些材料\n",
              "44     43      4      43_轿车各有什么优缺点_年轻人适合开什么车_东风雪铁龙的车质量怎么样_suv的优点有哪些\n",
              "45     44      4    44_镀膜有用吗_给汽车贴膜好贴吗_汽车贴改色膜的好处与坏处各是什么_汽车标准漆与金属漆的区别\n",
              "46     45      4  45_雅阁和凯美瑞到底哪个好_请问广本和东风本田有什么区别_日产轩逸怎么连接蓝牙_别克的君越...\n",
              "47     46      4  46_违章人工查询电话是多少_怎么用手机和汽车收音机连接_如何用iphone_奔驰c级轿车上...\n",
              "48     47      4  47_瑞虎09款1_明锐起步发动机有异响怎么办_奥迪a8l的脚垫急急急_奥迪a6发动机抖是怎么回事\n",
              "49     48      3               48_车子十一万公里_谁知道什么原因吗_汽车发动机声音大是什么原因_大众"
            ]
          },
          "execution_count": 8,
          "metadata": {},
          "output_type": "execute_result"
        }
      ],
      "source": [
        "freq.head(50)"
      ]
    },
    {
      "cell_type": "markdown",
      "metadata": {
        "id": "-BtOgifV7Q-H"
      },
      "source": [
        "-1 refers to all outliers and should typically be ignored. Next, let's take a look at a frequent topic that were generated:"
      ]
    },
    {
      "cell_type": "code",
      "execution_count": 7,
      "metadata": {},
      "outputs": [
        {
          "name": "stdout",
          "output_type": "stream",
          "text": [
            "-1\t0导航你们要哪个____汽车因为发动机坏了____摩托车发动机声音大的原因是什么____我想买个电动车____新车被刮蹭了是去4s店补漆好还是去修理厂好____想改装下____怎么接的啊____怎么切换音频设备____异地审车都要什么手续____小鸟\n",
            "0\t0最低价多少哦____需要多少钱____二手车过户要多少钱啊请问____哈佛h6分期付款需要多少现金____或者换一个____修下普桑的倒车镜要多少钱啊____改装多少钱____中介卖一台二手车能赚多少钱____一辆电动车的承重是多少斤____一般情况下清洗节气门的费用是多少\n",
            "1\t11款北京现代瑞纳正时皮带多久更换一次____都在哪____上海有哪些灯光高尔夫球场____上海大众____上海大众朗逸最小离地间隙是多少____成都哪点有打汽车座套的啊____像这样的工业垃圾怎么处理啊____买本地二手车过户要什么手续____二手车怎么过户____急啊每天都有一车\n",
            "2\t大众汽车车上rear什么意思____挡位m加和m减是什么意思____逆变器是什么____车里的eco是什么意思____车上的圈a是什么意思____自动档车加号减号是什么意思____汽车里的setup什么意思____汽车空档是什么意思____汽车的排量t和l有什么区别啊____汽车排量里的t什么意思\n",
            "3\t18款速腾1____4t熠动版隐藏功能有哪些____车内灯在行驶过程中无法正常关闭____请问这是什么原因____荣威350保养灯归零步骤是什么____老款别克君越车____电车充电器一直红灯充不满怎么回事____电动车遥控器按下没反应____电动车的显示屏不亮____电动车按喇叭\n",
            "4\t什么是交通标志智能识别系统____双r是什么汽车____跑车有哪些牌子____羊头标志的皮卡是什么车____汽车标志一个圈圈____汽车是谁发明的____标志汽车是哪个国家的____标志t的汽车是什么牌子____有条蛇的标志是什么车____有两个旗子的标志的汽车是什么牌子\n",
            "5\t10万以内的suv车排行榜前十名____10万左右口碑最好的车是什么____还多少期最划算____运输____过户详细步骤____贷款买车是不是必须上盗抢险呢____购买异地二手车验车____能买到什么样的____神州租车____求教\n",
            "6\t手机电池在没电的时候重量会不会比较轻____手机电池如何放电____那如果是锂电池的笔记本好吗____车辆有几种蓄电池类型____蓄电池如何补液____笔记本的电池都是锂电池吗____电池需要更换吗____电动车锂电池可以修吗有技术更简单____电动车电池为什么要深度放电____电动车48伏24安锂电池价格多少啊\n",
            "7\t如何查召回汽车____驾驶证到期在哪里换证____行驶证被扣____自己原车牌可以挂二手车上吗____汽车违规怎么交罚款____汽车导航的出厂设置密码是多少____我买的二手车过户____怎么样才能退回小黄车余额____必须要亲自签字吗____车主没有电话怎么联系让他挪车\n",
            "8\t车辆的后门从内部打不开____怎样清除汽车座套的异味____汽车漆面裂纹怎么修复____汽车前风挡贴膜的问题____汽车儿童安全座椅哪种好____正时皮带就一定要连涨紧轮一起换吗____有什么解决方法____最近发现电动车的后碟刹太紧了怎么调____滴落在地板上的密封胶怎么清理____换涨紧皮带\n",
            "9\t发动机机油用什么牌子的好____宝马mini用什么机油____能加95号汽油吗____用92号汽油的车____活塞什什么的____油电混合车算新能源汽车吗____油电混合是什么意思____汽车加油有技巧油箱加多少油最合适____汽油为什么能使汽车行驶____柴暖油和柴油能混用吗\n",
            "10\t我想做个轮胎代理商____我想知道车的轮胎多少公里保养一次____轮胎三包规定内容有哪些____轮毂用久为何会变黄____请问怎么做____行车中轮胎突然爆裂时的应急措施是什么____汽车轮胎规格参数怎么理解____有谁知道原因的吗____有朋友了解吗____是不是洗车店上轮胎油导致\n",
            "11\t一个汽车电瓶使用寿命为多少年____一般来说____马自达6____马自达____飞度空调滤芯多久换一次____防冻液多久更换一次____锋范汽油滤清器多久换一次啊____请问节气门____汽车电瓶的寿命是多久____汽车氧传感器一般多久换\n",
            "12\tq7低配和途锐柴油顶配哪个好____tida____预定了2012手舒____雅迪电动车有哪些型号____雅迪和立马电动车哪个牌质量比较好____我想买车比亚迪s6和长城哈弗h6哪个好____广汽传祺____宝马760li和奔驰s600哪个好呢____奔驰s350好还是雷克萨斯ls460l尊贵加长版好____奇瑞系列里面哪款车最好\n",
            "13\t违章多久会收到通知____福克斯的刹车片多久更换____瑞虎多久更换一次火花塞____瑞虎3离合器多久更换一次____火花塞一般是多久换一次____新帕萨特时间怎么设置____发电机皮带多久更换____临牌有效期是多少天____丰田卡罗拉____c1科目二考试时间限制是多长时间\n",
            "14\t车身斜怎么修正方向____该挂哪个档位____规格表____汽车牌照螺丝怎么拆____汽车尾翼的作用是什么____汽车半轴结构问题____汽车下坡时为什么要挂着档位____汽车上的离合是干什么用的____拉森钢板桩的型号____怎么接\n",
            "15\t雪铁龙车子怎么样____那个好____请问吉利的美日之星这款车怎么样____福特翼博如何____福特福克斯属哪个国家的品牌____福特嘉年华和马自达2____有点和缺点____捷豹怎么样____奥迪旗下suv都有什么车型____奥迪和宝马奔驰在国外是一个档次的车吗\n",
            "16\t长安汽车多久换变速箱油____车辆磨合期一般是多少公里____测速拍照多远开始测速____汽车怠速时____汽车发动机多少公里换一次正时皮带____汽车停车怠速充电要多久____新车磨合发动机最高转速控制多少____它的耗油是多少____奥迪怎么设置限速____发动机积碳多久清洗一次\n",
            "17\t工厂网电停电后和来电后____怎么接电路图____起动开关____电瓶车有电加油门不走是什么故障____电流表____电动车有电情况下骑着骑着突然没电了是什么情况____电动车在充电桩上充电跳闸怎么回事____现在发现好像充不进去电了怎么办____汽车遥控器没电了怎么办____汽车使用过程中应该怎样清除静电\n",
            "18\t空压机的维护与保养问题____玉柴发动机yc4f115____怎样保养轻型汽车发动机的润滑系____如何调整电喷发动机的气门间隙____如何调整发动机气门间隙____如何拆超频3散热器黑支架____ecu故障怎么处理____bl18t发动机点火正时如何修理____abs泵堵塞的解决方法是什么____30的气门间隙怎么调整\n",
            "19\tcrv2____大约得多少钱____跪求____如何解决____3型挖掘机液压油温过高____290锡柴发动机废气孔冒机油时怎么回事____100kw的柴油发电机水温油温过高____0油耗是多少____如果机油压力是1个怎样调高____宝马320加几升机油\n",
            "20\t黑a是哪的车牌号____长安福特是哪儿产的____车牌辽r是哪个城市的____车牌浙c是什么地方____起亚发动机号在哪个位置____澳柯玛标准电动车车架号在哪里____浙f车牌是浙江哪个地区的____沃尔沃是哪里的____凯迪拉克车架号在哪个位置____\n",
            "21\t谁知道水泵的原理及制作____请问水位控制器的工作原理____生产汽车玻璃洗涤剂玻璃水要用什么设备____湿式双离合和干式双离合的区别____汽车玻璃水冻了怎么办____汽车水箱能不能加矿泉水____水泵的变频器应该怎么选型____新款大众桑塔纳雨刮器喷水电机保险丝在哪里____捷达玻璃水问题怎么办____\n",
            "22\t骑电动车技巧____怎么把尼桑天籁原车导航换成凯立德____开滴滴需要什么条件____吉利帝豪远程控制教程如何操作____卡罗拉汽车导航怎样装____制动踏板自由行程的调整程序是什么____凯立德导航仪问题____diret导航仪怎么升级________\n",
            "23\t这是怎么回事啊____车子停下来发动机抖动是什么原因____科鲁兹告诉刹车方向盘抖动时什么原因____汽车方向盘抖动是什么原因造成的呢____汽车抖动是什么原因____汽车低速行驶时整车抖振是怎么回事____更换刹车片后____总有呜呜的声音____低速刹车和打方向时____会不会有问题\n",
            "24\t高分请教关于长安汽车s460____请教专家商用小型mpv给做个详细解释我暂定____悦达起亚k5和索纳塔8哪个好____宝马523和525有哪里不同____哈弗m4到底怎么样____传祺gs4和哈弗h6到底哪个更好____五菱宏光1____东风景逸1____上海大众朗逸1____6哪个好\n",
            "25\t需要换吗____轮胎多长时间需要换位____瑞纳原车轮胎多久换一次____玛吉斯轮胎质量过关吗____桑塔纳的轮胎一个大约多少钱____新君威的轮胎刮掉了一小块____卡罗拉轮胎多久更换一次____以前没换过____qq车原装佳通轮胎到底能用多久____\n",
            "26\t烟台哪里有二手车评估师的培训点____汽车点烟器怎么用图示____汽车点烟器保险丝烧了怎么取下来____汽车点火开关怎么接线启动____汽车打火从开始____有哪些基本步骤____为什么汽车的点烟器不通电____cat320b发动机老冒黑烟什么事____请问____\n",
            "27\t汽车多久保养一次最合适____小车年检6年后是每两年年检一次吗____小型轿车多少年以后每年需要审两次____多长时间的车算库存车____信息多久才会更新____从出厂日期算起____二手车卖掉____2013年的车2021年需要年检吗________\n",
            "28\t长安面包车的水温探头在哪个位置____空压机高温有哪些原因____汽车水箱温度忽高忽低是怎么回事____汽车水温一般是多少度____发动机冷却液温度传感器在哪个位置____冷却液是什么________________\n",
            "29\t高速开运动模式还是经济模式____自动挡各自的优缺点____无级变速好还是双离合好____手动挡____德系车与日系车的区别____帝豪gs和远景suv发动机有什么区别____全时四驱和适时四驱的区别____________\n",
            "30\t辣眼睛____转向系液压油如何更换____然后加了油后又打不着火是怎么回事____油门一股一股的____没见烧机油____汽车没油后自动停了____还有悠车的感觉____我的常柴490校完油嘴油泵后冒蓝烟____怎么判断汽油泵快坏了____如何鉴别捷达化油器与电喷\n",
            "31\t路虎揽胜发动机号在哪____起亚智跑怎样____朗逸怎么样____新赛欧这种异响是怎么回事____斗战神长安雅儿在哪____急求问____三菱蓝瑟怎么样____________\n",
            "32\t潍柴290马力高气门室的发动机多少公里需要大修____每个汽车汽缸有多少个气门____建一个高尔夫球场需占地多少亩____吧里大神____单缸柴油机15匹马力的气门间隙是多少____72v45an电动车大概能跑多远________________\n",
            "33\t电动车和摩托车相比各有和优缺点____无证驾驶一个没有牌照的摩托车____撞到电动车____摩托车高挡低速对车有什么影响____怎么赔____在青岛不允许骑电动车和自行车和摩托车____交通规则有没有规定骑电动车要戴头盔____________\n",
            "34\t家庭太阳能发电需要多少光伏板和蓄电池及用多大的逆变器____太阳能电池板怎么用____太阳能发电板价格一般多少钱____农村人如何申请个人光伏电站呢____光伏发电一千瓦一天能发多少度电____________________\n",
            "35\t超威电动车的电量满电是4格____请问电瓶车的充电器____电动车充电桩怎么设置时间____电动车充电器延长输出端后充电问题____浮充是什么意思____一般剩几格时充电好是不是剩的越少充电越好____60伏电动车一般电压掉到多少时需要充电____________\n",
            "36\t新大州本田和五羊本田哪个好____凯越和福克斯选哪个好啊____什么牌子的皮卡车比较好____丰田致享和威驰哪个好____丰田凯美瑞和速派怎么选____________________\n",
            "37\t车门电动窗按钮漏风该怎么办____车钥匙有电但感应不到怎么回事____汽车遥控钥匙失灵什么原因____无钥匙进入系统是什么意思____捷达王音响断电被锁怎么解开____________________\n",
            "38\t火花塞间隙大会引起点火线圈击穿漏电吗____本田飞度____如何关闭汽车自动启停系统____奥迪自动启停怎么关闭____大众迈腾立即保养如何清除____off的意思是关还是开________________\n",
            "39\t小帅哥燃油助力车刹车问题____哈飞民意如何调节刹车____刹车盘什么时候换____刹车是哪个位置____刹车响是怎么回事____________________\n",
            "40\t车子反光镜调到什么位置最佳____江铃福特全顺有没有碰撞传感器____新桑塔纳怎么使用外后视镜加热____在什么位置装着____13年的宏光变速箱传感器在哪里____________________\n",
            "41\t高速柴油机与低速柴油机用途上有何区别____自然吸气发动机和涡轮增压发动机的区别是什么____汽车加尿素有什么作用____国五发动机不烧尿素是啥情况____不烧尿素和烧尿素有啥区别____________________\n",
            "42\t汽车防盗器的问题____教你电动车如何防盗____怎样加装汽车防盗器____小汽车年检新规定需要哪些材料________________________\n",
            "43\t轿车各有什么优缺点____年轻人适合开什么车____东风雪铁龙的车质量怎么样____suv的优点有哪些____suv____________________\n",
            "44\t镀膜有用吗____给汽车贴膜好贴吗____汽车贴改色膜的好处与坏处各是什么____汽车标准漆与金属漆的区别____听说新车镀膜比较好是这样吗____________________\n",
            "45\t雅阁和凯美瑞到底哪个好____请问广本和东风本田有什么区别____日产轩逸怎么连接蓝牙____别克的君越和君威到底有什么区别呀________________________\n",
            "46\t违章人工查询电话是多少____怎么用手机和汽车收音机连接____如何用iphone____奔驰c级轿车上搭载的蓝牙电话系统如何设置________________________\n",
            "47\t瑞虎09款1____明锐起步发动机有异响怎么办____奥迪a8l的脚垫急急急____奥迪a6发动机抖是怎么回事____8冬天起动张紧轮异响问题____请问________________\n",
            "48\t车子十一万公里____谁知道什么原因吗____汽车发动机声音大是什么原因____大众____发动机转速会自己突然升高____发动机声音好大____途观____什么原因________\n"
          ]
        },
        {
          "ename": "TypeError",
          "evalue": "'bool' object is not iterable",
          "output_type": "error",
          "traceback": [
            "\u001b[0;31m---------------------------------------------------------------------------\u001b[0m",
            "\u001b[0;31mTypeError\u001b[0m                                 Traceback (most recent call last)",
            "\u001b[1;32m/Users/sunhongchao/Documents/Bot/papers/BERTopic-Chinese.ipynb Cell 17'\u001b[0m in \u001b[0;36m<cell line: 2>\u001b[0;34m()\u001b[0m\n\u001b[1;32m      <a href='vscode-notebook-cell:/Users/sunhongchao/Documents/Bot/papers/BERTopic-Chinese.ipynb#ch0000016?line=1'>2</a>\u001b[0m \u001b[39mfor\u001b[39;00m index \u001b[39min\u001b[39;00m \u001b[39mrange\u001b[39m(\u001b[39m-\u001b[39m\u001b[39m1\u001b[39m, \u001b[39m200\u001b[39m):\n\u001b[1;32m      <a href='vscode-notebook-cell:/Users/sunhongchao/Documents/Bot/papers/BERTopic-Chinese.ipynb#ch0000016?line=2'>3</a>\u001b[0m     res \u001b[39m=\u001b[39m []\n\u001b[0;32m----> <a href='vscode-notebook-cell:/Users/sunhongchao/Documents/Bot/papers/BERTopic-Chinese.ipynb#ch0000016?line=3'>4</a>\u001b[0m     \u001b[39mfor\u001b[39;00m item \u001b[39min\u001b[39;00m topic_model\u001b[39m.\u001b[39mget_topic(index):\n\u001b[1;32m      <a href='vscode-notebook-cell:/Users/sunhongchao/Documents/Bot/papers/BERTopic-Chinese.ipynb#ch0000016?line=4'>5</a>\u001b[0m         res\u001b[39m.\u001b[39mappend(item[\u001b[39m0\u001b[39m])\n\u001b[1;32m      <a href='vscode-notebook-cell:/Users/sunhongchao/Documents/Bot/papers/BERTopic-Chinese.ipynb#ch0000016?line=5'>6</a>\u001b[0m     \u001b[39mprint\u001b[39m(\u001b[39mstr\u001b[39m(index) \u001b[39m+\u001b[39m \u001b[39m\"\u001b[39m\u001b[39m\\t\u001b[39;00m\u001b[39m\"\u001b[39m \u001b[39m+\u001b[39m \u001b[39m\"\u001b[39m\u001b[39m____\u001b[39m\u001b[39m\"\u001b[39m\u001b[39m.\u001b[39mjoin(res))\n",
            "\u001b[0;31mTypeError\u001b[0m: 'bool' object is not iterable"
          ]
        }
      ],
      "source": [
        "# topic_model.get_topics()\n",
        "for index in range(-1, 200):\n",
        "    res = []\n",
        "    for item in topic_model.get_topic(index):\n",
        "        res.append(item[0])\n",
        "    print(str(index) + \"\\t\" + \"____\".join(res))"
      ]
    },
    {
      "cell_type": "code",
      "execution_count": null,
      "metadata": {},
      "outputs": [],
      "source": [
        "new_topics, new_probs = topic_model.reduce_topics(docs, topics, probs, nr_topics=20)"
      ]
    },
    {
      "cell_type": "code",
      "execution_count": null,
      "metadata": {},
      "outputs": [],
      "source": [
        "# # topic_model.get_topics()\n",
        "# for index in range(-1, 20):\n",
        "#     res = []\n",
        "#     for item in topic_model.get_topic(index):\n",
        "#         res.append(item[0])\n",
        "#     print(str(index) + \"\\t\" + \"____\".join(res))"
      ]
    },
    {
      "cell_type": "code",
      "execution_count": null,
      "metadata": {},
      "outputs": [],
      "source": [
        "freq = topic_model.get_topic_info(); freq.head(5)"
      ]
    },
    {
      "cell_type": "code",
      "execution_count": null,
      "metadata": {},
      "outputs": [],
      "source": [
        "print(len(topic_model.get_topic(-1)))\n",
        "print(topic_model.get_topic(-1))"
      ]
    },
    {
      "cell_type": "markdown",
      "metadata": {
        "id": "ixc-X2JzodrZ"
      },
      "source": [
        "**NOTE**: BERTopic is stocastich which mmeans that the topics might differ across runs. This is mostly due to the stocastisch nature of UMAP."
      ]
    },
    {
      "cell_type": "markdown",
      "metadata": {
        "id": "UbT2Bd9gqaJ3"
      },
      "source": [
        "# **Visualization**\n",
        "There are several visualization options available in BERTopic, namely the visualization of topics, probabilities and topics over time. Topic modeling is, to a certain extent, quite subjective. Visualizations help understand the topics that were created. "
      ]
    },
    {
      "cell_type": "markdown",
      "metadata": {
        "id": "M8c8LenB8Zyl"
      },
      "source": [
        "## Visualize Topics\n",
        "After having trained our `BERTopic` model, we can iteratively go through perhaps a hundred topic to get a good \n",
        "understanding of the topics that were extract. However, that takes quite some time and lacks a global representation. \n",
        "Instead, we can visualize the topics that were generated in a way very similar to \n",
        "[LDAvis](https://github.com/cpsievert/LDAvis):"
      ]
    },
    {
      "cell_type": "code",
      "execution_count": null,
      "metadata": {
        "colab": {
          "base_uri": "https://localhost:8080/",
          "height": 667
        },
        "id": "S9qDqEHddgKq",
        "outputId": "3fddd5f1-194e-4708-a7dc-f0c5602c140a"
      },
      "outputs": [],
      "source": [
        "# topic_model.visualize_topics()"
      ]
    },
    {
      "cell_type": "markdown",
      "metadata": {
        "id": "ITB7bf6q8nWQ"
      },
      "source": [
        "## Visualize Topic Probabilities\n",
        "\n",
        "The variable `probabilities` that is returned from `transform()` or `fit_transform()` can \n",
        "be used to understand how confident BERTopic is that certain topics can be found in a document. \n",
        "\n",
        "To visualize the distributions, we simply call:"
      ]
    },
    {
      "cell_type": "code",
      "execution_count": null,
      "metadata": {
        "colab": {
          "base_uri": "https://localhost:8080/",
          "height": 542
        },
        "id": "ypfI1-KHdmcX",
        "outputId": "4fd56127-4143-4cf7-d227-ef43725f1ad7"
      },
      "outputs": [],
      "source": [
        "# topic_model.visualize_distribution(probs[200], min_probability=0.015)"
      ]
    },
    {
      "cell_type": "markdown",
      "metadata": {
        "id": "QHRTeSpl5JYB"
      },
      "source": [
        "## Visualize Topic Hierarchy\n",
        "\n",
        "The topics that were created can be hierarchically reduced. In order to understand the potential hierarchical structure of the topics, we can use scipy.cluster.hierarchy to create clusters and visualize how they relate to one another. This might help selecting an appropriate nr_topics when reducing the number of topics that you have created."
      ]
    },
    {
      "cell_type": "code",
      "execution_count": null,
      "metadata": {
        "colab": {
          "base_uri": "https://localhost:8080/",
          "height": 617
        },
        "id": "ltmLFRR56a4X",
        "outputId": "0458e59c-30ce-4700-8dbf-0932afc63f1d"
      },
      "outputs": [],
      "source": [
        "# topic_model.visualize_hierarchy(top_n_topics=250)"
      ]
    },
    {
      "cell_type": "markdown",
      "metadata": {
        "id": "4spXl2_C6flq"
      },
      "source": [
        "## Visualize Terms\n",
        "\n",
        "We can visualize the selected terms for a few topics by creating bar charts out of the c-TF-IDF scores for each topic representation. Insights can be gained from the relative c-TF-IDF scores between and within topics. Moreover, you can easily compare topic representations to each other."
      ]
    },
    {
      "cell_type": "code",
      "execution_count": null,
      "metadata": {
        "colab": {
          "base_uri": "https://localhost:8080/",
          "height": 617
        },
        "id": "zpm9LsKW6mi5",
        "outputId": "1197affc-dde2-44c1-9ba7-c9fb36a1143c"
      },
      "outputs": [],
      "source": [
        "# topic_model.visualize_barchart(top_n_topics=20)"
      ]
    },
    {
      "cell_type": "markdown",
      "metadata": {
        "id": "QCPdi6_z6sbT"
      },
      "source": [
        "## Visualize Topic Similarity\n",
        "Having generated topic embeddings, through both c-TF-IDF and embeddings, we can create a similarity matrix by simply applying cosine similarities through those topic embeddings. The result will be a matrix indicating how similar certain topics are to each other."
      ]
    },
    {
      "cell_type": "code",
      "execution_count": null,
      "metadata": {
        "colab": {
          "base_uri": "https://localhost:8080/",
          "height": 1000
        },
        "id": "edzNhZuZ6wTr",
        "outputId": "e01231db-fe82-49d3-a96f-8135522d9b9b"
      },
      "outputs": [],
      "source": [
        "# topic_model.visualize_heatmap(n_clusters=20, width=1000, height=1000)"
      ]
    },
    {
      "cell_type": "markdown",
      "metadata": {
        "id": "_ak_CLR164mx"
      },
      "source": [
        "## Visualize Term Score Decline\n",
        "Topics are represented by a number of words starting with the best representative word. Each word is represented by a c-TF-IDF score. The higher the score, the more representative a word to the topic is. Since the topic words are sorted by their c-TF-IDF score, the scores slowly decline with each word that is added. At some point adding words to the topic representation only marginally increases the total c-TF-IDF score and would not be beneficial for its representation.\n",
        "\n",
        "To visualize this effect, we can plot the c-TF-IDF scores for each topic by the term rank of each word. In other words, the position of the words (term rank), where the words with the highest c-TF-IDF score will have a rank of 1, will be put on the x-axis. Whereas the y-axis will be populated by the c-TF-IDF scores. The result is a visualization that shows you the decline of c-TF-IDF score when adding words to the topic representation. It allows you, using the elbow method, the select the best number of words in a topic.\n"
      ]
    },
    {
      "cell_type": "code",
      "execution_count": null,
      "metadata": {
        "colab": {
          "base_uri": "https://localhost:8080/",
          "height": 517
        },
        "id": "7gT3Korh6-MX",
        "outputId": "5810f810-4633-425e-a7d2-3a1e9570639a"
      },
      "outputs": [],
      "source": [
        "# topic_model.visualize_term_rank()"
      ]
    },
    {
      "cell_type": "markdown",
      "metadata": {
        "id": "D48ienfZrfP0"
      },
      "source": [
        "# **Topic Representation**\n",
        "After having created the topic model, you might not be satisfied with some of the parameters you have chosen. Fortunately, BERTopic allows you to update the topics after they have been created. \n",
        "\n",
        "This allows for fine-tuning the model to your specifications and wishes. "
      ]
    },
    {
      "cell_type": "markdown",
      "metadata": {
        "id": "c4m3UMsw-Zxk"
      },
      "source": [
        "## Update Topics\n",
        "When you have trained a model and viewed the topics and the words that represent them,\n",
        "you might not be satisfied with the representation. Perhaps you forgot to remove\n",
        "stopwords or you want to try out a different `n_gram_range`. We can use the function `update_topics` to update \n",
        "the topic representation with new parameters for `c-TF-IDF`: \n"
      ]
    },
    {
      "cell_type": "code",
      "execution_count": null,
      "metadata": {
        "id": "KWm7B-FJ-iYW"
      },
      "outputs": [],
      "source": [
        "# topic_model.update_topics(docs, topics, n_gram_range=(1, 2))"
      ]
    },
    {
      "cell_type": "code",
      "execution_count": null,
      "metadata": {
        "colab": {
          "base_uri": "https://localhost:8080/"
        },
        "id": "wf31gQavdtfG",
        "outputId": "b2cf3d47-f665-44fe-bbe0-c927e4d73363"
      },
      "outputs": [],
      "source": [
        "# topic_model.get_topic(0)   # We select topic that we viewed before"
      ]
    },
    {
      "cell_type": "code",
      "execution_count": null,
      "metadata": {},
      "outputs": [],
      "source": [
        "# topic_model.get_topic(1)"
      ]
    },
    {
      "cell_type": "markdown",
      "metadata": {
        "id": "9antKpdC91A-"
      },
      "source": [
        "## Topic Reduction\n",
        "We can also reduce the number of topics after having trained a BERTopic model. The advantage of doing so, \n",
        "is that you can decide the number of topics after knowing how many are actually created. It is difficult to \n",
        "predict before training your model how many topics that are in your documents and how many will be extracted. \n",
        "Instead, we can decide afterwards how many topics seems realistic:\n",
        "\n",
        "\n",
        "\n"
      ]
    },
    {
      "cell_type": "code",
      "execution_count": null,
      "metadata": {
        "colab": {
          "base_uri": "https://localhost:8080/"
        },
        "id": "5m4Nd7Us-Peg",
        "outputId": "2d442d39-5bc5-4e7f-c155-6e6c664f6714"
      },
      "outputs": [],
      "source": [
        "# new_topics, new_probs = topic_model.reduce_topics(docs, topics, probs, nr_topics=20)"
      ]
    },
    {
      "cell_type": "markdown",
      "metadata": {
        "id": "LXYJ745O-03Z"
      },
      "source": [
        "# **Search Topics**\n",
        "After having trained our model, we can use `find_topics` to search for topics that are similar \n",
        "to an input search_term. Here, we are going to be searching for topics that closely relate the \n",
        "search term \"vehicle\". Then, we extract the most similar topic and check the results: "
      ]
    },
    {
      "cell_type": "code",
      "execution_count": null,
      "metadata": {
        "colab": {
          "base_uri": "https://localhost:8080/"
        },
        "id": "lAdiVYej-2i-",
        "outputId": "c107bd7d-1025-4d4d-b179-d007c7d16cd2"
      },
      "outputs": [],
      "source": [
        "# similar_topics, similarity = topic_model.find_topics(\"vehicle\", top_n=5); similar_topics"
      ]
    },
    {
      "cell_type": "markdown",
      "metadata": {
        "id": "wekNoQNuUVoU"
      },
      "source": [
        "# **Model serialization**\n",
        "The model and its internal settings can easily be saved. Note that the documents and embeddings will not be saved. However, UMAP and HDBSCAN will be saved. "
      ]
    },
    {
      "cell_type": "code",
      "execution_count": null,
      "metadata": {
        "id": "nWUF1uxiSb_a"
      },
      "outputs": [],
      "source": [
        "# Save model\n",
        "# topic_model.save(\"my_model\")\t"
      ]
    },
    {
      "cell_type": "code",
      "execution_count": null,
      "metadata": {
        "id": "y_eHBI1jSb6i"
      },
      "outputs": [],
      "source": [
        "# Load model\n",
        "# my_model = BERTopic.load(\"my_model\")\t"
      ]
    },
    {
      "cell_type": "markdown",
      "metadata": {
        "id": "2eyImbal7lb8"
      },
      "source": [
        "# **Embedding Models**\n",
        "The parameter `embedding_model` takes in a string pointing to a sentence-transformers model, a SentenceTransformer, or a Flair DocumentEmbedding model."
      ]
    },
    {
      "cell_type": "markdown",
      "metadata": {
        "id": "8ZKyW7NZpnEk"
      },
      "source": [
        "## Sentence-Transformers\n",
        "You can select any model from sentence-transformers here and pass it through BERTopic with embedding_model:\n",
        "\n"
      ]
    },
    {
      "cell_type": "code",
      "execution_count": null,
      "metadata": {
        "id": "k7sPgNfzprbP"
      },
      "outputs": [],
      "source": [
        "# topic_model = BERTopic(embedding_model=\"xlm-r-bert-base-nli-stsb-mean-tokens\")"
      ]
    },
    {
      "cell_type": "markdown",
      "metadata": {
        "id": "8vv7i1JTp62V"
      },
      "source": [
        "Or select a SentenceTransformer model with your own parameters:\n"
      ]
    },
    {
      "cell_type": "code",
      "execution_count": null,
      "metadata": {
        "id": "Eh5qp58Hp7Ua"
      },
      "outputs": [],
      "source": [
        "# from sentence_transformers import SentenceTransformer\n",
        "\n",
        "# sentence_model = SentenceTransformer(\"distilbert-base-nli-mean-tokens\", device=\"cpu\")\n",
        "# topic_model = BERTopic(embedding_model=sentence_model, verbose=True)"
      ]
    },
    {
      "cell_type": "markdown",
      "metadata": {
        "id": "SoMc1W-x7-b5"
      },
      "source": [
        "Click [here](https://www.sbert.net/docs/pretrained_models.html) for a list of supported sentence transformers models.  \n"
      ]
    }
  ],
  "metadata": {
    "accelerator": "GPU",
    "colab": {
      "collapsed_sections": [],
      "name": "BERTopic.ipynb",
      "provenance": [],
      "toc_visible": true
    },
    "kernelspec": {
      "display_name": "Python 3",
      "name": "python3"
    },
    "language_info": {
      "codemirror_mode": {
        "name": "ipython",
        "version": 3
      },
      "file_extension": ".py",
      "mimetype": "text/x-python",
      "name": "python",
      "nbconvert_exporter": "python",
      "pygments_lexer": "ipython3",
      "version": "3.9.7"
    }
  },
  "nbformat": 4,
  "nbformat_minor": 0
}
