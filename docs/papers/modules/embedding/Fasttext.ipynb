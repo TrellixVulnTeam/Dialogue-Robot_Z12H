{
 "nbformat": 4,
 "nbformat_minor": 2,
 "metadata": {
  "language_info": {
   "name": "python",
   "codemirror_mode": {
    "name": "ipython",
    "version": 3
   }
  },
  "orig_nbformat": 2,
  "file_extension": ".py",
  "mimetype": "text/x-python",
  "name": "python",
  "npconvert_exporter": "python",
  "pygments_lexer": "ipython3",
  "version": 3
 },
 "cells": [
  {
   "cell_type": "code",
   "execution_count": null,
   "metadata": {},
   "outputs": [],
   "source": [
    "# -*- coding:utf-8 -*-\n",
    "# train fasttext embedding model and get cos similarity\n",
    "import fasttext\n",
    "\n",
    "model = fasttext.load_model('../data/embedding/cc.zh.300.bin')\n",
    "# print(model.words)  # list of words in dictionary\n",
    "print(model['king'])\n",
    "print(model['周杰伦'])\n",
    "print(model['青花瓷'])"
   ]
  }
 ]
}