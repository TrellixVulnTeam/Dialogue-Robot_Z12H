{
 "cells": [
  {
   "cell_type": "code",
   "execution_count": null,
   "source": [
    "https://zhuanlan.zhihu.com/p/93836989"
   ],
   "outputs": [],
   "metadata": {}
  },
  {
   "cell_type": "markdown",
   "source": [
    "随机过程（Stochastic Processes）本科笔记（一） - Example loss的文章 - 知乎\n",
    "https://zhuanlan.zhihu.com/p/64600034"
   ],
   "metadata": {}
  }
 ],
 "metadata": {
  "orig_nbformat": 4,
  "language_info": {
   "name": "python"
  }
 },
 "nbformat": 4,
 "nbformat_minor": 2
}