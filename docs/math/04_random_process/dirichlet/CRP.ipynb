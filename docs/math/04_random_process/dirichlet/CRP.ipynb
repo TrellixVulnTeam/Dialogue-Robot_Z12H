{
 "metadata": {
  "language_info": {
   "codemirror_mode": {
    "name": "ipython",
    "version": 3
   },
   "file_extension": ".py",
   "mimetype": "text/x-python",
   "name": "python",
   "nbconvert_exporter": "python",
   "pygments_lexer": "ipython3",
   "version": "3.6.13"
  },
  "orig_nbformat": 4,
  "kernelspec": {
   "name": "python3",
   "display_name": "Python 3.6.13 64-bit ('env_bot': conda)"
  },
  "interpreter": {
   "hash": "d157ae46664ef61827425b1700af4733ccc165bd48e667b428e957754f1cdd7e"
  }
 },
 "nbformat": 4,
 "nbformat_minor": 2,
 "cells": [
  {
   "cell_type": "code",
   "execution_count": 1,
   "source": [
    "# 代码1：\n",
    "#算法1：直接从联合分布里采样,根据中餐馆条件概率采样，先得到z1，再根据z1得到z2.。。。。最后得到联合概率样本\n",
    "#N表示中餐馆有10个人，alpha = 3表示dirichlet参数，T=50表示样本数，即迭代多少次\n",
    "#verbose表示详细信息，verbose=FALSE，意思就是设置运行的时候不显示详细信息\n",
    "#给定初始Z[0]=1,其他初始化为0\n",
    "import numpy as np\n",
    "def Draw_CRP_Direct_Sample(N = 10, alpha = 3, T = 50, VERBOSE = False):\n",
    "    Z_table = np.zeros((T,N))#(T,N)用0填充的数组，数值表示每个人坐的桌子的编号\n",
    "    for t in range(T):\n",
    "        Z = np.zeros(N,dtype=int)#包含N个人的样本\n",
    "        for i in range(N):\n",
    "            if i == 0:\n",
    "                Z[i] = 1#初始化Z[0] = 1,即第一个人坐的的类别\n",
    "            else:\n",
    "                if VERBOSE:\n",
    "                    print('初始Z=',Z)#一个样本\n",
    "                unique, counts = np.unique(Z, return_counts=True)\n",
    "                #unique返回样本Z中去重之后的主题编号（从小到大排序），counts计数(主题权重）返回每个主题的个数\n",
    "                #对于一维数组或者列表，unique函数去除其中重复的元素，并按元素由小到大返回一个新的无元素重复的元组或者列表\n",
    "                #return_index=True表示返回新列表元素在旧列表中的位置，并以列表形式储存在s中\n",
    "                #return_inverse=True 表示返回旧列表元素在新列表中的位置，并以列表形式储存在p中\n",
    "                #return_counts=True  表示返回新列表元素在旧表中出现的次数，并以列表形式存储在counts中\n",
    " \n",
    "                # remove the zeros unsigned tables\n",
    "                if unique[0] == 0:\n",
    "                    unique = np.delete(unique,0)#删除主题编号为0的元素\n",
    " \n",
    "                if VERBOSE:\n",
    "                   print(\"unique,counts,alpha\", unique,counts,alpha)\n",
    "                # added alpha to the end of the counts (weights) array\n",
    "                counts = np.append(counts,alpha) #counts=[counts,alpha]\n",
    "                # also the new table index will be the max of table seen so far\n",
    "                unique = np.append(unique,max(unique)+1)#添加一个新的主题\n",
    "                print(\"np.append(counts,alpha)\",counts)#将counts和alpha拼接后的新counts\n",
    "                print(\"np.append(unique,max(unique)+1)\",unique)\n",
    " \n",
    "                if VERBOSE:\n",
    "                  print(\"sum(counts)=\",sum(counts))\n",
    "                #轮盘赌法 \n",
    "                #u是随机产生的数，使得不同数据对应不同的数据概率，并且在整体上保留了“区域概率越大，对应数据越多”            \n",
    "                u = np.random.uniform()*sum(counts)\n",
    "                #np.cumsum累加求和 例子：counts=[1,2,3,4,5] np.cumsum(counts)  array([ 1,  3,  6, 10, 15], dtype=int32)\n",
    "                a_counts = np.cumsum(counts)#累加求和列表，这里是对每个主题包含的个数累加求和，也可以算出每个类别的概率进行累加求和，效果是一样的\n",
    "                if VERBOSE:\n",
    "                    print(\"acounts,counts, u, (a_counts > u)\",a_counts,counts, u, a_counts > u)\n",
    " \n",
    "                # first index where accumuated sum is greater than random variable\n",
    "                index =  np.argmax(a_counts > u) #返回最大值的索引\n",
    "                print(\"index：\", index)\n",
    "                Z[i] = unique[index]\n",
    " \n",
    "            if VERBOSE:\n",
    "                print(\"最终Z=\",Z)\n",
    "                print(\"\\n\\n\") \n",
    " \n",
    "        Z_table[t,:] = Z\n",
    "    return Z_table\n"
   ],
   "outputs": [],
   "metadata": {}
  },
  {
   "cell_type": "code",
   "execution_count": 4,
   "source": [
    "Draw_CRP_Direct_Sample()"
   ],
   "outputs": [
    {
     "output_type": "stream",
     "name": "stdout",
     "text": [
      "np.append(counts,alpha) [9 1 3]\n",
      "np.append(unique,max(unique)+1) [1 2]\n",
      "index： 0\n",
      "np.append(counts,alpha) [8 2 3]\n",
      "np.append(unique,max(unique)+1) [1 2]\n",
      "index： 1\n",
      "np.append(counts,alpha) [7 2 1 3]\n",
      "np.append(unique,max(unique)+1) [1 2 3]\n",
      "index： 3\n"
     ]
    },
    {
     "output_type": "error",
     "ename": "IndexError",
     "evalue": "index 3 is out of bounds for axis 0 with size 3",
     "traceback": [
      "\u001b[0;31m---------------------------------------------------------------------------\u001b[0m",
      "\u001b[0;31mIndexError\u001b[0m                                Traceback (most recent call last)",
      "\u001b[0;32m<ipython-input-4-da14516d9c45>\u001b[0m in \u001b[0;36m<module>\u001b[0;34m()\u001b[0m\n\u001b[0;32m----> 1\u001b[0;31m \u001b[0mDraw_CRP_Direct_Sample\u001b[0m\u001b[0;34m(\u001b[0m\u001b[0;34m)\u001b[0m\u001b[0;34m\u001b[0m\u001b[0;34m\u001b[0m\u001b[0m\n\u001b[0m",
      "\u001b[0;32m<ipython-input-3-c6dcee5a394a>\u001b[0m in \u001b[0;36mDraw_CRP_Direct_Sample\u001b[0;34m(N, alpha, T, VERBOSE)\u001b[0m\n\u001b[1;32m     48\u001b[0m                 \u001b[0mindex\u001b[0m \u001b[0;34m=\u001b[0m  \u001b[0mnp\u001b[0m\u001b[0;34m.\u001b[0m\u001b[0margmax\u001b[0m\u001b[0;34m(\u001b[0m\u001b[0ma_counts\u001b[0m \u001b[0;34m>\u001b[0m \u001b[0mu\u001b[0m\u001b[0;34m)\u001b[0m \u001b[0;31m#返回最大值的索引\u001b[0m\u001b[0;34m\u001b[0m\u001b[0;34m\u001b[0m\u001b[0m\n\u001b[1;32m     49\u001b[0m                 \u001b[0mprint\u001b[0m\u001b[0;34m(\u001b[0m\u001b[0;34m\"index：\"\u001b[0m\u001b[0;34m,\u001b[0m \u001b[0mindex\u001b[0m\u001b[0;34m)\u001b[0m\u001b[0;34m\u001b[0m\u001b[0;34m\u001b[0m\u001b[0m\n\u001b[0;32m---> 50\u001b[0;31m                 \u001b[0mZ\u001b[0m\u001b[0;34m[\u001b[0m\u001b[0mi\u001b[0m\u001b[0;34m]\u001b[0m \u001b[0;34m=\u001b[0m \u001b[0munique\u001b[0m\u001b[0;34m[\u001b[0m\u001b[0mindex\u001b[0m\u001b[0;34m]\u001b[0m\u001b[0;34m\u001b[0m\u001b[0;34m\u001b[0m\u001b[0m\n\u001b[0m\u001b[1;32m     51\u001b[0m \u001b[0;34m\u001b[0m\u001b[0m\n\u001b[1;32m     52\u001b[0m             \u001b[0;32mif\u001b[0m \u001b[0mVERBOSE\u001b[0m\u001b[0;34m:\u001b[0m\u001b[0;34m\u001b[0m\u001b[0;34m\u001b[0m\u001b[0m\n",
      "\u001b[0;31mIndexError\u001b[0m: index 3 is out of bounds for axis 0 with size 3"
     ]
    }
   ],
   "metadata": {}
  },
  {
   "cell_type": "code",
   "execution_count": 1,
   "source": [
    "import numpy as np\n",
    "\n",
    "n = 100\n",
    "r = 1 #空桌子假想人数\n",
    "\n",
    "class cluster:\n",
    "    count = 0\n",
    "    clusters = []\n",
    "    def __str__(self):\n",
    "        return str(self.count)\n",
    "    def add(self, i):\n",
    "        self.count += 1\n",
    "        self.clusters.append(i)\n",
    "        return self\n",
    "    \n",
    "if __name__ == \"__main__\":\n",
    "    first = cluster().add(0) #第一位顾客选择第一个桌子\n",
    "    restaurant = [first]\n",
    "\n",
    "    for i in range(1, n):\n",
    "        customerSumWithEmpty = i + r\n",
    "        p = []\n",
    "        for table in restaurant:\n",
    "            p.append(table.count/customerSumWithEmpty)\n",
    "        p.append(r/customerSumWithEmpty) #空桌子号码设为最后一个数字\n",
    "        t = np.random.choice(len(p), 1, p = p)[0] #p = p\n",
    "        if t == len(restaurant): #空桌子\n",
    "            restaurant.append(cluster())\n",
    "        restaurant[t].add(i)\n",
    "\n",
    "    for i in restaurant:\n",
    "        print(i)"
   ],
   "outputs": [
    {
     "output_type": "stream",
     "name": "stdout",
     "text": [
      "17\n",
      "20\n",
      "61\n",
      "1\n",
      "1\n"
     ]
    }
   ],
   "metadata": {}
  },
  {
   "cell_type": "code",
   "execution_count": null,
   "source": [],
   "outputs": [],
   "metadata": {}
  }
 ]
}