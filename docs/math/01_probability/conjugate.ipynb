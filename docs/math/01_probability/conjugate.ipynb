{
 "metadata": {
  "language_info": {
   "codemirror_mode": {
    "name": "ipython",
    "version": 3
   },
   "file_extension": ".py",
   "mimetype": "text/x-python",
   "name": "python",
   "nbconvert_exporter": "python",
   "pygments_lexer": "ipython3",
   "version": 3
  },
  "orig_nbformat": 2
 },
 "nbformat": 4,
 "nbformat_minor": 2,
 "cells": [
  {
   "source": [
    "### 共轭分布\n",
    "+ 后验概率分布函数与先验概率分布函数具有相同形式\n",
    "+ 共轭分布表 https://en.wikipedia.org/wiki/Conjugate_prior"
   ],
   "cell_type": "markdown",
   "metadata": {}
  }
 ]
}