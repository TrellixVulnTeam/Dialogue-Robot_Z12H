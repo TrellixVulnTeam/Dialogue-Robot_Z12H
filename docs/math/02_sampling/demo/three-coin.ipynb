{
 "cells": [
  {
   "cell_type": "markdown",
   "metadata": {},
   "source": [
    "### 问题描述\n",
    "+ 抛硬币A，如果A为正面，则抛硬币B，如果A为反面，则抛硬币C，以上过程重复十次，出现正面记为1，出现反面记为0\n",
    "+ 观测结果为 11111110000"
   ]
  },
  {
   "cell_type": "markdown",
   "metadata": {},
   "source": [
    "### 问题建模\n",
    "+ 最终的观测结果为 $\\vec x = \\{x_1, x_2, ... , x_n\\}$, 每次观测使用的硬币是 $\\vec z=\\{z_{1}, z_{2}, ..., z_{n}\\}$"
   ]
  },
  {
   "cell_type": "markdown",
   "metadata": {},
   "source": [
    "+ 概率图流程如下\n",
    "+ $\\vec{\\alpha} \\rightarrow \\theta \\rightarrow z_{m}$ ：抛硬币A，生成第m次实验所使用的硬币编号 k\n",
    "+ $\\vec{\\beta} \\rightarrow \\phi_{k} \\rightarrow x_{m} \\mid z_{m}=k$ ：根据k选择 硬币B或者硬币C，进行抛掷，生成观测序列"
   ]
  },
  {
   "cell_type": "markdown",
   "metadata": {},
   "source": [
    "<img src=\"https://blog-picture-new.oss-cn-beijing.aliyuncs.com/nlu/20201007224520.png\" alt=\"图片替换文本\" width=\"600\" height=\"200\" align=\"bottom\" />"
   ]
  },
  {
   "cell_type": "markdown",
   "metadata": {},
   "source": [
    "+ $\\theta \\rightarrow \\vec z$ 是二项分布，有$P(\\vec{z} \\mid \\theta)=\\theta^{k}(1-\\theta)^{n-k}$ ， k为硬币A朝上的次数\n",
    "+ 似然函数为$P(\\vec{z} \\mid \\theta) \\sim B\\left(n, p_{A}\\right)$, 如果假设先验分布为$\\theta \\sim B e t a(\\theta \\mid \\alpha_1, \\alpha_2)$, 根据共轭关系则后验分布为\n",
    "\n",
    "$$\n",
    "\\begin{aligned}\n",
    "P(\\theta \\mid \\vec{z}) \\sim \\operatorname{Beta}\\left(\\theta \\mid a_{1}+k, a_{2}+n-k\\right)\n",
    "\\end{aligned}\n",
    "$$\n",
    "\n",
    "$$\n",
    "\\begin{aligned}\n",
    "P(\\vec{z} \\mid \\vec{\\alpha}) &=\\int P(\\vec{z} \\mid \\theta) P(\\theta \\mid \\vec{\\alpha}) d \\theta \\\\\n",
    "&=\\int \\theta^{k}(1-\\theta)^{n-k} \\operatorname{Beta}(\\theta \\mid \\vec{\\alpha}) d \\theta \\\\\n",
    "&=\\int \\theta^{k}(1-\\theta)^{n-k} \\frac{1}{Beta\\left(\\alpha_{1}, \\alpha_{2}\\right)} \\theta^{\\alpha_{1}-1}(1-\\theta)^{\\alpha_{2}-1} d \\theta \\\\\n",
    "&=\\frac{1}{Beta\\left(\\alpha_{1}, \\alpha_{2}\\right)} \\int \\theta^{k}(1-\\theta)^{n-k} \\theta^{\\alpha_{1}-1}(1-\\theta)^{\\alpha_{2}-1} d \\theta \\\\\n",
    "&=\\frac{Beta\\left(\\alpha_{1}+k, \\alpha_{2}+n-k\\right)}{Beta\\left(\\alpha_{1}, \\alpha_{2}\\right)}\n",
    "\\end{aligned}\n",
    "$$"
   ]
  },
  {
   "cell_type": "markdown",
   "metadata": {},
   "source": [
    "+ $\\theta$ 的合理取值 可以是后验分布的极大值点(极大似然估计)或者参数在后验分布下的期望(矩估计），此处取期望为参数的取值\n",
    "$\\theta=E\\left(B e t a\\left(\\theta \\mid a_{1}+k, a_{2}+n-k\\right)\\right)=\\frac{a_{1}+k}{\\left(a_{1}+k\\right)+\\left(a_{2}+n-k\\right)}$"
   ]
  },
  {
   "cell_type": "markdown",
   "metadata": {},
   "source": [
    "+ $n_{1}$ 和 $n_{2}$ 分别表示使用硬币B和硬币C的次数。。 如果已知每次观测结果来自哪枚硬币，任何两次观测结果都是可交换的，将来自同一枚 币的观测结果放在一起\n",
    "$$\n",
    "\\begin{array}{l}\n",
    "\\vec{x}^{\\prime}=\\left(\\vec{x}_{B}, \\vec{x}_{C}\\right) \\\\\n",
    "\\vec{z}^{\\prime}=\\left(\\vec{z}_{B}, \\vec{z}_{C}\\right)\n",
    "\\end{array}\n",
    "$$\n",
    "+ 同上可知，对于来自硬币k的观测结果，同上 $P\\left(\\vec{x}_{k} \\mid \\phi_{k}\\right) \\sim B\\left(n_{k}, \\phi_{k}\\right),$ 参数 $\\phi_{k} \\sim$\n",
    "$\\operatorname{Beta}\\left(\\phi_{k} \\mid \\vec{\\beta}_{k}\\right),$ 组成二项-Beta共轭分布，则后验分布：\n",
    "$$\n",
    "\\begin{aligned}\n",
    "P\\left(\\boldsymbol{\\phi}_{k} \\mid \\vec{x}_{k}\\right) & \\sim \\operatorname{Beta}\\left(\\boldsymbol{\\phi}_{k}\\left|\\boldsymbol{\\beta}_{k, 1}+n_{k, 1}, \\boldsymbol{\\phi}_{k}\\right| \\boldsymbol{\\beta}_{k, 2}+n_{k, 2}\\right) \\\\\n",
    "P\\left(\\vec{x}_{k} \\mid \\vec{z}_{k}, \\vec{\\beta}_{k}\\right) &=\\frac{B\\left(\\beta_{k, 1}+n_{k, 1}, \\beta_{k, 2}+n_{k, 2}\\right)}{B\\left(\\beta_{k, 1}, \\beta_{k, 2}\\right)} \\quad k \\in\\{B, C\\}\n",
    "\\end{aligned}\n",
    "$$\n",
    "+ $n_{k, 1} 、 n_{k, 2}$ 分别是k硬币出现正反面的次数\n",
    "\n",
    "+ 参数的值为：\n",
    "$$\n",
    "\\phi_{k}=\\frac{\\beta_{k, 1}+n_{k, 1}}{\\left(\\beta_{k, 1}+n_{k, 1}\\right)+\\left(\\beta_{k, 2}+n_{k, 2}\\right)}\n",
    "$$"
   ]
  },
  {
   "cell_type": "markdown",
   "metadata": {},
   "source": [
    "因此有\n",
    "$$\n",
    "\\begin{aligned}\n",
    "P(\\vec{x} \\mid \\vec{z}, \\vec{\\beta}) &=P\\left(\\vec{x}^{\\prime} \\mid \\vec{z}^{\\prime}, \\vec{\\beta}^{\\prime}\\right) \\\\\n",
    "&=P\\left(\\vec{x}_{B}, \\vec{x}_{C} \\mid \\vec{z}_{B}, \\vec{z}_{C}, \\vec{\\beta}_{B}, \\vec{\\beta}_{C}\\right) \\\\\n",
    "&=P\\left(\\vec{x}_{B} \\mid \\vec{z}_{B}, \\vec{\\beta}_{B}\\right) P\\left(\\vec{x}_{C} \\mid \\vec{z}_{C}, \\vec{\\beta}_{C}\\right) \\\\\n",
    "&=\\frac{Beta\\left(\\beta_{B, 1}+k_{B}, \\beta_{B, 2}+n_{B}-k_{B}\\right)}{Beta\\left(\\beta_{B, 1}, \\beta_{B, 2}\\right)} \\frac{Beta\\left(\\beta_{C, 1}+k_{C}, \\beta_{C, 2}+n_{C}-k_{C}\\right)}{Beta\\left(\\beta_{C, 1}, \\beta_{C, 2}\\right)}\n",
    "\\end{aligned}\n",
    "$$\n",
    "结合以上公式，可以得到如下联合概率分布\n",
    "$$\n",
    "p(\\vec{x}, \\vec{z} \\mid \\vec{a}, \\vec{\\beta})=p(\\vec{z} \\mid \\vec{a}) p(\\vec{x} \\mid \\vec{z}, \\vec{\\beta})=\\frac{Beta\\left(a_{1}+k, a_{2}+n-k\\right)}{Beta\\left(a_{1}, a_{2}\\right)} \\frac{Beta\\left(\\beta_{B, 1}+k_{B}, \\beta_{B, 2}+n_{B}-k_{B}\\right)}{Beta\\left(\\beta_{B, 1}, \\beta_{B, 2}\\right)}\\frac{Beta\\left(\\beta_{C, 1}+k_{C}, \\beta_{C, 2}+n_{C}-k_{C}\\right)}{Beta\\left(\\beta_{C, 1}, \\beta_{C, 2}\\right)}\n",
    "$$"
   ]
  },
  {
   "cell_type": "code",
   "execution_count": 1,
   "metadata": {},
   "outputs": [],
   "source": [
    "### Gibbs 采样"
   ]
  },
  {
   "cell_type": "markdown",
   "metadata": {},
   "source": [
    "https://blog.csdn.net/ChuQiDeCha/article/details/88411294"
   ]
  },
  {
   "cell_type": "code",
   "execution_count": 2,
   "metadata": {},
   "outputs": [
    {
     "name": "stdout",
     "output_type": "stream",
     "text": [
      "0.4166666666666667\n",
      "0.6\n",
      "0.42857142857142855\n"
     ]
    }
   ],
   "source": [
    "import random\n",
    "\n",
    "K = 2 #最终观测结果来自的硬币个数\n",
    "V = 1 #观测结果的取值个数（0,1）\n",
    "\n",
    "X = [1,1,1,1,1,1,0,0,0,0] #观测结果\n",
    "N = len(X) #观测次数\n",
    "Z= [0] * N #每次观测结果对应的硬币编号\n",
    "\n",
    "nz=[0,0] #cnz[i]硬币A掷出i面的次数（使用硬币i的次数）\n",
    "nxz=[[0,0],[0,0]] #nzx[i][j] 观测结果为i来自j硬币的次数\n",
    "nxsum = N #观测总次数\n",
    "p=[0,0] #gibbs采样条件概率分布\n",
    "\n",
    "\n",
    "alpha = 1 #硬币A Beta分布的 alpha、beta超参数,这里直接取<1,1>\n",
    "beta=1  #硬币i Beta分布的 alpha、beta超参数,这里直接取<1,1>\n",
    "\n",
    "max_iter = 100 #迭代次数\n",
    "\n",
    "def init_params():\n",
    "    # 对Z进行随机初始化\n",
    "    for i in range(N) :\n",
    "        prob = random.random()\n",
    "        if prob > 0.5:\n",
    "            Z[i] = 1\n",
    "        else:\n",
    "            Z[i] = 0\n",
    "    # 统计\n",
    "    for x,z in zip(X,Z):\n",
    "        nxz[x][z] += 1\n",
    "        nz[z] += 1\n",
    "\n",
    "def sample():\n",
    "    for cur_iter in range(max_iter):\n",
    "        for i,x in enumerate(X,0):\n",
    "            #去除观测结果i之后的计数\n",
    "            z = Z[i]\n",
    "            nz[z] -= 1\n",
    "            nxz[x][z] -= 1\n",
    "            global nxsum\n",
    "            nxsum -= 1\n",
    "            \n",
    "            #计算条件分布\n",
    "            for k in range(K):\n",
    "                p[k] = (nxz[x][k] + beta)/(nz[k] +  V * beta)*(nz[k] + alpha)/(nxsum + K * alpha)\n",
    "            \n",
    "            #采样\n",
    "            for k in range(1,K):\n",
    "                p[k] = p[k-1] + p[k] \n",
    "            prob = random.random() * p[-1] #这里要进行归一化\n",
    "            for k in range(K):\n",
    "                if prob < p[k]:\n",
    "                    z = k \n",
    "                    break\n",
    "\t\t\t\n",
    "            nz[z] += 1\n",
    "            nxz[x][z] += 1\n",
    "            nxsum += 1\n",
    "            Z[i] = z\n",
    "init_params()\n",
    "sample()\n",
    "\n",
    "print((nz[1] + alpha)/(nxsum + K * alpha)) #硬币A正面朝上的概率\n",
    "print((nxz[1][1] + beta)/(nz[1] +  V * beta)) #硬币B正面朝上的概率\n",
    "print((nxz[0][1] + beta)/(nz[0] +  V * beta)) #硬币C正面朝上的概率"
   ]
  },
  {
   "cell_type": "code",
   "execution_count": null,
   "metadata": {},
   "outputs": [],
   "source": []
  }
 ],
 "metadata": {
  "interpreter": {
   "hash": "d157ae46664ef61827425b1700af4733ccc165bd48e667b428e957754f1cdd7e"
  },
  "kernelspec": {
   "display_name": "Python 3.6.13 64-bit ('env_bot': conda)",
   "name": "python3"
  },
  "language_info": {
   "codemirror_mode": {
    "name": "ipython",
    "version": 3
   },
   "file_extension": ".py",
   "mimetype": "text/x-python",
   "name": "python",
   "nbconvert_exporter": "python",
   "pygments_lexer": "ipython3",
   "version": "3.9.7"
  },
  "orig_nbformat": 2
 },
 "nbformat": 4,
 "nbformat_minor": 2
}
