{
 "cells": [
  {
   "cell_type": "markdown",
   "metadata": {},
   "source": [
    "https://www.cnblogs.com/pinard/p/6912636.html\n",
    "\n",
    "https://docs.scipy.org/doc/scipy-0.14.0/reference/generated/scipy.stats.binom.html"
   ]
  },
  {
   "cell_type": "markdown",
   "metadata": {},
   "source": [
    "$\\Theta(g+1)=\\underset{\\theta}{\\arg \\max }\\left(\\int_{z} \\log (p(X, Z \\mid \\theta)) p\\left(Z \\mid X, \\Theta^{(g)}\\right)\\right) \\mathrm{d} z$"
   ]
  },
  {
   "cell_type": "code",
   "execution_count": 1,
   "metadata": {
    "tags": []
   },
   "outputs": [],
   "source": [
    "# em 硬币 demo\n",
    "# https://gitbook.cn/gitchat/column/5ebce48bb0115851722011b3/topic/5ec15f0f1a34fa16c60d9e1f\n",
    "import numpy as np\n",
    "from scipy.stats import binom\n",
    "\n",
    "\n",
    "#一轮迭代处理\n",
    "def single_iter(theta_priors, observations):\n",
    "    \"\"\"\n",
    "    param observations：五组试验的观测值\n",
    "    param theta_priors：上一轮迭代形成的 theta_A 和 theta_B\n",
    "    \"\"\"\n",
    "    counts = {'A': {'H': 0, 'T': 0}, 'B': {'H': 0, 'T': 0}}\n",
    "    theta_A = theta_priors[0]\n",
    "    theta_B = theta_priors[1]\n",
    "\n",
    "    #迭代计算每组试验的数据\n",
    "    for observation in observations:\n",
    "        len_observation = len(observation)\n",
    "        num_heads = observation.sum()\n",
    "        num_tails = len_observation-num_heads\n",
    "\n",
    "        # 由上一步 获得 theta 的 先验概率\n",
    "        # 计算 P(\\theta)\n",
    "        # 二项分布\n",
    "        P_A = binom.pmf(num_heads, len_observation, theta_A) # 正面朝上次数， 观测次数， 上一步 A 硬币正面朝上的概率 ==》 硬币 A 正面朝上 出现次数为 num_heads 的概率\n",
    "        P_B = binom.pmf(num_heads, len_observation, theta_B) # 正面朝上次数， 观测次数， 上一步 B 硬币正面朝上的概率 ==》 硬币 B 正面朝上 出现次数为 num_heads 的概率\n",
    "\n",
    "        # 当 正面出现次数为 num_heads 时, 计算出硬币 A 和硬币 B 各自出现的概率\n",
    "        weight_A = P_A / (P_A + P_B)\n",
    "        weight_B = P_B / (P_A + P_B)\n",
    "\n",
    "        # 更新在当前硬币 A 和硬币 B 各自出现的概率下，硬币 A 和硬币 B 各自的正反面次数\n",
    "        # 计算 P(x|\\theta)\n",
    "        counts['A']['H'] += weight_A * num_heads # 正面\n",
    "        counts['A']['T'] += weight_A * num_tails # 反面\n",
    "        counts['B']['H'] += weight_B * num_heads # 正面\n",
    "        counts['B']['T'] += weight_B * num_tails # 反面\n",
    "\n",
    "    #重新估计新一轮的硬币 A 和硬币 B 正面向上的概率\n",
    "    new_theta_A = counts['A']['H'] / (counts['A']['H'] + counts['A']['T'])\n",
    "    new_theta_B = counts['B']['H'] / (counts['B']['H'] + counts['B']['T'])\n",
    "    return [new_theta_A,new_theta_B]"
   ]
  },
  {
   "cell_type": "code",
   "execution_count": 2,
   "metadata": {},
   "outputs": [
    {
     "name": "stdout",
     "output_type": "stream",
     "text": [
      "迭代结束，总共迭代轮数36\n",
      "最终估计的参数[0.72225028549926, 0.555438089938483]\n"
     ]
    }
   ],
   "source": [
    "observations = np.array([[1,0,0,0,1,1,0,1,0,1],\n",
    "                            [1,1,1,1,0,1,1,1,0,1],\n",
    "                            [1,0,1,1,1,1,1,0,1,1],\n",
    "                            [1,0,1,0,0,0,1,1,0,0],\n",
    "                            [0,1,1,1,0,1,1,1,0,1]])\n",
    "\n",
    "prior = [0.6, 0.5] #设定初始的参数值\n",
    "iteration = 0\n",
    "iterations = 10000 #最多的迭代次数\n",
    "tol = 1e-6         #判断参数收敛的阈值\n",
    "while iteration < iterations:\n",
    "    new_prior = single_iter(prior,observations)\n",
    "    delta_change = np.abs(prior[0] - new_prior[0])\n",
    "    if delta_change < tol:\n",
    "        break\n",
    "    else:\n",
    "        prior = new_prior\n",
    "        iteration += 1\n",
    "\n",
    "print('迭代结束，总共迭代轮数{}'.format(iteration))\n",
    "print('最终估计的参数{}'.format(new_prior))"
   ]
  },
  {
   "cell_type": "code",
   "execution_count": null,
   "metadata": {},
   "outputs": [],
   "source": []
  }
 ],
 "metadata": {
  "kernelspec": {
   "display_name": "Python 3.6.12 64-bit",
   "metadata": {
    "interpreter": {
     "hash": "924e982aa35647671d532067362c404d46a8ac2454bd352a04b64eb0c32438d5"
    }
   },
   "name": "python3"
  },
  "language_info": {
   "codemirror_mode": {
    "name": "ipython",
    "version": 3
   },
   "file_extension": ".py",
   "mimetype": "text/x-python",
   "name": "python",
   "nbconvert_exporter": "python",
   "pygments_lexer": "ipython3",
   "version": "3.6.12-final"
  },
  "orig_nbformat": 2
 },
 "nbformat": 4,
 "nbformat_minor": 2
}
