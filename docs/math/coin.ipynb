{
 "cells": [
  {
   "cell_type": "markdown",
   "metadata": {},
   "source": [
    "https://www.freesion.com/article/45941143967/"
   ]
  },
  {
   "cell_type": "code",
   "execution_count": 1,
   "metadata": {},
   "outputs": [
    {
     "name": "stdout",
     "output_type": "stream",
     "text": [
      "ξ =  10*X10 + 20*X20 + 50*X50\n",
      "η =  X10*X20*(1 - X50) + X10*X50*(1 - X20) + X20*X50*(1 - X10)\n",
      "160/3\n"
     ]
    }
   ],
   "source": [
    "# Do it by sympy\n",
    "# 上述推导公式，直接可以用数学符号语言，在Sympy中计算。\n",
    "import sympy as S\n",
    "X10,X20,X50 = S.symbols(\"X10,X20,X50\",real=True)\n",
    "\n",
    "xi = 10*X10+20*X20+50*X50\n",
    "print(\"ξ = \",xi)\n",
    "eta = X10*X20*(1-X50)+X10*(1-X20)*(X50)+(1-X10)*X20*(X50)\n",
    "print(\"η = \",eta)\n",
    "\n",
    "num=S.summation(xi*eta,(X10,0,1),(X20,0,1),(X50,0,1))\n",
    "\n",
    "den=S.summation(eta*eta,(X10,0,1),(X20,0,1),(X50,0,1))\n",
    "\n",
    "alpha=num/den\n",
    "\n",
    "print(alpha)"
   ]
  },
  {
   "cell_type": "code",
   "execution_count": 2,
   "metadata": {},
   "outputs": [
    {
     "data": {
      "text/plain": [
       "53.39670637925702"
      ]
     },
     "execution_count": 2,
     "metadata": {},
     "output_type": "execute_result"
    }
   ],
   "source": [
    "# 注：做1000次试验（蒙特卡罗仿真），然后计算试验的均值。计算结果近似于推导结果。\n",
    "# Do it by pandas\n",
    "import pandas as pd\n",
    "import numpy as np\n",
    "d = pd.DataFrame(columns=['X10','X20','X50'])\n",
    "ntest = 10**6\n",
    "d.X10 = np.random.randint(0,2,ntest)\n",
    "d.X10 = np.random.randint(0,2,ntest)\n",
    "d.X20 = np.random.randint(0,2,ntest)\n",
    "d.X50 = np.random.randint(0,2,ntest)\n",
    "\n",
    "grp=d.groupby(d.eval('X10+X20+X50'))\n",
    "grp.get_group(2).eval('10*X10+20*X20+50*X50').mean()"
   ]
  },
  {
   "cell_type": "code",
   "execution_count": 3,
   "metadata": {},
   "outputs": [
    {
     "name": "stdout",
     "output_type": "stream",
     "text": [
      "53.298776948921514\n"
     ]
    }
   ],
   "source": [
    "# Do it by numpy\n",
    "import numpy as np\n",
    "from numpy import array\n",
    "ntest = 10**6\n",
    "x=np.random.randint(0,2,(3,ntest)) \n",
    "\n",
    "expectation =np.dot(x[:,x.sum(axis=0)==2].T,array([10,20,50])).mean()\n",
    "\n",
    "print(expectation)"
   ]
  },
  {
   "cell_type": "code",
   "execution_count": 4,
   "metadata": {},
   "outputs": [
    {
     "name": "stdout",
     "output_type": "stream",
     "text": [
      "[(0, 0, 0), (0, 0, 1), (0, 1, 0), (0, 1, 1), (1, 0, 0), (1, 0, 1), (1, 1, 0), (1, 1, 1)]\n",
      "[(0, 1, 1), (1, 0, 1), (1, 1, 0)]\n",
      "[70, 60, 30]\n",
      "53.333333333333336\n"
     ]
    }
   ],
   "source": [
    "#do it by pure python\n",
    "import itertools as it\n",
    "Xi = list(it.product((0,1),(0,1),(0,1)))               #笛卡尔乘积函数 初始化 - 所有掷硬币的事件 8种情况，三个硬币，每个硬币只有正面和反面\n",
    "\n",
    "Xi_conditioned = list(it.filterfalse(lambda i:sum(i)!=2,Xi)) #过滤 只有两个硬币正面朝上的事件，只有三个事件\n",
    "\n",
    "results = list((map(lambda k:10*k[0]+20*k[1]+50*k[2],Xi_conditioned)))\n",
    "dem = len(results)\n",
    "num = sum(results)\n",
    "\n",
    "print(Xi)\n",
    "print(Xi_conditioned)\n",
    "print(results)\n",
    "print(num/dem)"
   ]
  }
 ],
 "metadata": {
  "interpreter": {
   "hash": "d20345af9713ebff8c68be7a4bc786792663d50f698c1c39eb248438a08adbaa"
  },
  "kernelspec": {
   "display_name": "Python 3.9.7 ('base')",
   "language": "python",
   "name": "python3"
  },
  "language_info": {
   "codemirror_mode": {
    "name": "ipython",
    "version": 3
   },
   "file_extension": ".py",
   "mimetype": "text/x-python",
   "name": "python",
   "nbconvert_exporter": "python",
   "pygments_lexer": "ipython3",
   "version": "3.9.7"
  },
  "orig_nbformat": 4
 },
 "nbformat": 4,
 "nbformat_minor": 2
}
