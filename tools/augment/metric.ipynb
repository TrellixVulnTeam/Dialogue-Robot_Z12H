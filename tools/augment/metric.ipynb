{
 "nbformat": 4,
 "nbformat_minor": 2,
 "metadata": {
  "language_info": {
   "name": "python",
   "codemirror_mode": {
    "name": "ipython",
    "version": 3
   }
  },
  "orig_nbformat": 2,
  "file_extension": ".py",
  "mimetype": "text/x-python",
  "name": "python",
  "npconvert_exporter": "python",
  "pygments_lexer": "ipython3",
  "version": 3
 },
 "cells": [
  {
   "cell_type": "markdown",
   "metadata": {},
   "source": [
    "# Metric of Data Augment\n",
    "## 人工检查\n",
    "+ Adequacy\n",
    "+ Fluency\n",
    "+ Readability\n",
    "+ Variation\n",
    "## 自动检查\n",
    "+ BLEU\n",
    "+ METEOR\n",
    "+ ROUGE\n",
    "## 模型效果提升\n",
    "+ 分类\n",
    "+ NER "
   ]
  }
 ]
}