{
 "cells": [
  {
   "cell_type": "code",
   "execution_count": null,
   "source": [
    "from gensim.models import Word2Vec\n",
    "from gensim.models import KeyedVectors\n",
    "\n",
    "sentences = ['123456789', 'abcdef', 'ghizklmn', 'opqrst', '98765432'] * 100\n",
    "\n",
    "# Train and save the model\n",
    "model = Word2Vec(size=100, window=4, min_count=5, workers=4)\n",
    "model.build_vocab(sentences)\n",
    "model.train(sentences, total_examples=model.corpus_count, epochs=50)\n",
    "model.save('word-vectors.bin')\n",
    "\n",
    "...\n",
    "\n",
    "# Later in another script: load and continue training\n",
    "model = Word2Vec.load('word-vectors.bin')\n",
    "model.train(sentences, total_examples=model.corpus_count, epochs=50)\n",
    "\n",
    "print(model)"
   ],
   "outputs": [],
   "metadata": {}
  }
 ],
 "metadata": {
  "orig_nbformat": 4,
  "language_info": {
   "name": "python"
  }
 },
 "nbformat": 4,
 "nbformat_minor": 2
}